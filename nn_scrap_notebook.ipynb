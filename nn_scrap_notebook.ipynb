{
 "cells": [
  {
   "cell_type": "code",
   "execution_count": 1,
   "metadata": {},
   "outputs": [],
   "source": [
    "%load_ext autoreload\n",
    "%autoreload 2\n",
    "\n",
    "import pandas as pd\n",
    "import numpy as np\n",
    "from data import CleanedData\n",
    "from models import nn\n",
    "import sklearn.metrics\n",
    "import torch\n",
    "import sklearn.metrics\n",
    "import matplotlib.pyplot as plt\n",
    "\n",
    "\n",
    "# For Adaboost\n",
    "from sklearn.metrics import confusion_matrix, ConfusionMatrixDisplay\n",
    "from sklearn.model_selection import train_test_split\n",
    "from sklearn.tree import DecisionTreeClassifier\n",
    "from sklearn.ensemble import AdaBoostClassifier\n",
    "import pickle\n",
    "\n",
    "# For KNN\n",
    "from sklearn.neighbors import KNeighborsClassifier\n",
    "\n",
    "import torch\n",
    "import numpy as np\n",
    "\n",
    "from torch.utils.data import Dataset, DataLoader\n",
    "import torch.nn.functional as F\n",
    "import torch.optim as optim\n",
    "from sklearn.metrics import recall_score\n",
    "import pandas as pd\n",
    "import numpy as np\n",
    "import torch.nn\n",
    "import torch\n",
    "import tqdm\n",
    "import optuna"
   ]
  },
  {
   "cell_type": "code",
   "execution_count": 2,
   "metadata": {},
   "outputs": [
    {
     "name": "stderr",
     "output_type": "stream",
     "text": [
      "/opt/miniconda3/envs/cmpt353/lib/python3.8/site-packages/sklearn/utils/validation.py:72: DataConversionWarning: A column-vector y was passed when a 1d array was expected. Please change the shape of y to (n_samples, ), for example using ravel().\n",
      "  return f(**kwargs)\n"
     ]
    }
   ],
   "source": [
    "data = CleanedData(loc='./data/joined.csv', test_ratio=0.2, impute_data=True, convert_non_numerical=True, normalize_data=True, drop_columns=['source', 'Last_Update','province','country','latitude', 'longitude'])"
   ]
  },
  {
   "cell_type": "code",
   "execution_count": 77,
   "metadata": {},
   "outputs": [],
   "source": [
    "\n",
    "def objective(trial):\n",
    "    global data\n",
    "    i = 0\n",
    "    first_layer = trial.suggest_int('first_layer', 20, 250)\n",
    "    second_layer = trial.suggest_int('second_layer', 1, 200)\n",
    "    activation_1 = trial.suggest_categorical('activation1', ['relu',])\n",
    "    activation_2 = trial.suggest_categorical('activation2', ['sigmoid',])\n",
    "    lr = trial.suggest_float('lr', 1e-5, 1e-1, log=True)\n",
    "    acc = 0\n",
    "    old_recall = np.zeros(4)\n",
    "    old_overal_recall = np.zeros(4)\n",
    "    for epoch, (X_train, y_train, X_val, y_val) in enumerate(data.kfold_data):\n",
    "        train_dataloader = nn.load_data(X_train, y_train)\n",
    "        val_dataloader = nn.load_data(X_val, y_val, len(y_val), train=False)\n",
    "        optimizer.zero_grad()\n",
    "        model = nn.network(first_layer, second_layer, activation_1, activation_2)\n",
    "        criterion = torch.nn.CrossEntropyLoss()\n",
    "        optimizer = optim.Adam(model.parameters(), lr=lr)\n",
    "        for i in range(20):\n",
    "            for batch_idx, (X, y) in enumerate(train_dataloader):\n",
    "                model.train()\n",
    "                y_hat = model(X)\n",
    "                loss = criterion(y_hat, y.long())\n",
    "                loss.backward()\n",
    "                optimizer.step()\n",
    "                optimizer.zero_grad()\n",
    "            for val_x, val_y in val_dataloader:\n",
    "                model.eval()\n",
    "                y_h = model(val_x)\n",
    "                overal_recall = recall_score(val_y.numpy(), torch.argmax(torch.softmax(y_h,dim=1), dim=1).numpy(), average=None,zero_division=0)\n",
    "                old_overal_recall = np.sum([overal_recall, old_overal_recall], axis=0)\n",
    "                i+=1\n",
    "            trial.report(old_overal_recall[0]/i, epoch)\n",
    "            trial.set_user_attr('overall recall', old_overal_recall/i)\n",
    "            if trial.should_prune():\n",
    "                raise optuna.exceptions.TrialPruned()\n",
    "    print(old_overal_recall/i)\n",
    "    return old_overal_recall[0]/i"
   ]
  },
  {
   "cell_type": "code",
   "execution_count": 78,
   "metadata": {
    "scrolled": true
   },
   "outputs": [
    {
     "name": "stderr",
     "output_type": "stream",
     "text": [
      "\u001b[32m[I 2020-12-15 00:15:23,396]\u001b[0m A new study created in memory with name: no-name-3d1851c0-dd7f-4aef-be16-b8f9d6f57a0a\u001b[0m\n",
      "\u001b[32m[I 2020-12-15 00:19:56,452]\u001b[0m Trial 0 finished with value: 0.0 and parameters: {'first_layer': 186, 'second_layer': 52, 'activation1': 'relu', 'activation2': 'sigmoid', 'lr': 0.08397629924649405}. Best is trial 0 with value: 0.0.\u001b[0m\n"
     ]
    },
    {
     "name": "stdout",
     "output_type": "stream",
     "text": [
      "[0. 0. 4. 0.]\n"
     ]
    },
    {
     "name": "stderr",
     "output_type": "stream",
     "text": [
      "\u001b[32m[I 2020-12-15 00:24:26,309]\u001b[0m Trial 1 finished with value: 0.0 and parameters: {'first_layer': 237, 'second_layer': 48, 'activation1': 'relu', 'activation2': 'sigmoid', 'lr': 1.0267366558207516e-05}. Best is trial 0 with value: 0.0.\u001b[0m\n"
     ]
    },
    {
     "name": "stdout",
     "output_type": "stream",
     "text": [
      "[0.         2.32177456 3.99714225 0.        ]\n"
     ]
    },
    {
     "name": "stderr",
     "output_type": "stream",
     "text": [
      "\u001b[32m[I 2020-12-15 00:28:51,861]\u001b[0m Trial 2 finished with value: 0.0 and parameters: {'first_layer': 141, 'second_layer': 48, 'activation1': 'relu', 'activation2': 'sigmoid', 'lr': 0.02416859009435577}. Best is trial 0 with value: 0.0.\u001b[0m\n"
     ]
    },
    {
     "name": "stdout",
     "output_type": "stream",
     "text": [
      "[0. 0. 4. 0.]\n"
     ]
    },
    {
     "name": "stderr",
     "output_type": "stream",
     "text": [
      "\u001b[32m[I 2020-12-15 00:33:22,594]\u001b[0m Trial 3 finished with value: 0.0 and parameters: {'first_layer': 38, 'second_layer': 155, 'activation1': 'relu', 'activation2': 'sigmoid', 'lr': 0.004195554958135327}. Best is trial 0 with value: 0.0.\u001b[0m\n"
     ]
    },
    {
     "name": "stdout",
     "output_type": "stream",
     "text": [
      "[0.         1.2443246  3.99200912 0.21292398]\n"
     ]
    },
    {
     "name": "stderr",
     "output_type": "stream",
     "text": [
      "\u001b[32m[I 2020-12-15 00:37:44,725]\u001b[0m Trial 4 finished with value: 0.0 and parameters: {'first_layer': 125, 'second_layer': 95, 'activation1': 'relu', 'activation2': 'sigmoid', 'lr': 4.0135814076133464e-05}. Best is trial 0 with value: 0.0.\u001b[0m\n"
     ]
    },
    {
     "name": "stdout",
     "output_type": "stream",
     "text": [
      "[0.         2.05133545 3.99910394 0.59969004]\n"
     ]
    },
    {
     "name": "stderr",
     "output_type": "stream",
     "text": [
      "\u001b[32m[I 2020-12-15 00:41:54,644]\u001b[0m Trial 5 finished with value: 0.0 and parameters: {'first_layer': 57, 'second_layer': 71, 'activation1': 'relu', 'activation2': 'sigmoid', 'lr': 0.0002291046051095511}. Best is trial 0 with value: 0.0.\u001b[0m\n"
     ]
    },
    {
     "name": "stdout",
     "output_type": "stream",
     "text": [
      "[0.         1.45722046 3.99804148 0.46639991]\n"
     ]
    },
    {
     "name": "stderr",
     "output_type": "stream",
     "text": [
      "\u001b[32m[I 2020-12-15 00:46:02,815]\u001b[0m Trial 6 finished with value: 0.0 and parameters: {'first_layer': 41, 'second_layer': 116, 'activation1': 'relu', 'activation2': 'sigmoid', 'lr': 0.02502667428261653}. Best is trial 0 with value: 0.0.\u001b[0m\n"
     ]
    },
    {
     "name": "stdout",
     "output_type": "stream",
     "text": [
      "[0.         0.54472415 3.96151435 0.        ]\n"
     ]
    },
    {
     "name": "stderr",
     "output_type": "stream",
     "text": [
      "\u001b[32m[I 2020-12-15 00:50:34,404]\u001b[0m Trial 7 finished with value: 0.0 and parameters: {'first_layer': 134, 'second_layer': 114, 'activation1': 'relu', 'activation2': 'sigmoid', 'lr': 0.06779158081530395}. Best is trial 0 with value: 0.0.\u001b[0m\n"
     ]
    },
    {
     "name": "stdout",
     "output_type": "stream",
     "text": [
      "[0.         0.26472336 3.97543242 0.        ]\n"
     ]
    },
    {
     "name": "stderr",
     "output_type": "stream",
     "text": [
      "\u001b[32m[I 2020-12-15 00:56:17,164]\u001b[0m Trial 8 finished with value: 0.006799999999999999 and parameters: {'first_layer': 225, 'second_layer': 90, 'activation1': 'relu', 'activation2': 'sigmoid', 'lr': 0.00041867725410769864}. Best is trial 8 with value: 0.006799999999999999.\u001b[0m\n"
     ]
    },
    {
     "name": "stdout",
     "output_type": "stream",
     "text": [
      "[0.0068     1.37853839 3.99688301 1.30239758]\n"
     ]
    },
    {
     "name": "stderr",
     "output_type": "stream",
     "text": [
      "\u001b[32m[I 2020-12-15 01:00:52,913]\u001b[0m Trial 9 finished with value: 0.0 and parameters: {'first_layer': 175, 'second_layer': 98, 'activation1': 'relu', 'activation2': 'sigmoid', 'lr': 0.017692644497226587}. Best is trial 8 with value: 0.006799999999999999.\u001b[0m\n"
     ]
    },
    {
     "name": "stdout",
     "output_type": "stream",
     "text": [
      "[0.         0.20027949 3.98701357 0.        ]\n"
     ]
    },
    {
     "name": "stderr",
     "output_type": "stream",
     "text": [
      "\u001b[32m[I 2020-12-15 01:05:11,765]\u001b[0m Trial 10 finished with value: 0.0 and parameters: {'first_layer': 250, 'second_layer': 4, 'activation1': 'relu', 'activation2': 'sigmoid', 'lr': 0.0004910971963981917}. Best is trial 8 with value: 0.006799999999999999.\u001b[0m\n"
     ]
    },
    {
     "name": "stdout",
     "output_type": "stream",
     "text": [
      "[0.         2.35568721 3.86475615 0.        ]\n"
     ]
    },
    {
     "name": "stderr",
     "output_type": "stream",
     "text": [
      "\u001b[32m[I 2020-12-15 01:09:35,247]\u001b[0m Trial 11 finished with value: 0.0 and parameters: {'first_layer': 207, 'second_layer': 17, 'activation1': 'relu', 'activation2': 'sigmoid', 'lr': 0.002476126681463952}. Best is trial 8 with value: 0.006799999999999999.\u001b[0m\n"
     ]
    },
    {
     "name": "stdout",
     "output_type": "stream",
     "text": [
      "[0. 0. 4. 0.]\n"
     ]
    },
    {
     "name": "stderr",
     "output_type": "stream",
     "text": [
      "\u001b[32m[I 2020-12-15 01:16:27,181]\u001b[0m Trial 12 finished with value: 0.0012000000000000001 and parameters: {'first_layer': 205, 'second_layer': 199, 'activation1': 'relu', 'activation2': 'sigmoid', 'lr': 0.00014981001580066446}. Best is trial 8 with value: 0.006799999999999999.\u001b[0m\n"
     ]
    },
    {
     "name": "stdout",
     "output_type": "stream",
     "text": [
      "[1.20000000e-03 1.30394237e+00 3.99837750e+00 7.86613625e-01]\n"
     ]
    },
    {
     "name": "stderr",
     "output_type": "stream",
     "text": [
      "\u001b[32m[I 2020-12-15 01:22:28,320]\u001b[0m Trial 13 finished with value: 0.0 and parameters: {'first_layer': 215, 'second_layer': 186, 'activation1': 'relu', 'activation2': 'sigmoid', 'lr': 0.00011432394001399427}. Best is trial 8 with value: 0.006799999999999999.\u001b[0m\n"
     ]
    },
    {
     "name": "stdout",
     "output_type": "stream",
     "text": [
      "[0.         1.43613282 3.99918395 0.964702  ]\n"
     ]
    },
    {
     "name": "stderr",
     "output_type": "stream",
     "text": [
      "\u001b[32m[I 2020-12-15 01:27:18,242]\u001b[0m Trial 14 finished with value: 0.0 and parameters: {'first_layer': 238, 'second_layer': 149, 'activation1': 'relu', 'activation2': 'sigmoid', 'lr': 5.381764315356948e-05}. Best is trial 8 with value: 0.006799999999999999.\u001b[0m\n"
     ]
    },
    {
     "name": "stdout",
     "output_type": "stream",
     "text": [
      "[0.         1.57128348 3.99877752 1.4051095 ]\n"
     ]
    },
    {
     "name": "stderr",
     "output_type": "stream",
     "text": [
      "\u001b[32m[I 2020-12-15 01:33:33,674]\u001b[0m Trial 15 finished with value: 0.0 and parameters: {'first_layer': 167, 'second_layer': 192, 'activation1': 'relu', 'activation2': 'sigmoid', 'lr': 0.0015366743272210756}. Best is trial 8 with value: 0.006799999999999999.\u001b[0m\n"
     ]
    },
    {
     "name": "stdout",
     "output_type": "stream",
     "text": [
      "[0.         2.05381936 3.99307476 0.57994095]\n"
     ]
    },
    {
     "name": "stderr",
     "output_type": "stream",
     "text": [
      "\u001b[32m[I 2020-12-15 01:37:31,839]\u001b[0m Trial 16 finished with value: 0.0 and parameters: {'first_layer': 92, 'second_layer': 145, 'activation1': 'relu', 'activation2': 'sigmoid', 'lr': 1.2566577273844457e-05}. Best is trial 8 with value: 0.006799999999999999.\u001b[0m\n"
     ]
    },
    {
     "name": "stdout",
     "output_type": "stream",
     "text": [
      "[0.00000000e+00 2.82932273e+00 3.99801269e+00 1.08420967e-03]\n"
     ]
    },
    {
     "name": "stderr",
     "output_type": "stream",
     "text": [
      "\u001b[32m[I 2020-12-15 01:42:39,957]\u001b[0m Trial 17 finished with value: 0.0 and parameters: {'first_layer': 211, 'second_layer': 76, 'activation1': 'relu', 'activation2': 'sigmoid', 'lr': 0.000447599595185569}. Best is trial 8 with value: 0.006799999999999999.\u001b[0m\n"
     ]
    },
    {
     "name": "stdout",
     "output_type": "stream",
     "text": [
      "[0.         1.4170449  3.99872632 0.36230068]\n"
     ]
    },
    {
     "name": "stderr",
     "output_type": "stream",
     "text": [
      "\u001b[32m[I 2020-12-15 01:47:23,859]\u001b[0m Trial 18 finished with value: 0.0 and parameters: {'first_layer': 192, 'second_layer': 174, 'activation1': 'relu', 'activation2': 'sigmoid', 'lr': 3.4113750737037196e-05}. Best is trial 8 with value: 0.006799999999999999.\u001b[0m\n"
     ]
    },
    {
     "name": "stdout",
     "output_type": "stream",
     "text": [
      "[0.         1.58245911 3.99896633 1.2321265 ]\n"
     ]
    },
    {
     "name": "stderr",
     "output_type": "stream",
     "text": [
      "\u001b[32m[I 2020-12-15 01:52:36,802]\u001b[0m Trial 19 finished with value: 0.0 and parameters: {'first_layer': 156, 'second_layer': 128, 'activation1': 'relu', 'activation2': 'sigmoid', 'lr': 0.0006696639562730452}. Best is trial 8 with value: 0.006799999999999999.\u001b[0m\n"
     ]
    },
    {
     "name": "stdout",
     "output_type": "stream",
     "text": [
      "[0.         1.2594918  3.99716142 1.08601631]\n"
     ]
    },
    {
     "name": "stderr",
     "output_type": "stream",
     "text": [
      "\u001b[32m[I 2020-12-15 01:57:32,739]\u001b[0m Trial 20 finished with value: 0.0 and parameters: {'first_layer': 227, 'second_layer': 76, 'activation1': 'relu', 'activation2': 'sigmoid', 'lr': 0.00015868391604535083}. Best is trial 8 with value: 0.006799999999999999.\u001b[0m\n"
     ]
    },
    {
     "name": "stdout",
     "output_type": "stream",
     "text": [
      "[0.         0.93125357 3.99903674 1.78332768]\n"
     ]
    },
    {
     "name": "stderr",
     "output_type": "stream",
     "text": [
      "\u001b[32m[I 2020-12-15 02:01:37,737]\u001b[0m Trial 21 finished with value: 0.0 and parameters: {'first_layer': 189, 'second_layer': 41, 'activation1': 'relu', 'activation2': 'sigmoid', 'lr': 0.004337449243355636}. Best is trial 8 with value: 0.006799999999999999.\u001b[0m\n"
     ]
    },
    {
     "name": "stdout",
     "output_type": "stream",
     "text": [
      "[0. 0. 4. 0.]\n"
     ]
    },
    {
     "name": "stderr",
     "output_type": "stream",
     "text": [
      "\u001b[32m[I 2020-12-15 02:06:14,952]\u001b[0m Trial 22 finished with value: 0.0 and parameters: {'first_layer': 197, 'second_layer': 29, 'activation1': 'relu', 'activation2': 'sigmoid', 'lr': 0.0002630461198726022}. Best is trial 8 with value: 0.006799999999999999.\u001b[0m\n"
     ]
    },
    {
     "name": "stdout",
     "output_type": "stream",
     "text": [
      "[0.         1.0899443  3.99921915 0.1685252 ]\n"
     ]
    },
    {
     "name": "stderr",
     "output_type": "stream",
     "text": [
      "\u001b[32m[I 2020-12-15 02:11:23,140]\u001b[0m Trial 23 finished with value: 0.0 and parameters: {'first_layer': 176, 'second_layer': 68, 'activation1': 'relu', 'activation2': 'sigmoid', 'lr': 0.0011359187328102338}. Best is trial 8 with value: 0.006799999999999999.\u001b[0m\n"
     ]
    },
    {
     "name": "stdout",
     "output_type": "stream",
     "text": [
      "[0.         1.17747554 3.99436765 0.2730572 ]\n"
     ]
    },
    {
     "name": "stderr",
     "output_type": "stream",
     "text": [
      "\u001b[32m[I 2020-12-15 02:16:02,420]\u001b[0m Trial 24 finished with value: 0.0 and parameters: {'first_layer': 248, 'second_layer': 59, 'activation1': 'relu', 'activation2': 'sigmoid', 'lr': 0.00010869759221957089}. Best is trial 8 with value: 0.006799999999999999.\u001b[0m\n"
     ]
    },
    {
     "name": "stdout",
     "output_type": "stream",
     "text": [
      "[0.         1.15810813 3.99923195 1.02851807]\n"
     ]
    },
    {
     "name": "stderr",
     "output_type": "stream",
     "text": [
      "\u001b[32m[I 2020-12-15 02:20:29,261]\u001b[0m Trial 25 finished with value: 0.0 and parameters: {'first_layer': 202, 'second_layer': 28, 'activation1': 'relu', 'activation2': 'sigmoid', 'lr': 0.0002937419568366951}. Best is trial 8 with value: 0.006799999999999999.\u001b[0m\n"
     ]
    },
    {
     "name": "stdout",
     "output_type": "stream",
     "text": [
      "[0.00000000e+00 1.06643573e+00 3.99954877e+00 1.63037387e-04]\n"
     ]
    },
    {
     "name": "stderr",
     "output_type": "stream",
     "text": [
      "\u001b[32m[I 2020-12-15 02:25:32,097]\u001b[0m Trial 26 finished with value: 0.0 and parameters: {'first_layer': 155, 'second_layer': 86, 'activation1': 'relu', 'activation2': 'sigmoid', 'lr': 0.0011134194471725813}. Best is trial 8 with value: 0.006799999999999999.\u001b[0m\n"
     ]
    },
    {
     "name": "stdout",
     "output_type": "stream",
     "text": [
      "[0.         0.98438404 3.99752625 0.69943708]\n"
     ]
    },
    {
     "name": "stderr",
     "output_type": "stream",
     "text": [
      "\u001b[32m[I 2020-12-15 02:29:58,742]\u001b[0m Trial 27 finished with value: 0.0 and parameters: {'first_layer': 226, 'second_layer': 118, 'activation1': 'relu', 'activation2': 'sigmoid', 'lr': 2.0285451281482252e-05}. Best is trial 8 with value: 0.006799999999999999.\u001b[0m\n"
     ]
    },
    {
     "name": "stdout",
     "output_type": "stream",
     "text": [
      "[0.         2.15470703 3.99923515 0.29736692]\n"
     ]
    },
    {
     "name": "stderr",
     "output_type": "stream",
     "text": [
      "\u001b[32m[I 2020-12-15 02:34:33,390]\u001b[0m Trial 28 finished with value: 0.0 and parameters: {'first_layer': 222, 'second_layer': 60, 'activation1': 'relu', 'activation2': 'sigmoid', 'lr': 8.896442391180892e-05}. Best is trial 8 with value: 0.006799999999999999.\u001b[0m\n"
     ]
    },
    {
     "name": "stdout",
     "output_type": "stream",
     "text": [
      "[0.         1.40649517 3.99912635 1.1678694 ]\n"
     ]
    },
    {
     "name": "stderr",
     "output_type": "stream",
     "text": [
      "\u001b[32m[I 2020-12-15 02:38:27,867]\u001b[0m Trial 29 finished with value: 0.0 and parameters: {'first_layer': 105, 'second_layer': 47, 'activation1': 'relu', 'activation2': 'sigmoid', 'lr': 0.006536298994335747}. Best is trial 8 with value: 0.006799999999999999.\u001b[0m\n"
     ]
    },
    {
     "name": "stdout",
     "output_type": "stream",
     "text": [
      "[0.         0.41898557 3.98847607 0.        ]\n"
     ]
    },
    {
     "name": "stderr",
     "output_type": "stream",
     "text": [
      "\u001b[32m[I 2020-12-15 02:44:04,718]\u001b[0m Trial 30 finished with value: 0.0 and parameters: {'first_layer': 250, 'second_layer': 90, 'activation1': 'relu', 'activation2': 'sigmoid', 'lr': 0.0006589045243752649}. Best is trial 8 with value: 0.006799999999999999.\u001b[0m\n"
     ]
    },
    {
     "name": "stdout",
     "output_type": "stream",
     "text": [
      "[0.         1.11925522 3.99742704 0.36594127]\n"
     ]
    },
    {
     "name": "stderr",
     "output_type": "stream",
     "text": [
      "\u001b[32m[I 2020-12-15 02:48:45,657]\u001b[0m Trial 31 finished with value: 0.0 and parameters: {'first_layer': 232, 'second_layer': 62, 'activation1': 'relu', 'activation2': 'sigmoid', 'lr': 7.465520643737161e-05}. Best is trial 8 with value: 0.006799999999999999.\u001b[0m\n"
     ]
    },
    {
     "name": "stdout",
     "output_type": "stream",
     "text": [
      "[0.         1.57336981 3.99935996 0.59402403]\n"
     ]
    },
    {
     "name": "stderr",
     "output_type": "stream",
     "text": [
      "\u001b[32m[I 2020-12-15 02:52:41,210]\u001b[0m Trial 32 finished with value: 0.0 and parameters: {'first_layer': 106, 'second_layer': 49, 'activation1': 'relu', 'activation2': 'sigmoid', 'lr': 0.012739502437791846}. Best is trial 8 with value: 0.006799999999999999.\u001b[0m\n"
     ]
    },
    {
     "name": "stdout",
     "output_type": "stream",
     "text": [
      "[0.         0.23788848 3.99887033 0.        ]\n"
     ]
    },
    {
     "name": "stderr",
     "output_type": "stream",
     "text": [
      "\u001b[32m[I 2020-12-15 02:57:43,475]\u001b[0m Trial 33 finished with value: 0.0 and parameters: {'first_layer': 163, 'second_layer': 130, 'activation1': 'relu', 'activation2': 'sigmoid', 'lr': 0.0001842682247098338}. Best is trial 8 with value: 0.006799999999999999.\u001b[0m\n"
     ]
    },
    {
     "name": "stdout",
     "output_type": "stream",
     "text": [
      "[0.         0.98281733 3.99928316 1.45213427]\n"
     ]
    },
    {
     "name": "stderr",
     "output_type": "stream",
     "text": [
      "\u001b[32m[I 2020-12-15 03:02:28,870]\u001b[0m Trial 34 finished with value: 0.0 and parameters: {'first_layer': 189, 'second_layer': 77, 'activation1': 'relu', 'activation2': 'sigmoid', 'lr': 0.002061951785990068}. Best is trial 8 with value: 0.006799999999999999.\u001b[0m\n"
     ]
    },
    {
     "name": "stdout",
     "output_type": "stream",
     "text": [
      "[0.         1.06710886 3.99685102 0.01029574]\n"
     ]
    },
    {
     "name": "stderr",
     "output_type": "stream",
     "text": [
      "\u001b[32m[I 2020-12-15 03:07:01,167]\u001b[0m Trial 35 finished with value: 0.0 and parameters: {'first_layer': 237, 'second_layer': 33, 'activation1': 'relu', 'activation2': 'sigmoid', 'lr': 0.003160618378903159}. Best is trial 8 with value: 0.006799999999999999.\u001b[0m\n"
     ]
    },
    {
     "name": "stdout",
     "output_type": "stream",
     "text": [
      "[0. 0. 4. 0.]\n"
     ]
    },
    {
     "name": "stderr",
     "output_type": "stream",
     "text": [
      "\u001b[32m[I 2020-12-15 03:11:07,019]\u001b[0m Trial 36 finished with value: 0.0 and parameters: {'first_layer': 199, 'second_layer': 30, 'activation1': 'relu', 'activation2': 'sigmoid', 'lr': 0.0063551470044594105}. Best is trial 8 with value: 0.006799999999999999.\u001b[0m\n"
     ]
    },
    {
     "name": "stdout",
     "output_type": "stream",
     "text": [
      "[0. 0. 4. 0.]\n"
     ]
    },
    {
     "name": "stderr",
     "output_type": "stream",
     "text": [
      "\u001b[32m[I 2020-12-15 03:15:03,143]\u001b[0m Trial 37 finished with value: 0.0 and parameters: {'first_layer': 185, 'second_layer': 7, 'activation1': 'relu', 'activation2': 'sigmoid', 'lr': 0.08591687616334841}. Best is trial 8 with value: 0.006799999999999999.\u001b[0m\n"
     ]
    },
    {
     "name": "stdout",
     "output_type": "stream",
     "text": [
      "[0.         0.         3.99940477 0.        ]\n"
     ]
    },
    {
     "name": "stderr",
     "output_type": "stream",
     "text": [
      "\u001b[32m[I 2020-12-15 03:19:05,592]\u001b[0m Trial 38 finished with value: 0.0 and parameters: {'first_layer': 146, 'second_layer': 19, 'activation1': 'relu', 'activation2': 'sigmoid', 'lr': 0.0002625353050664561}. Best is trial 8 with value: 0.006799999999999999.\u001b[0m\n"
     ]
    },
    {
     "name": "stdout",
     "output_type": "stream",
     "text": [
      "[0.00000000e+00 1.14671994e+00 3.98907770e+00 4.23901524e-04]\n"
     ]
    },
    {
     "name": "stderr",
     "output_type": "stream",
     "text": [
      "\u001b[32m[I 2020-12-15 03:24:57,550]\u001b[0m Trial 39 finished with value: 0.0 and parameters: {'first_layer': 215, 'second_layer': 105, 'activation1': 'relu', 'activation2': 'sigmoid', 'lr': 0.00033442344726243307}. Best is trial 8 with value: 0.006799999999999999.\u001b[0m\n"
     ]
    },
    {
     "name": "stdout",
     "output_type": "stream",
     "text": [
      "[0.         0.72445136 3.99865271 1.76248994]\n"
     ]
    },
    {
     "name": "stderr",
     "output_type": "stream",
     "text": [
      "\u001b[32m[I 2020-12-15 03:29:12,066]\u001b[0m Trial 40 finished with value: 0.0 and parameters: {'first_layer': 176, 'second_layer': 101, 'activation1': 'relu', 'activation2': 'sigmoid', 'lr': 0.033111420677443104}. Best is trial 8 with value: 0.006799999999999999.\u001b[0m\n"
     ]
    },
    {
     "name": "stdout",
     "output_type": "stream",
     "text": [
      "[0.        0.        3.9999808 0.       ]\n"
     ]
    },
    {
     "name": "stderr",
     "output_type": "stream",
     "text": [
      "\u001b[32m[I 2020-12-15 03:33:30,351]\u001b[0m Trial 41 finished with value: 0.0 and parameters: {'first_layer': 174, 'second_layer': 65, 'activation1': 'relu', 'activation2': 'sigmoid', 'lr': 0.00011321269479687703}. Best is trial 8 with value: 0.006799999999999999.\u001b[0m\n"
     ]
    },
    {
     "name": "stdout",
     "output_type": "stream",
     "text": [
      "[0.         1.59956699 3.99884473 0.94126389]\n"
     ]
    },
    {
     "name": "stderr",
     "output_type": "stream",
     "text": [
      "\u001b[32m[I 2020-12-15 03:38:10,224]\u001b[0m Trial 42 finished with value: 0.0 and parameters: {'first_layer': 250, 'second_layer': 57, 'activation1': 'relu', 'activation2': 'sigmoid', 'lr': 4.1048917685563374e-05}. Best is trial 8 with value: 0.006799999999999999.\u001b[0m\n"
     ]
    },
    {
     "name": "stdout",
     "output_type": "stream",
     "text": [
      "[0.         2.04860748 3.99926395 0.30274721]\n"
     ]
    },
    {
     "name": "stderr",
     "output_type": "stream",
     "text": [
      "\u001b[32m[I 2020-12-15 03:43:17,425]\u001b[0m Trial 43 finished with value: 0.0 and parameters: {'first_layer': 205, 'second_layer': 52, 'activation1': 'relu', 'activation2': 'sigmoid', 'lr': 0.00014922455426022896}. Best is trial 8 with value: 0.006799999999999999.\u001b[0m\n"
     ]
    },
    {
     "name": "stdout",
     "output_type": "stream",
     "text": [
      "[0.         1.20088177 3.99933756 0.85787996]\n"
     ]
    },
    {
     "name": "stderr",
     "output_type": "stream",
     "text": [
      "\u001b[32m[I 2020-12-15 03:48:25,563]\u001b[0m Trial 44 finished with value: 0.0 and parameters: {'first_layer': 149, 'second_layer': 81, 'activation1': 'relu', 'activation2': 'sigmoid', 'lr': 0.000963897486200731}. Best is trial 8 with value: 0.006799999999999999.\u001b[0m\n"
     ]
    },
    {
     "name": "stdout",
     "output_type": "stream",
     "text": [
      "[0.         1.06013738 3.99540451 0.43311658]\n"
     ]
    },
    {
     "name": "stderr",
     "output_type": "stream",
     "text": [
      "\u001b[32m[I 2020-12-15 03:53:00,875]\u001b[0m Trial 45 finished with value: 0.0 and parameters: {'first_layer': 129, 'second_layer': 83, 'activation1': 'relu', 'activation2': 'sigmoid', 'lr': 0.00040396992530512273}. Best is trial 8 with value: 0.006799999999999999.\u001b[0m\n"
     ]
    },
    {
     "name": "stdout",
     "output_type": "stream",
     "text": [
      "[0.         1.20967583 3.99755825 1.28546569]\n"
     ]
    },
    {
     "name": "stderr",
     "output_type": "stream",
     "text": [
      "\u001b[32m[I 2020-12-15 03:57:24,936]\u001b[0m Trial 46 finished with value: 0.0 and parameters: {'first_layer': 219, 'second_layer': 112, 'activation1': 'relu', 'activation2': 'sigmoid', 'lr': 1.7368661735832915e-05}. Best is trial 8 with value: 0.006799999999999999.\u001b[0m\n"
     ]
    },
    {
     "name": "stdout",
     "output_type": "stream",
     "text": [
      "[0.         2.21508454 3.99905274 0.04234939]\n"
     ]
    },
    {
     "name": "stderr",
     "output_type": "stream",
     "text": [
      "\u001b[32m[I 2020-12-15 04:01:53,278]\u001b[0m Trial 47 finished with value: 0.0 and parameters: {'first_layer': 161, 'second_layer': 170, 'activation1': 'relu', 'activation2': 'sigmoid', 'lr': 1.8629145630113045e-05}. Best is trial 8 with value: 0.006799999999999999.\u001b[0m\n"
     ]
    },
    {
     "name": "stdout",
     "output_type": "stream",
     "text": [
      "[0.         2.41164013 3.99919995 0.28805739]\n"
     ]
    },
    {
     "name": "stderr",
     "output_type": "stream",
     "text": [
      "\u001b[32m[I 2020-12-15 04:06:50,609]\u001b[0m Trial 48 finished with value: 0.0 and parameters: {'first_layer': 223, 'second_layer': 200, 'activation1': 'relu', 'activation2': 'sigmoid', 'lr': 2.573768534898748e-05}. Best is trial 8 with value: 0.006799999999999999.\u001b[0m\n"
     ]
    },
    {
     "name": "stdout",
     "output_type": "stream",
     "text": [
      "[0.         1.98379357 3.99916795 0.56136751]\n"
     ]
    },
    {
     "name": "stderr",
     "output_type": "stream",
     "text": [
      "\u001b[32m[I 2020-12-15 04:10:55,938]\u001b[0m Trial 49 finished with value: 0.0 and parameters: {'first_layer': 85, 'second_layer': 126, 'activation1': 'relu', 'activation2': 'sigmoid', 'lr': 0.01107949459532883}. Best is trial 8 with value: 0.006799999999999999.\u001b[0m\n"
     ]
    },
    {
     "name": "stdout",
     "output_type": "stream",
     "text": [
      "[0.         0.54592871 3.99871032 0.        ]\n"
     ]
    },
    {
     "name": "stderr",
     "output_type": "stream",
     "text": [
      "\u001b[32m[I 2020-12-15 04:15:33,021]\u001b[0m Trial 50 finished with value: 0.0 and parameters: {'first_layer': 118, 'second_layer': 91, 'activation1': 'relu', 'activation2': 'sigmoid', 'lr': 0.0006468264182786928}. Best is trial 8 with value: 0.006799999999999999.\u001b[0m\n"
     ]
    },
    {
     "name": "stdout",
     "output_type": "stream",
     "text": [
      "[0.         1.23425512 3.99609575 0.6806628 ]\n"
     ]
    },
    {
     "name": "stderr",
     "output_type": "stream",
     "text": [
      "\u001b[32m[I 2020-12-15 04:19:53,024]\u001b[0m Trial 51 finished with value: 0.0 and parameters: {'first_layer': 239, 'second_layer': 40, 'activation1': 'relu', 'activation2': 'sigmoid', 'lr': 6.180792443271867e-05}. Best is trial 8 with value: 0.006799999999999999.\u001b[0m\n"
     ]
    },
    {
     "name": "stdout",
     "output_type": "stream",
     "text": [
      "[0.         1.63276714 3.99910714 0.77379146]\n"
     ]
    },
    {
     "name": "stderr",
     "output_type": "stream",
     "text": [
      "\u001b[32m[I 2020-12-15 04:23:53,565]\u001b[0m Trial 52 finished with value: 0.0 and parameters: {'first_layer': 101, 'second_layer': 48, 'activation1': 'relu', 'activation2': 'sigmoid', 'lr': 0.011030063985143501}. Best is trial 8 with value: 0.006799999999999999.\u001b[0m\n"
     ]
    },
    {
     "name": "stdout",
     "output_type": "stream",
     "text": [
      "[0.         0.         3.99943997 0.        ]\n"
     ]
    },
    {
     "name": "stderr",
     "output_type": "stream",
     "text": [
      "\u001b[32m[I 2020-12-15 04:29:29,805]\u001b[0m Trial 53 finished with value: 0.0 and parameters: {'first_layer': 234, 'second_layer': 94, 'activation1': 'relu', 'activation2': 'sigmoid', 'lr': 0.0006455702108670899}. Best is trial 8 with value: 0.006799999999999999.\u001b[0m\n"
     ]
    },
    {
     "name": "stdout",
     "output_type": "stream",
     "text": [
      "[0.         1.04988683 3.99778226 0.67087486]\n"
     ]
    },
    {
     "name": "stderr",
     "output_type": "stream",
     "text": [
      "\u001b[32m[I 2020-12-15 04:33:17,242]\u001b[0m Trial 54 finished with value: 0.0 and parameters: {'first_layer': 60, 'second_layer': 67, 'activation1': 'relu', 'activation2': 'sigmoid', 'lr': 0.04351814885473145}. Best is trial 8 with value: 0.006799999999999999.\u001b[0m\n"
     ]
    },
    {
     "name": "stdout",
     "output_type": "stream",
     "text": [
      "[0. 0. 4. 0.]\n"
     ]
    },
    {
     "name": "stderr",
     "output_type": "stream",
     "text": [
      "\u001b[32m[I 2020-12-15 04:37:47,453]\u001b[0m Trial 55 finished with value: 0.0 and parameters: {'first_layer': 231, 'second_layer': 86, 'activation1': 'relu', 'activation2': 'sigmoid', 'lr': 6.494949978459774e-05}. Best is trial 8 with value: 0.006799999999999999.\u001b[0m\n"
     ]
    },
    {
     "name": "stdout",
     "output_type": "stream",
     "text": [
      "[0.         1.52525046 3.99905914 0.95099263]\n"
     ]
    },
    {
     "name": "stderr",
     "output_type": "stream",
     "text": [
      "\u001b[32m[I 2020-12-15 04:42:06,829]\u001b[0m Trial 56 finished with value: 0.015200000000000002 and parameters: {'first_layer': 79, 'second_layer': 159, 'activation1': 'relu', 'activation2': 'sigmoid', 'lr': 0.0001766211032274186}. Best is trial 56 with value: 0.015200000000000002.\u001b[0m\n"
     ]
    },
    {
     "name": "stdout",
     "output_type": "stream",
     "text": [
      "[0.0152     1.76456787 3.99158987 0.84202843]\n"
     ]
    },
    {
     "name": "stderr",
     "output_type": "stream",
     "text": [
      "\u001b[32m[I 2020-12-15 04:46:19,365]\u001b[0m Trial 57 finished with value: 0.0028 and parameters: {'first_layer': 63, 'second_layer': 156, 'activation1': 'relu', 'activation2': 'sigmoid', 'lr': 0.00018379005871869215}. Best is trial 56 with value: 0.015200000000000002.\u001b[0m\n"
     ]
    },
    {
     "name": "stdout",
     "output_type": "stream",
     "text": [
      "[2.80000000e-03 1.88268939e+00 3.98824565e+00 4.79208410e-01]\n"
     ]
    },
    {
     "name": "stderr",
     "output_type": "stream",
     "text": [
      "\u001b[32m[I 2020-12-15 04:50:41,086]\u001b[0m Trial 58 finished with value: 0.012533333333333332 and parameters: {'first_layer': 70, 'second_layer': 166, 'activation1': 'relu', 'activation2': 'sigmoid', 'lr': 7.838881473101969e-05}. Best is trial 56 with value: 0.015200000000000002.\u001b[0m\n"
     ]
    },
    {
     "name": "stdout",
     "output_type": "stream",
     "text": [
      "[0.01253333 2.05281162 3.98375896 0.93598951]\n"
     ]
    },
    {
     "name": "stderr",
     "output_type": "stream",
     "text": [
      "\u001b[32m[I 2020-12-15 04:54:50,173]\u001b[0m Trial 59 finished with value: 0.038667378252168115 and parameters: {'first_layer': 23, 'second_layer': 163, 'activation1': 'relu', 'activation2': 'sigmoid', 'lr': 0.00020611216629126198}. Best is trial 59 with value: 0.038667378252168115.\u001b[0m\n"
     ]
    },
    {
     "name": "stdout",
     "output_type": "stream",
     "text": [
      "[0.03866738 1.75482119 3.98058756 0.60457235]\n"
     ]
    },
    {
     "name": "stderr",
     "output_type": "stream",
     "text": [
      "\u001b[32m[I 2020-12-15 04:59:08,389]\u001b[0m Trial 60 finished with value: 0.01 and parameters: {'first_layer': 20, 'second_layer': 162, 'activation1': 'relu', 'activation2': 'sigmoid', 'lr': 0.00020818816588304416}. Best is trial 59 with value: 0.038667378252168115.\u001b[0m\n"
     ]
    },
    {
     "name": "stdout",
     "output_type": "stream",
     "text": [
      "[0.01       1.83573917 3.98126282 1.28749102]\n"
     ]
    },
    {
     "name": "stderr",
     "output_type": "stream",
     "text": [
      "\u001b[32m[I 2020-12-15 05:03:21,460]\u001b[0m Trial 61 finished with value: 0.018933333333333333 and parameters: {'first_layer': 22, 'second_layer': 163, 'activation1': 'relu', 'activation2': 'sigmoid', 'lr': 0.00019187463427022936}. Best is trial 59 with value: 0.038667378252168115.\u001b[0m\n"
     ]
    },
    {
     "name": "stdout",
     "output_type": "stream",
     "text": [
      "[0.01893333 2.48695259 3.98145802 0.65384727]\n"
     ]
    },
    {
     "name": "stderr",
     "output_type": "stream",
     "text": [
      "\u001b[32m[I 2020-12-15 05:07:30,498]\u001b[0m Trial 62 finished with value: 0.003733422281521014 and parameters: {'first_layer': 21, 'second_layer': 160, 'activation1': 'relu', 'activation2': 'sigmoid', 'lr': 0.00018591604676516276}. Best is trial 59 with value: 0.038667378252168115.\u001b[0m\n"
     ]
    },
    {
     "name": "stdout",
     "output_type": "stream",
     "text": [
      "[3.73342228e-03 1.64423800e+00 3.98352535e+00 1.46144945e+00]\n"
     ]
    },
    {
     "name": "stderr",
     "output_type": "stream",
     "text": [
      "\u001b[32m[I 2020-12-15 05:11:48,744]\u001b[0m Trial 63 finished with value: 0.05053333333333333 and parameters: {'first_layer': 21, 'second_layer': 167, 'activation1': 'relu', 'activation2': 'sigmoid', 'lr': 0.0002147372432776267}. Best is trial 63 with value: 0.05053333333333333.\u001b[0m\n"
     ]
    },
    {
     "name": "stdout",
     "output_type": "stream",
     "text": [
      "[0.05053333 1.21249434 3.98053317 1.38114848]\n"
     ]
    },
    {
     "name": "stderr",
     "output_type": "stream",
     "text": [
      "\u001b[32m[I 2020-12-15 05:16:10,428]\u001b[0m Trial 64 finished with value: 0.07867324883255504 and parameters: {'first_layer': 22, 'second_layer': 181, 'activation1': 'relu', 'activation2': 'sigmoid', 'lr': 0.0004295326719455052}. Best is trial 64 with value: 0.07867324883255504.\u001b[0m\n"
     ]
    },
    {
     "name": "stdout",
     "output_type": "stream",
     "text": [
      "[0.07867325 1.18210483 3.97791861 1.68874408]\n"
     ]
    },
    {
     "name": "stderr",
     "output_type": "stream",
     "text": [
      "\u001b[32m[I 2020-12-15 05:20:23,175]\u001b[0m Trial 65 finished with value: 0.007333333333333333 and parameters: {'first_layer': 20, 'second_layer': 177, 'activation1': 'relu', 'activation2': 'sigmoid', 'lr': 0.0001328827069967336}. Best is trial 64 with value: 0.07867324883255504.\u001b[0m\n"
     ]
    },
    {
     "name": "stdout",
     "output_type": "stream",
     "text": [
      "[0.00733333 1.68589368 3.98765042 0.72519686]\n"
     ]
    },
    {
     "name": "stderr",
     "output_type": "stream",
     "text": [
      "\u001b[32m[I 2020-12-15 05:24:20,354]\u001b[0m Trial 66 finished with value: 0.05987378252168113 and parameters: {'first_layer': 31, 'second_layer': 185, 'activation1': 'relu', 'activation2': 'sigmoid', 'lr': 0.0002305178310754895}. Best is trial 64 with value: 0.07867324883255504.\u001b[0m\n"
     ]
    },
    {
     "name": "stdout",
     "output_type": "stream",
     "text": [
      "[0.05987378 2.21207708 3.98294932 0.53477236]\n"
     ]
    },
    {
     "name": "stderr",
     "output_type": "stream",
     "text": [
      "\u001b[32m[I 2020-12-15 05:28:26,162]\u001b[0m Trial 67 finished with value: 0.04413742494996664 and parameters: {'first_layer': 31, 'second_layer': 187, 'activation1': 'relu', 'activation2': 'sigmoid', 'lr': 0.00036583980498675886}. Best is trial 64 with value: 0.07867324883255504.\u001b[0m\n"
     ]
    },
    {
     "name": "stdout",
     "output_type": "stream",
     "text": [
      "[0.04413742 1.42054441 3.98819765 1.67412107]\n"
     ]
    },
    {
     "name": "stderr",
     "output_type": "stream",
     "text": [
      "\u001b[32m[I 2020-12-15 05:32:27,170]\u001b[0m Trial 68 finished with value: 0.07600667111407605 and parameters: {'first_layer': 33, 'second_layer': 188, 'activation1': 'relu', 'activation2': 'sigmoid', 'lr': 0.0003884803282917918}. Best is trial 64 with value: 0.07867324883255504.\u001b[0m\n"
     ]
    },
    {
     "name": "stdout",
     "output_type": "stream",
     "text": [
      "[0.07600667 1.7340209  3.97776179 0.83139121]\n"
     ]
    },
    {
     "name": "stderr",
     "output_type": "stream",
     "text": [
      "\u001b[32m[I 2020-12-15 05:36:43,484]\u001b[0m Trial 69 finished with value: 0.018133333333333335 and parameters: {'first_layer': 40, 'second_layer': 185, 'activation1': 'relu', 'activation2': 'sigmoid', 'lr': 0.00037320778901002205}. Best is trial 64 with value: 0.07867324883255504.\u001b[0m\n"
     ]
    },
    {
     "name": "stdout",
     "output_type": "stream",
     "text": [
      "[0.01813333 1.34414943 3.98397338 0.95324579]\n"
     ]
    },
    {
     "name": "stderr",
     "output_type": "stream",
     "text": [
      "\u001b[32m[I 2020-12-15 05:40:42,910]\u001b[0m Trial 70 finished with value: 0.041868089837669556 and parameters: {'first_layer': 32, 'second_layer': 194, 'activation1': 'relu', 'activation2': 'sigmoid', 'lr': 0.00047593693490308707}. Best is trial 64 with value: 0.07867324883255504.\u001b[0m\n"
     ]
    },
    {
     "name": "stdout",
     "output_type": "stream",
     "text": [
      "[0.04186809 1.67357254 3.98072199 0.49465783]\n"
     ]
    },
    {
     "name": "stderr",
     "output_type": "stream",
     "text": [
      "\u001b[32m[I 2020-12-15 05:44:40,306]\u001b[0m Trial 71 finished with value: 0.04600604847676229 and parameters: {'first_layer': 32, 'second_layer': 190, 'activation1': 'relu', 'activation2': 'sigmoid', 'lr': 0.0004824288207193733}. Best is trial 64 with value: 0.07867324883255504.\u001b[0m\n"
     ]
    },
    {
     "name": "stdout",
     "output_type": "stream",
     "text": [
      "[0.04600605 1.78822997 3.98065797 1.26786889]\n"
     ]
    },
    {
     "name": "stderr",
     "output_type": "stream",
     "text": [
      "\u001b[32m[I 2020-12-15 05:48:35,711]\u001b[0m Trial 72 finished with value: 0.0032000889481876805 and parameters: {'first_layer': 31, 'second_layer': 192, 'activation1': 'relu', 'activation2': 'sigmoid', 'lr': 0.000509725724070357}. Best is trial 64 with value: 0.07867324883255504.\u001b[0m\n"
     ]
    },
    {
     "name": "stdout",
     "output_type": "stream",
     "text": [
      "[3.20008895e-03 1.19705946e+00 3.98729519e+00 4.82419340e-01]\n"
     ]
    },
    {
     "name": "stderr",
     "output_type": "stream",
     "text": [
      "\u001b[32m[I 2020-12-15 05:52:49,920]\u001b[0m Trial 73 finished with value: 0.12482632866355348 and parameters: {'first_layer': 48, 'second_layer': 182, 'activation1': 'relu', 'activation2': 'sigmoid', 'lr': 0.0008482102265845811}. Best is trial 73 with value: 0.12482632866355348.\u001b[0m\n"
     ]
    },
    {
     "name": "stdout",
     "output_type": "stream",
     "text": [
      "[0.12482633 1.08124471 3.98073157 1.98103956]\n"
     ]
    },
    {
     "name": "stderr",
     "output_type": "stream",
     "text": [
      "\u001b[32m[I 2020-12-15 05:57:16,685]\u001b[0m Trial 74 finished with value: 0.018533333333333332 and parameters: {'first_layer': 51, 'second_layer': 181, 'activation1': 'relu', 'activation2': 'sigmoid', 'lr': 0.0009174243863157213}. Best is trial 73 with value: 0.12482632866355348.\u001b[0m\n"
     ]
    },
    {
     "name": "stdout",
     "output_type": "stream",
     "text": [
      "[0.01853333 1.55741532 3.99257554 0.61670777]\n"
     ]
    },
    {
     "name": "stderr",
     "output_type": "stream",
     "text": [
      "\u001b[32m[I 2020-12-15 06:01:45,451]\u001b[0m Trial 75 finished with value: 0.009333333333333334 and parameters: {'first_layer': 49, 'second_layer': 192, 'activation1': 'relu', 'activation2': 'sigmoid', 'lr': 0.0013704251960193932}. Best is trial 73 with value: 0.12482632866355348.\u001b[0m\n"
     ]
    },
    {
     "name": "stdout",
     "output_type": "stream",
     "text": [
      "[0.00933333 1.55359301 3.99016578 0.51774334]\n"
     ]
    },
    {
     "name": "stderr",
     "output_type": "stream",
     "text": [
      "\u001b[32m[I 2020-12-15 06:05:46,434]\u001b[0m Trial 76 finished with value: 0.0029338670224594173 and parameters: {'first_layer': 32, 'second_layer': 197, 'activation1': 'relu', 'activation2': 'sigmoid', 'lr': 0.0007949642491570521}. Best is trial 73 with value: 0.12482632866355348.\u001b[0m\n"
     ]
    },
    {
     "name": "stdout",
     "output_type": "stream",
     "text": [
      "[2.93386702e-03 1.48222489e+00 3.98632873e+00 3.65834363e-01]\n"
     ]
    },
    {
     "name": "stderr",
     "output_type": "stream",
     "text": [
      "\u001b[32m[I 2020-12-15 06:09:40,182]\u001b[0m Trial 77 finished with value: 0.0616004447409384 and parameters: {'first_layer': 31, 'second_layer': 187, 'activation1': 'relu', 'activation2': 'sigmoid', 'lr': 0.0005012906302203077}. Best is trial 73 with value: 0.12482632866355348.\u001b[0m\n"
     ]
    },
    {
     "name": "stdout",
     "output_type": "stream",
     "text": [
      "[0.06160044 1.97851871 3.98024835 0.4472272 ]\n"
     ]
    },
    {
     "name": "stderr",
     "output_type": "stream",
     "text": [
      "\u001b[32m[I 2020-12-15 06:14:05,091]\u001b[0m Trial 78 finished with value: 0.004933333333333333 and parameters: {'first_layer': 47, 'second_layer': 185, 'activation1': 'relu', 'activation2': 'sigmoid', 'lr': 0.0016887569496279106}. Best is trial 73 with value: 0.12482632866355348.\u001b[0m\n"
     ]
    },
    {
     "name": "stdout",
     "output_type": "stream",
     "text": [
      "[0.00493333 1.35359301 3.99124105 0.55609992]\n"
     ]
    },
    {
     "name": "stderr",
     "output_type": "stream",
     "text": [
      "\u001b[32m[I 2020-12-15 06:17:56,396]\u001b[0m Trial 79 finished with value: 0.021466666666666665 and parameters: {'first_layer': 28, 'second_layer': 176, 'activation1': 'relu', 'activation2': 'sigmoid', 'lr': 0.0002912826969135679}. Best is trial 73 with value: 0.12482632866355348.\u001b[0m\n"
     ]
    },
    {
     "name": "stdout",
     "output_type": "stream",
     "text": [
      "[0.02146667 2.00958923 3.98541027 0.97888231]\n"
     ]
    },
    {
     "name": "stderr",
     "output_type": "stream",
     "text": [
      "\u001b[32m[I 2020-12-15 06:21:56,203]\u001b[0m Trial 80 finished with value: 0.09054480764954413 and parameters: {'first_layer': 37, 'second_layer': 171, 'activation1': 'relu', 'activation2': 'sigmoid', 'lr': 0.0005219142533723259}. Best is trial 73 with value: 0.12482632866355348.\u001b[0m\n"
     ]
    },
    {
     "name": "stdout",
     "output_type": "stream",
     "text": [
      "[0.09054481 1.48307123 3.97813624 1.03540535]\n"
     ]
    },
    {
     "name": "stderr",
     "output_type": "stream",
     "text": [
      "\u001b[32m[I 2020-12-15 06:25:53,249]\u001b[0m Trial 81 finished with value: 0.0008 and parameters: {'first_layer': 37, 'second_layer': 144, 'activation1': 'relu', 'activation2': 'sigmoid', 'lr': 0.0005017745997572902}. Best is trial 73 with value: 0.12482632866355348.\u001b[0m\n"
     ]
    },
    {
     "name": "stdout",
     "output_type": "stream",
     "text": [
      "[8.00000000e-04 1.17628673e+00 3.99423324e+00 5.50083074e-01]\n"
     ]
    },
    {
     "name": "stderr",
     "output_type": "stream",
     "text": [
      "\u001b[32m[I 2020-12-15 06:29:47,795]\u001b[0m Trial 82 finished with value: 0.019333333333333334 and parameters: {'first_layer': 44, 'second_layer': 172, 'activation1': 'relu', 'activation2': 'sigmoid', 'lr': 0.00031442415851644}. Best is trial 73 with value: 0.12482632866355348.\u001b[0m\n"
     ]
    },
    {
     "name": "stdout",
     "output_type": "stream",
     "text": [
      "[0.01933333 1.9891078  3.98673516 0.2225375 ]\n"
     ]
    },
    {
     "name": "stderr",
     "output_type": "stream",
     "text": [
      "\u001b[32m[I 2020-12-15 06:33:46,385]\u001b[0m Trial 83 finished with value: 0.0064 and parameters: {'first_layer': 55, 'second_layer': 181, 'activation1': 'relu', 'activation2': 'sigmoid', 'lr': 0.0002481289697816077}. Best is trial 73 with value: 0.12482632866355348.\u001b[0m\n"
     ]
    },
    {
     "name": "stdout",
     "output_type": "stream",
     "text": [
      "[0.0064     1.78907237 3.98440221 0.32455091]\n"
     ]
    },
    {
     "name": "stderr",
     "output_type": "stream",
     "text": [
      "\u001b[32m[I 2020-12-15 06:38:20,092]\u001b[0m Trial 84 finished with value: 0.01813333333333333 and parameters: {'first_layer': 37, 'second_layer': 187, 'activation1': 'relu', 'activation2': 'sigmoid', 'lr': 0.0007401184077403022}. Best is trial 73 with value: 0.12482632866355348.\u001b[0m\n"
     ]
    },
    {
     "name": "stdout",
     "output_type": "stream",
     "text": [
      "[0.01813333 1.40216112 3.99000257 0.60876835]\n"
     ]
    },
    {
     "name": "stderr",
     "output_type": "stream",
     "text": [
      "\u001b[32m[I 2020-12-15 06:42:40,370]\u001b[0m Trial 85 finished with value: 0.0004 and parameters: {'first_layer': 27, 'second_layer': 150, 'activation1': 'relu', 'activation2': 'sigmoid', 'lr': 0.0005674423039569627}. Best is trial 73 with value: 0.12482632866355348.\u001b[0m\n"
     ]
    },
    {
     "name": "stdout",
     "output_type": "stream",
     "text": [
      "[4.00000000e-04 1.83072018e+00 3.99014657e+00 2.52219309e-01]\n"
     ]
    },
    {
     "name": "stderr",
     "output_type": "stream",
     "text": [
      "\u001b[32m[I 2020-12-15 06:47:24,389]\u001b[0m Trial 86 finished with value: 0.006666666666666668 and parameters: {'first_layer': 43, 'second_layer': 180, 'activation1': 'relu', 'activation2': 'sigmoid', 'lr': 0.00038190741326731616}. Best is trial 73 with value: 0.12482632866355348.\u001b[0m\n"
     ]
    },
    {
     "name": "stdout",
     "output_type": "stream",
     "text": [
      "[0.00666667 1.97041746 3.98337175 0.33588889]\n"
     ]
    },
    {
     "name": "stderr",
     "output_type": "stream",
     "text": [
      "\u001b[32m[I 2020-12-15 06:52:13,319]\u001b[0m Trial 87 finished with value: 0.02613333333333333 and parameters: {'first_layer': 35, 'second_layer': 168, 'activation1': 'relu', 'activation2': 'sigmoid', 'lr': 0.001353498841227254}. Best is trial 73 with value: 0.12482632866355348.\u001b[0m\n"
     ]
    },
    {
     "name": "stdout",
     "output_type": "stream",
     "text": [
      "[0.02613333 1.94040979 3.98632555 0.38545956]\n"
     ]
    },
    {
     "name": "stderr",
     "output_type": "stream",
     "text": [
      "\u001b[32m[I 2020-12-15 06:56:54,122]\u001b[0m Trial 88 finished with value: 0.0128 and parameters: {'first_layer': 26, 'second_layer': 189, 'activation1': 'relu', 'activation2': 'sigmoid', 'lr': 0.0011339266689742798}. Best is trial 73 with value: 0.12482632866355348.\u001b[0m\n"
     ]
    },
    {
     "name": "stdout",
     "output_type": "stream",
     "text": [
      "[0.0128     1.7155392  3.98954814 0.36105181]\n"
     ]
    },
    {
     "name": "stderr",
     "output_type": "stream",
     "text": [
      "\u001b[32m[I 2020-12-15 07:02:05,370]\u001b[0m Trial 89 finished with value: 0.010533333333333334 and parameters: {'first_layer': 66, 'second_layer': 175, 'activation1': 'relu', 'activation2': 'sigmoid', 'lr': 0.0008659217095621914}. Best is trial 73 with value: 0.12482632866355348.\u001b[0m\n"
     ]
    },
    {
     "name": "stdout",
     "output_type": "stream",
     "text": [
      "[0.01053333 1.72588029 3.98961855 0.47778272]\n"
     ]
    },
    {
     "name": "stderr",
     "output_type": "stream",
     "text": [
      "\u001b[32m[I 2020-12-15 07:06:55,880]\u001b[0m Trial 90 finished with value: 0.03760053368912609 and parameters: {'first_layer': 51, 'second_layer': 199, 'activation1': 'relu', 'activation2': 'sigmoid', 'lr': 0.0004089924279743006}. Best is trial 73 with value: 0.12482632866355348.\u001b[0m\n"
     ]
    },
    {
     "name": "stdout",
     "output_type": "stream",
     "text": [
      "[0.03760053 1.09600252 3.98045635 1.12697349]\n"
     ]
    },
    {
     "name": "stderr",
     "output_type": "stream",
     "text": [
      "\u001b[32m[I 2020-12-15 07:11:26,758]\u001b[0m Trial 91 finished with value: 0.07386693351122971 and parameters: {'first_layer': 32, 'second_layer': 194, 'activation1': 'relu', 'activation2': 'sigmoid', 'lr': 0.0005035967711963217}. Best is trial 73 with value: 0.12482632866355348.\u001b[0m\n"
     ]
    },
    {
     "name": "stdout",
     "output_type": "stream",
     "text": [
      "[0.07386693 1.73713858 3.97748021 0.338541  ]\n"
     ]
    },
    {
     "name": "stderr",
     "output_type": "stream",
     "text": [
      "\u001b[32m[I 2020-12-15 07:15:23,575]\u001b[0m Trial 92 finished with value: 0.015466666666666665 and parameters: {'first_layer': 40, 'second_layer': 183, 'activation1': 'relu', 'activation2': 'sigmoid', 'lr': 0.0002474150942126598}. Best is trial 73 with value: 0.12482632866355348.\u001b[0m\n"
     ]
    },
    {
     "name": "stdout",
     "output_type": "stream",
     "text": [
      "[0.01546667 0.9889779  3.98647274 1.43934111]\n"
     ]
    },
    {
     "name": "stderr",
     "output_type": "stream",
     "text": [
      "\u001b[32m[I 2020-12-15 07:19:31,918]\u001b[0m Trial 93 finished with value: 0.016802134756504335 and parameters: {'first_layer': 56, 'second_layer': 197, 'activation1': 'relu', 'activation2': 'sigmoid', 'lr': 0.0003335751474203546}. Best is trial 73 with value: 0.12482632866355348.\u001b[0m\n"
     ]
    },
    {
     "name": "stdout",
     "output_type": "stream",
     "text": [
      "[0.01680213 1.48840514 3.98547428 1.73280712]\n"
     ]
    },
    {
     "name": "stderr",
     "output_type": "stream",
     "text": [
      "\u001b[32m[I 2020-12-15 07:23:27,049]\u001b[0m Trial 94 finished with value: 0.07040800533689126 and parameters: {'first_layer': 27, 'second_layer': 189, 'activation1': 'relu', 'activation2': 'sigmoid', 'lr': 0.0005631532619302195}. Best is trial 73 with value: 0.12482632866355348.\u001b[0m\n"
     ]
    },
    {
     "name": "stdout",
     "output_type": "stream",
     "text": [
      "[0.07040801 1.0160096  3.9792723  1.10346577]\n"
     ]
    },
    {
     "name": "stderr",
     "output_type": "stream",
     "text": [
      "\u001b[32m[I 2020-12-15 07:27:25,623]\u001b[0m Trial 95 finished with value: 0.029872092506115187 and parameters: {'first_layer': 25, 'second_layer': 190, 'activation1': 'relu', 'activation2': 'sigmoid', 'lr': 0.0005893109115687953}. Best is trial 73 with value: 0.12482632866355348.\u001b[0m\n"
     ]
    },
    {
     "name": "stdout",
     "output_type": "stream",
     "text": [
      "[0.02987209 1.22016258 3.99394202 0.94159283]\n"
     ]
    },
    {
     "name": "stderr",
     "output_type": "stream",
     "text": [
      "\u001b[32m[I 2020-12-15 07:31:50,379]\u001b[0m Trial 96 finished with value: 0.027205425839448526 and parameters: {'first_layer': 45, 'second_layer': 179, 'activation1': 'relu', 'activation2': 'sigmoid', 'lr': 0.001821191115360246}. Best is trial 73 with value: 0.12482632866355348.\u001b[0m\n"
     ]
    },
    {
     "name": "stdout",
     "output_type": "stream",
     "text": [
      "[0.02720543 1.75780503 3.99242193 0.56210841]\n"
     ]
    },
    {
     "name": "stderr",
     "output_type": "stream",
     "text": [
      "\u001b[32m[I 2020-12-15 07:35:51,213]\u001b[0m Trial 97 finished with value: 0.03880329108294418 and parameters: {'first_layer': 36, 'second_layer': 172, 'activation1': 'relu', 'activation2': 'sigmoid', 'lr': 0.0004327627923115451}. Best is trial 73 with value: 0.12482632866355348.\u001b[0m\n"
     ]
    },
    {
     "name": "stdout",
     "output_type": "stream",
     "text": [
      "[0.03880329 1.00849883 3.98421019 1.93031188]\n"
     ]
    },
    {
     "name": "stderr",
     "output_type": "stream",
     "text": [
      "\u001b[32m[I 2020-12-15 07:39:40,531]\u001b[0m Trial 98 finished with value: 0.025201778963753613 and parameters: {'first_layer': 20, 'second_layer': 194, 'activation1': 'relu', 'activation2': 'sigmoid', 'lr': 0.0007384080162250152}. Best is trial 73 with value: 0.12482632866355348.\u001b[0m\n"
     ]
    },
    {
     "name": "stdout",
     "output_type": "stream",
     "text": [
      "[0.02520178 1.22632708 3.9795443  0.38445088]\n"
     ]
    },
    {
     "name": "stderr",
     "output_type": "stream",
     "text": [
      "\u001b[32m[I 2020-12-15 07:43:48,502]\u001b[0m Trial 99 finished with value: 0.09413422281521014 and parameters: {'first_layer': 31, 'second_layer': 168, 'activation1': 'relu', 'activation2': 'sigmoid', 'lr': 0.0023494461406635605}. Best is trial 73 with value: 0.12482632866355348.\u001b[0m\n"
     ]
    },
    {
     "name": "stdout",
     "output_type": "stream",
     "text": [
      "[0.09413422 1.45810223 3.9819413  0.58589368]\n"
     ]
    },
    {
     "name": "stderr",
     "output_type": "stream",
     "text": [
      "\u001b[32m[I 2020-12-15 07:47:55,597]\u001b[0m Trial 100 finished with value: 0.0002666666666666667 and parameters: {'first_layer': 27, 'second_layer': 168, 'activation1': 'relu', 'activation2': 'sigmoid', 'lr': 0.0027007790648352938}. Best is trial 73 with value: 0.12482632866355348.\u001b[0m\n"
     ]
    },
    {
     "name": "stdout",
     "output_type": "stream",
     "text": [
      "[2.66666667e-04 1.74540910e+00 3.98584872e+00 3.99900749e-01]\n"
     ]
    },
    {
     "name": "stderr",
     "output_type": "stream",
     "text": [
      "\u001b[32m[I 2020-12-15 07:52:12,873]\u001b[0m Trial 101 finished with value: 0.007466666666666666 and parameters: {'first_layer': 41, 'second_layer': 175, 'activation1': 'relu', 'activation2': 'sigmoid', 'lr': 0.0011049628571977855}. Best is trial 73 with value: 0.12482632866355348.\u001b[0m\n"
     ]
    },
    {
     "name": "stdout",
     "output_type": "stream",
     "text": [
      "[0.00746667 1.86479422 3.98765045 0.44462981]\n"
     ]
    },
    {
     "name": "stderr",
     "output_type": "stream",
     "text": [
      "\u001b[32m[I 2020-12-15 07:56:17,074]\u001b[0m Trial 102 finished with value: 0.0256 and parameters: {'first_layer': 33, 'second_layer': 200, 'activation1': 'relu', 'activation2': 'sigmoid', 'lr': 0.0005514468624816971}. Best is trial 73 with value: 0.12482632866355348.\u001b[0m\n"
     ]
    },
    {
     "name": "stdout",
     "output_type": "stream",
     "text": [
      "[0.0256     1.28301218 3.98755122 0.36813194]\n"
     ]
    },
    {
     "name": "stderr",
     "output_type": "stream",
     "text": [
      "\u001b[32m[I 2020-12-15 08:00:28,272]\u001b[0m Trial 103 finished with value: 0.030133333333333335 and parameters: {'first_layer': 28, 'second_layer': 185, 'activation1': 'relu', 'activation2': 'sigmoid', 'lr': 0.003746668135244962}. Best is trial 73 with value: 0.12482632866355348.\u001b[0m\n"
     ]
    },
    {
     "name": "stdout",
     "output_type": "stream",
     "text": [
      "[0.03013333 1.51023284 3.98764722 0.39048662]\n"
     ]
    },
    {
     "name": "stderr",
     "output_type": "stream",
     "text": [
      "\u001b[32m[I 2020-12-15 08:04:25,057]\u001b[0m Trial 104 finished with value: 0.015866666666666664 and parameters: {'first_layer': 39, 'second_layer': 195, 'activation1': 'relu', 'activation2': 'sigmoid', 'lr': 0.00027935860851676845}. Best is trial 73 with value: 0.12482632866355348.\u001b[0m\n"
     ]
    },
    {
     "name": "stdout",
     "output_type": "stream",
     "text": [
      "[0.01586667 1.3137796  3.98672556 0.81335799]\n"
     ]
    },
    {
     "name": "stderr",
     "output_type": "stream",
     "text": [
      "\u001b[32m[I 2020-12-15 08:08:10,326]\u001b[0m Trial 105 finished with value: 0.0002666666666666667 and parameters: {'first_layer': 20, 'second_layer': 152, 'activation1': 'relu', 'activation2': 'sigmoid', 'lr': 0.00014709190607912614}. Best is trial 73 with value: 0.12482632866355348.\u001b[0m\n"
     ]
    },
    {
     "name": "stdout",
     "output_type": "stream",
     "text": [
      "[2.66666667e-04 1.18545082e+00 3.98491104e+00 1.75999434e+00]\n"
     ]
    },
    {
     "name": "stderr",
     "output_type": "stream",
     "text": [
      "\u001b[32m[I 2020-12-15 08:12:34,363]\u001b[0m Trial 106 finished with value: 0.0 and parameters: {'first_layer': 54, 'second_layer': 139, 'activation1': 'relu', 'activation2': 'sigmoid', 'lr': 0.0009271572234847849}. Best is trial 73 with value: 0.12482632866355348.\u001b[0m\n"
     ]
    },
    {
     "name": "stdout",
     "output_type": "stream",
     "text": [
      "[0.         1.1209479  3.99774706 0.19597933]\n"
     ]
    },
    {
     "name": "stderr",
     "output_type": "stream",
     "text": [
      "\u001b[32m[I 2020-12-15 08:17:00,247]\u001b[0m Trial 107 finished with value: 0.0 and parameters: {'first_layer': 44, 'second_layer': 189, 'activation1': 'relu', 'activation2': 'sigmoid', 'lr': 0.0014219303559855178}. Best is trial 73 with value: 0.12482632866355348.\u001b[0m\n"
     ]
    },
    {
     "name": "stdout",
     "output_type": "stream",
     "text": [
      "[0.         1.64912709 3.9951549  0.43637152]\n"
     ]
    },
    {
     "name": "stderr",
     "output_type": "stream",
     "text": [
      "\u001b[32m[I 2020-12-15 08:20:59,050]\u001b[0m Trial 108 finished with value: 0.02213333333333333 and parameters: {'first_layer': 24, 'second_layer': 166, 'activation1': 'relu', 'activation2': 'sigmoid', 'lr': 0.002152060090957262}. Best is trial 73 with value: 0.12482632866355348.\u001b[0m\n"
     ]
    },
    {
     "name": "stdout",
     "output_type": "stream",
     "text": [
      "[0.02213333 1.4792568  3.98047237 0.53173289]\n"
     ]
    },
    {
     "name": "stderr",
     "output_type": "stream",
     "text": [
      "\u001b[32m[I 2020-12-15 08:24:46,711]\u001b[0m Trial 109 finished with value: 0.024000711585501447 and parameters: {'first_layer': 30, 'second_layer': 178, 'activation1': 'relu', 'activation2': 'sigmoid', 'lr': 0.00010234895866260925}. Best is trial 73 with value: 0.12482632866355348.\u001b[0m\n"
     ]
    },
    {
     "name": "stdout",
     "output_type": "stream",
     "text": [
      "[0.02400071 1.59265062 3.98401498 1.00988748]\n"
     ]
    },
    {
     "name": "stderr",
     "output_type": "stream",
     "text": [
      "\u001b[32m[I 2020-12-15 08:28:57,734]\u001b[0m Trial 110 finished with value: 0.07027155881698911 and parameters: {'first_layer': 49, 'second_layer': 182, 'activation1': 'relu', 'activation2': 'sigmoid', 'lr': 0.00045629519992125203}. Best is trial 73 with value: 0.12482632866355348.\u001b[0m\n"
     ]
    },
    {
     "name": "stdout",
     "output_type": "stream",
     "text": [
      "[0.07027156 1.550062   3.98190605 1.01550142]\n"
     ]
    },
    {
     "name": "stderr",
     "output_type": "stream",
     "text": [
      "\u001b[32m[I 2020-12-15 08:33:13,233]\u001b[0m Trial 111 finished with value: 0.029599999999999998 and parameters: {'first_layer': 48, 'second_layer': 183, 'activation1': 'relu', 'activation2': 'sigmoid', 'lr': 0.0006779882954736326}. Best is trial 73 with value: 0.12482632866355348.\u001b[0m\n"
     ]
    },
    {
     "name": "stdout",
     "output_type": "stream",
     "text": [
      "[0.0296     1.25227232 3.98851128 0.44149949]\n"
     ]
    },
    {
     "name": "stderr",
     "output_type": "stream",
     "text": [
      "\u001b[32m[I 2020-12-15 08:37:11,572]\u001b[0m Trial 112 finished with value: 0.048799999999999996 and parameters: {'first_layer': 35, 'second_layer': 173, 'activation1': 'relu', 'activation2': 'sigmoid', 'lr': 0.00048618257755241555}. Best is trial 73 with value: 0.12482632866355348.\u001b[0m\n"
     ]
    },
    {
     "name": "stdout",
     "output_type": "stream",
     "text": [
      "[0.0488     1.46085382 3.99131785 0.91544548]\n"
     ]
    },
    {
     "name": "stderr",
     "output_type": "stream",
     "text": [
      "\u001b[32m[I 2020-12-15 08:41:17,238]\u001b[0m Trial 113 finished with value: 0.007866666666666666 and parameters: {'first_layer': 61, 'second_layer': 172, 'activation1': 'relu', 'activation2': 'sigmoid', 'lr': 0.00022577040224867336}. Best is trial 73 with value: 0.12482632866355348.\u001b[0m\n"
     ]
    },
    {
     "name": "stdout",
     "output_type": "stream",
     "text": [
      "[0.00786667 1.83516051 3.98449181 1.33382253]\n"
     ]
    },
    {
     "name": "stderr",
     "output_type": "stream",
     "text": [
      "\u001b[32m[I 2020-12-15 08:45:12,935]\u001b[0m Trial 114 finished with value: 0.050939292861907945 and parameters: {'first_layer': 36, 'second_layer': 178, 'activation1': 'relu', 'activation2': 'sigmoid', 'lr': 0.00034315177108376464}. Best is trial 73 with value: 0.12482632866355348.\u001b[0m\n"
     ]
    },
    {
     "name": "stdout",
     "output_type": "stream",
     "text": [
      "[0.05093929 1.2428996  3.98328534 1.21736733]\n"
     ]
    },
    {
     "name": "stderr",
     "output_type": "stream",
     "text": [
      "\u001b[32m[I 2020-12-15 08:49:07,835]\u001b[0m Trial 115 finished with value: 0.04320053368912609 and parameters: {'first_layer': 39, 'second_layer': 180, 'activation1': 'relu', 'activation2': 'sigmoid', 'lr': 0.00032581362800266066}. Best is trial 73 with value: 0.12482632866355348.\u001b[0m\n"
     ]
    },
    {
     "name": "stdout",
     "output_type": "stream",
     "text": [
      "[0.04320053 1.61801327 3.9807796  0.89560307]\n"
     ]
    },
    {
     "name": "stderr",
     "output_type": "stream",
     "text": [
      "\u001b[32m[I 2020-12-15 08:52:55,089]\u001b[0m Trial 116 finished with value: 0.0866747609517456 and parameters: {'first_layer': 20, 'second_layer': 169, 'activation1': 'relu', 'activation2': 'sigmoid', 'lr': 0.000411373431190281}. Best is trial 73 with value: 0.12482632866355348.\u001b[0m\n"
     ]
    },
    {
     "name": "stdout",
     "output_type": "stream",
     "text": [
      "[0.08667476 1.44748165 3.97643692 1.66990758]\n"
     ]
    },
    {
     "name": "stderr",
     "output_type": "stream",
     "text": [
      "\u001b[32m[I 2020-12-15 08:57:11,598]\u001b[0m Trial 117 finished with value: 0.08040293529019346 and parameters: {'first_layer': 70, 'second_layer': 155, 'activation1': 'relu', 'activation2': 'sigmoid', 'lr': 0.0006434678452251695}. Best is trial 73 with value: 0.12482632866355348.\u001b[0m\n"
     ]
    },
    {
     "name": "stdout",
     "output_type": "stream",
     "text": [
      "[0.08040294 1.45942095 3.98284371 1.21222432]\n"
     ]
    },
    {
     "name": "stderr",
     "output_type": "stream",
     "text": [
      "\u001b[32m[I 2020-12-15 09:01:32,958]\u001b[0m Trial 118 finished with value: 0.014533333333333334 and parameters: {'first_layer': 72, 'second_layer': 160, 'activation1': 'relu', 'activation2': 'sigmoid', 'lr': 0.0007081218158610436}. Best is trial 73 with value: 0.12482632866355348.\u001b[0m\n"
     ]
    },
    {
     "name": "stdout",
     "output_type": "stream",
     "text": [
      "[0.01453333 1.60105891 3.98947776 0.65695773]\n"
     ]
    },
    {
     "name": "stderr",
     "output_type": "stream",
     "text": [
      "\u001b[32m[I 2020-12-15 09:05:43,011]\u001b[0m Trial 119 finished with value: 0.0112 and parameters: {'first_layer': 50, 'second_layer': 155, 'activation1': 'relu', 'activation2': 'sigmoid', 'lr': 0.0006152933257796802}. Best is trial 73 with value: 0.12482632866355348.\u001b[0m\n"
     ]
    },
    {
     "name": "stdout",
     "output_type": "stream",
     "text": [
      "[0.0112     1.54732616 3.99000577 0.36442334]\n"
     ]
    },
    {
     "name": "stderr",
     "output_type": "stream",
     "text": [
      "\u001b[32m[I 2020-12-15 09:10:13,912]\u001b[0m Trial 120 finished with value: 0.0 and parameters: {'first_layer': 58, 'second_layer': 184, 'activation1': 'relu', 'activation2': 'sigmoid', 'lr': 0.0008159556653090266}. Best is trial 73 with value: 0.12482632866355348.\u001b[0m\n"
     ]
    },
    {
     "name": "stdout",
     "output_type": "stream",
     "text": [
      "[0.         1.48830673 3.99166988 0.72517822]\n"
     ]
    },
    {
     "name": "stderr",
     "output_type": "stream",
     "text": [
      "\u001b[32m[I 2020-12-15 09:14:16,744]\u001b[0m Trial 121 finished with value: 0.0164 and parameters: {'first_layer': 45, 'second_layer': 177, 'activation1': 'relu', 'activation2': 'sigmoid', 'lr': 0.00041241099680319114}. Best is trial 73 with value: 0.12482632866355348.\u001b[0m\n"
     ]
    },
    {
     "name": "stdout",
     "output_type": "stream",
     "text": [
      "[0.0164     1.56526857 3.98215567 0.80780522]\n"
     ]
    },
    {
     "name": "stderr",
     "output_type": "stream",
     "text": [
      "\u001b[32m[I 2020-12-15 09:18:15,774]\u001b[0m Trial 122 finished with value: 0.008933511229708695 and parameters: {'first_layer': 36, 'second_layer': 170, 'activation1': 'relu', 'activation2': 'sigmoid', 'lr': 0.0005501446488313697}. Best is trial 73 with value: 0.12482632866355348.\u001b[0m\n"
     ]
    },
    {
     "name": "stdout",
     "output_type": "stream",
     "text": [
      "[0.00893351 1.34250005 3.98844087 1.24934719]\n"
     ]
    },
    {
     "name": "stderr",
     "output_type": "stream",
     "text": [
      "\u001b[32m[I 2020-12-15 09:22:10,263]\u001b[0m Trial 123 finished with value: 0.04293333333333332 and parameters: {'first_layer': 26, 'second_layer': 187, 'activation1': 'relu', 'activation2': 'sigmoid', 'lr': 0.0003271785563692172}. Best is trial 73 with value: 0.12482632866355348.\u001b[0m\n"
     ]
    },
    {
     "name": "stdout",
     "output_type": "stream",
     "text": [
      "[0.04293333 2.27543842 3.9772082  0.38877383]\n"
     ]
    },
    {
     "name": "stderr",
     "output_type": "stream",
     "text": [
      "\u001b[32m[I 2020-12-15 09:26:07,383]\u001b[0m Trial 124 finished with value: 0.016133333333333333 and parameters: {'first_layer': 31, 'second_layer': 193, 'activation1': 'relu', 'activation2': 'sigmoid', 'lr': 0.0004345417180411359}. Best is trial 73 with value: 0.12482632866355348.\u001b[0m\n"
     ]
    },
    {
     "name": "stdout",
     "output_type": "stream",
     "text": [
      "[0.01613333 1.37871947 3.98153163 0.70705488]\n"
     ]
    },
    {
     "name": "stderr",
     "output_type": "stream",
     "text": [
      "\u001b[32m[I 2020-12-15 09:29:58,559]\u001b[0m Trial 125 finished with value: 0.03560355792750723 and parameters: {'first_layer': 20, 'second_layer': 164, 'activation1': 'relu', 'activation2': 'sigmoid', 'lr': 0.0010756985364822678}. Best is trial 73 with value: 0.12482632866355348.\u001b[0m\n"
     ]
    },
    {
     "name": "stdout",
     "output_type": "stream",
     "text": [
      "[0.03560356 1.30086405 3.97891388 0.75219531]\n"
     ]
    },
    {
     "name": "stderr",
     "output_type": "stream",
     "text": [
      "\u001b[32m[I 2020-12-15 09:33:55,126]\u001b[0m Trial 126 finished with value: 0.07720320213475648 and parameters: {'first_layer': 40, 'second_layer': 182, 'activation1': 'relu', 'activation2': 'sigmoid', 'lr': 0.0002683927432152043}. Best is trial 73 with value: 0.12482632866355348.\u001b[0m\n"
     ]
    },
    {
     "name": "stdout",
     "output_type": "stream",
     "text": [
      "[0.0772032  2.19144212 3.98190285 0.31328245]\n"
     ]
    },
    {
     "name": "stderr",
     "output_type": "stream",
     "text": [
      "\u001b[32m[I 2020-12-15 09:37:15,269]\u001b[0m Trial 127 pruned. \u001b[0m\n",
      "\u001b[32m[I 2020-12-15 09:41:35,231]\u001b[0m Trial 128 finished with value: 0.07614614187235934 and parameters: {'first_layer': 65, 'second_layer': 200, 'activation1': 'relu', 'activation2': 'sigmoid', 'lr': 0.00028752979561958206}. Best is trial 73 with value: 0.12482632866355348.\u001b[0m\n"
     ]
    },
    {
     "name": "stdout",
     "output_type": "stream",
     "text": [
      "[0.07614614 1.8299565  3.98400218 1.28150947]\n"
     ]
    },
    {
     "name": "stderr",
     "output_type": "stream",
     "text": [
      "\u001b[32m[I 2020-12-15 09:46:02,106]\u001b[0m Trial 129 finished with value: 0.06173893706915721 and parameters: {'first_layer': 77, 'second_layer': 199, 'activation1': 'relu', 'activation2': 'sigmoid', 'lr': 0.000267338568833757}. Best is trial 73 with value: 0.12482632866355348.\u001b[0m\n"
     ]
    },
    {
     "name": "stdout",
     "output_type": "stream",
     "text": [
      "[0.06173894 1.25102053 3.98220367 0.97042915]\n"
     ]
    },
    {
     "name": "stderr",
     "output_type": "stream",
     "text": [
      "\u001b[32m[I 2020-12-15 09:50:37,514]\u001b[0m Trial 130 finished with value: 0.024533333333333334 and parameters: {'first_layer': 77, 'second_layer': 197, 'activation1': 'relu', 'activation2': 'sigmoid', 'lr': 0.0002658366305511126}. Best is trial 73 with value: 0.12482632866355348.\u001b[0m\n"
     ]
    },
    {
     "name": "stdout",
     "output_type": "stream",
     "text": [
      "[0.02453333 1.06714035 3.98403098 1.76888937]\n"
     ]
    },
    {
     "name": "stderr",
     "output_type": "stream",
     "text": [
      "\u001b[32m[I 2020-12-15 09:54:37,382]\u001b[0m Trial 131 pruned. \u001b[0m\n",
      "\u001b[32m[I 2020-12-15 10:00:00,773]\u001b[0m Trial 132 finished with value: 0.05147031354236157 and parameters: {'first_layer': 71, 'second_layer': 200, 'activation1': 'relu', 'activation2': 'sigmoid', 'lr': 0.0003882281697397948}. Best is trial 73 with value: 0.12482632866355348.\u001b[0m\n"
     ]
    },
    {
     "name": "stdout",
     "output_type": "stream",
     "text": [
      "[0.05147031 1.22415809 3.98850807 1.55532579]\n"
     ]
    },
    {
     "name": "stderr",
     "output_type": "stream",
     "text": [
      "\u001b[32m[I 2020-12-15 10:05:03,607]\u001b[0m Trial 133 finished with value: 0.032136446519902155 and parameters: {'first_layer': 65, 'second_layer': 194, 'activation1': 'relu', 'activation2': 'sigmoid', 'lr': 0.0005916175994227}. Best is trial 73 with value: 0.12482632866355348.\u001b[0m\n"
     ]
    },
    {
     "name": "stdout",
     "output_type": "stream",
     "text": [
      "[0.03213645 1.34955026 3.98165964 0.96493319]\n"
     ]
    },
    {
     "name": "stderr",
     "output_type": "stream",
     "text": [
      "\u001b[32m[I 2020-12-15 10:10:00,376]\u001b[0m Trial 134 finished with value: 0.010400000000000001 and parameters: {'first_layer': 53, 'second_layer': 157, 'activation1': 'relu', 'activation2': 'sigmoid', 'lr': 0.0002915246858366244}. Best is trial 73 with value: 0.12482632866355348.\u001b[0m\n"
     ]
    },
    {
     "name": "stdout",
     "output_type": "stream",
     "text": [
      "[0.0104     1.11115397 3.99144586 0.81065078]\n"
     ]
    },
    {
     "name": "stderr",
     "output_type": "stream",
     "text": [
      "\u001b[32m[I 2020-12-15 10:15:52,491]\u001b[0m Trial 135 finished with value: 0.011600000000000001 and parameters: {'first_layer': 80, 'second_layer': 188, 'activation1': 'relu', 'activation2': 'sigmoid', 'lr': 0.000767385570910191}. Best is trial 73 with value: 0.12482632866355348.\u001b[0m\n"
     ]
    },
    {
     "name": "stdout",
     "output_type": "stream",
     "text": [
      "[0.0116     1.34522802 3.97765299 0.55350688]\n"
     ]
    },
    {
     "name": "stderr",
     "output_type": "stream",
     "text": [
      "\u001b[32m[I 2020-12-15 10:21:17,404]\u001b[0m Trial 136 finished with value: 0.013469601956860127 and parameters: {'first_layer': 67, 'second_layer': 171, 'activation1': 'relu', 'activation2': 'sigmoid', 'lr': 0.0004204120221547347}. Best is trial 73 with value: 0.12482632866355348.\u001b[0m\n"
     ]
    },
    {
     "name": "stdout",
     "output_type": "stream",
     "text": [
      "[0.0134696  1.33224162 3.9857911  0.43942049]\n"
     ]
    },
    {
     "name": "stderr",
     "output_type": "stream",
     "text": [
      "\u001b[32m[I 2020-12-15 10:26:58,857]\u001b[0m Trial 137 finished with value: 0.024799999999999996 and parameters: {'first_layer': 57, 'second_layer': 200, 'activation1': 'relu', 'activation2': 'sigmoid', 'lr': 0.0009659610584586946}. Best is trial 73 with value: 0.12482632866355348.\u001b[0m\n"
     ]
    },
    {
     "name": "stdout",
     "output_type": "stream",
     "text": [
      "[0.0248     1.7404649  3.9920347  0.48550073]\n"
     ]
    },
    {
     "name": "stderr",
     "output_type": "stream",
     "text": [
      "\u001b[32m[I 2020-12-15 10:31:41,454]\u001b[0m Trial 138 pruned. \u001b[0m\n",
      "\u001b[32m[I 2020-12-15 10:35:48,703]\u001b[0m Trial 139 finished with value: 0.030666666666666665 and parameters: {'first_layer': 61, 'second_layer': 175, 'activation1': 'relu', 'activation2': 'sigmoid', 'lr': 0.00015800852283603248}. Best is trial 73 with value: 0.12482632866355348.\u001b[0m\n"
     ]
    },
    {
     "name": "stdout",
     "output_type": "stream",
     "text": [
      "[0.03066667 0.86967544 3.98661675 1.75262708]\n"
     ]
    },
    {
     "name": "stderr",
     "output_type": "stream",
     "text": [
      "\u001b[32m[I 2020-12-15 10:40:11,893]\u001b[0m Trial 140 finished with value: 0.04413644651990216 and parameters: {'first_layer': 49, 'second_layer': 191, 'activation1': 'relu', 'activation2': 'sigmoid', 'lr': 0.0005934982034283268}. Best is trial 73 with value: 0.12482632866355348.\u001b[0m\n"
     ]
    },
    {
     "name": "stdout",
     "output_type": "stream",
     "text": [
      "[0.04413645 1.33944142 3.98076039 1.19201858]\n"
     ]
    },
    {
     "name": "stderr",
     "output_type": "stream",
     "text": [
      "\u001b[32m[I 2020-12-15 10:44:43,352]\u001b[0m Trial 141 finished with value: 0.03706693351122971 and parameters: {'first_layer': 84, 'second_layer': 186, 'activation1': 'relu', 'activation2': 'sigmoid', 'lr': 0.00022471150688980687}. Best is trial 73 with value: 0.12482632866355348.\u001b[0m\n"
     ]
    },
    {
     "name": "stdout",
     "output_type": "stream",
     "text": [
      "[0.03706693 1.93596945 3.98160843 0.81369983]\n"
     ]
    },
    {
     "name": "stderr",
     "output_type": "stream",
     "text": [
      "\u001b[32m[I 2020-12-15 10:49:31,977]\u001b[0m Trial 142 finished with value: 0.030134489659773177 and parameters: {'first_layer': 45, 'second_layer': 195, 'activation1': 'relu', 'activation2': 'sigmoid', 'lr': 0.00029522510547202015}. Best is trial 73 with value: 0.12482632866355348.\u001b[0m\n"
     ]
    },
    {
     "name": "stdout",
     "output_type": "stream",
     "text": [
      "[0.03013449 0.96544177 3.9843862  0.98092282]\n"
     ]
    },
    {
     "name": "stderr",
     "output_type": "stream",
     "text": [
      "\u001b[32m[I 2020-12-15 10:53:57,017]\u001b[0m Trial 143 finished with value: 0.06506746720035579 and parameters: {'first_layer': 29, 'second_layer': 179, 'activation1': 'relu', 'activation2': 'sigmoid', 'lr': 0.0002459559018728209}. Best is trial 73 with value: 0.12482632866355348.\u001b[0m\n"
     ]
    },
    {
     "name": "stdout",
     "output_type": "stream",
     "text": [
      "[0.06506747 1.39507942 3.97660014 1.75106129]\n"
     ]
    },
    {
     "name": "stderr",
     "output_type": "stream",
     "text": [
      "\u001b[32m[I 2020-12-15 10:58:17,637]\u001b[0m Trial 144 finished with value: 0.006800355792750723 and parameters: {'first_layer': 25, 'second_layer': 179, 'activation1': 'relu', 'activation2': 'sigmoid', 'lr': 0.00035023501495494414}. Best is trial 73 with value: 0.12482632866355348.\u001b[0m\n"
     ]
    },
    {
     "name": "stdout",
     "output_type": "stream",
     "text": [
      "[0.00680036 1.59678391 3.98058438 0.27731893]\n"
     ]
    },
    {
     "name": "stderr",
     "output_type": "stream",
     "text": [
      "\u001b[32m[I 2020-12-15 11:02:22,576]\u001b[0m Trial 145 finished with value: 0.016533333333333334 and parameters: {'first_layer': 41, 'second_layer': 175, 'activation1': 'relu', 'activation2': 'sigmoid', 'lr': 0.00046263020430857137}. Best is trial 73 with value: 0.12482632866355348.\u001b[0m\n"
     ]
    },
    {
     "name": "stdout",
     "output_type": "stream",
     "text": [
      "[0.01653333 1.44443089 3.98539429 0.38981514]\n"
     ]
    },
    {
     "name": "stderr",
     "output_type": "stream",
     "text": [
      "\u001b[32m[I 2020-12-15 11:06:16,638]\u001b[0m Trial 146 finished with value: 0.0216 and parameters: {'first_layer': 34, 'second_layer': 167, 'activation1': 'relu', 'activation2': 'sigmoid', 'lr': 0.00024198780222612072}. Best is trial 73 with value: 0.12482632866355348.\u001b[0m\n"
     ]
    },
    {
     "name": "stdout",
     "output_type": "stream",
     "text": [
      "[0.0216     1.25879898 3.98025795 0.71326966]\n"
     ]
    },
    {
     "name": "stderr",
     "output_type": "stream",
     "text": [
      "\u001b[32m[I 2020-12-15 11:10:09,387]\u001b[0m Trial 147 finished with value: 0.007733333333333333 and parameters: {'first_layer': 20, 'second_layer': 183, 'activation1': 'relu', 'activation2': 'sigmoid', 'lr': 0.0001314422365024429}. Best is trial 73 with value: 0.12482632866355348.\u001b[0m\n"
     ]
    },
    {
     "name": "stdout",
     "output_type": "stream",
     "text": [
      "[0.00773333 1.63843171 3.98033796 1.37105516]\n"
     ]
    },
    {
     "name": "stderr",
     "output_type": "stream",
     "text": [
      "\u001b[32m[I 2020-12-15 11:15:31,264]\u001b[0m Trial 148 finished with value: 0.018000000000000002 and parameters: {'first_layer': 114, 'second_layer': 200, 'activation1': 'relu', 'activation2': 'sigmoid', 'lr': 0.0005027449648427176}. Best is trial 73 with value: 0.12482632866355348.\u001b[0m\n"
     ]
    },
    {
     "name": "stdout",
     "output_type": "stream",
     "text": [
      "[0.018      1.63977405 3.98479263 0.75043924]\n"
     ]
    },
    {
     "name": "stderr",
     "output_type": "stream",
     "text": [
      "\u001b[32m[I 2020-12-15 11:19:38,345]\u001b[0m Trial 149 finished with value: 0.09533502334889926 and parameters: {'first_layer': 25, 'second_layer': 189, 'activation1': 'relu', 'activation2': 'sigmoid', 'lr': 0.0006731664308089185}. Best is trial 73 with value: 0.12482632866355348.\u001b[0m\n"
     ]
    },
    {
     "name": "stdout",
     "output_type": "stream",
     "text": [
      "[0.09533502 1.27657606 3.97535846 0.82243943]\n"
     ]
    },
    {
     "name": "stderr",
     "output_type": "stream",
     "text": [
      "\u001b[32m[I 2020-12-15 11:24:03,066]\u001b[0m Trial 150 finished with value: 0.08547191460973982 and parameters: {'first_layer': 24, 'second_layer': 191, 'activation1': 'relu', 'activation2': 'sigmoid', 'lr': 0.0006806940944017219}. Best is trial 73 with value: 0.12482632866355348.\u001b[0m\n"
     ]
    },
    {
     "name": "stdout",
     "output_type": "stream",
     "text": [
      "[0.08547191 1.60962859 3.97353118 1.1310676 ]\n"
     ]
    },
    {
     "ename": "KeyboardInterrupt",
     "evalue": "",
     "output_type": "error",
     "traceback": [
      "\u001b[0;31m---------------------------------------------------------------------------\u001b[0m",
      "\u001b[0;31mKeyboardInterrupt\u001b[0m                         Traceback (most recent call last)",
      "\u001b[0;32m<ipython-input-78-73bf4aa1e203>\u001b[0m in \u001b[0;36m<module>\u001b[0;34m\u001b[0m\n\u001b[1;32m      1\u001b[0m \u001b[0mstudy\u001b[0m \u001b[0;34m=\u001b[0m \u001b[0moptuna\u001b[0m\u001b[0;34m.\u001b[0m\u001b[0mcreate_study\u001b[0m\u001b[0;34m(\u001b[0m\u001b[0msampler\u001b[0m\u001b[0;34m=\u001b[0m\u001b[0moptuna\u001b[0m\u001b[0;34m.\u001b[0m\u001b[0msamplers\u001b[0m\u001b[0;34m.\u001b[0m\u001b[0mTPESampler\u001b[0m\u001b[0;34m(\u001b[0m\u001b[0;34m)\u001b[0m\u001b[0;34m,\u001b[0m\u001b[0mdirection\u001b[0m\u001b[0;34m=\u001b[0m\u001b[0;34m\"maximize\"\u001b[0m\u001b[0;34m)\u001b[0m\u001b[0;34m\u001b[0m\u001b[0;34m\u001b[0m\u001b[0m\n\u001b[0;32m----> 2\u001b[0;31m \u001b[0mstudy\u001b[0m\u001b[0;34m.\u001b[0m\u001b[0moptimize\u001b[0m\u001b[0;34m(\u001b[0m\u001b[0mobjective\u001b[0m\u001b[0;34m,\u001b[0m \u001b[0mn_trials\u001b[0m\u001b[0;34m=\u001b[0m\u001b[0;36m500\u001b[0m\u001b[0;34m)\u001b[0m\u001b[0;34m\u001b[0m\u001b[0;34m\u001b[0m\u001b[0m\n\u001b[0m",
      "\u001b[0;32m/opt/miniconda3/envs/cmpt353/lib/python3.8/site-packages/optuna/study.py\u001b[0m in \u001b[0;36moptimize\u001b[0;34m(self, func, n_trials, timeout, n_jobs, catch, callbacks, gc_after_trial, show_progress_bar)\u001b[0m\n\u001b[1;32m    304\u001b[0m                 \u001b[0mIf\u001b[0m \u001b[0mnested\u001b[0m \u001b[0minvocation\u001b[0m \u001b[0mof\u001b[0m \u001b[0mthis\u001b[0m \u001b[0mmethod\u001b[0m \u001b[0moccurs\u001b[0m\u001b[0;34m.\u001b[0m\u001b[0;34m\u001b[0m\u001b[0;34m\u001b[0m\u001b[0m\n\u001b[1;32m    305\u001b[0m         \"\"\"\n\u001b[0;32m--> 306\u001b[0;31m         _optimize(\n\u001b[0m\u001b[1;32m    307\u001b[0m             \u001b[0mstudy\u001b[0m\u001b[0;34m=\u001b[0m\u001b[0mself\u001b[0m\u001b[0;34m,\u001b[0m\u001b[0;34m\u001b[0m\u001b[0;34m\u001b[0m\u001b[0m\n\u001b[1;32m    308\u001b[0m             \u001b[0mfunc\u001b[0m\u001b[0;34m=\u001b[0m\u001b[0mfunc\u001b[0m\u001b[0;34m,\u001b[0m\u001b[0;34m\u001b[0m\u001b[0;34m\u001b[0m\u001b[0m\n",
      "\u001b[0;32m/opt/miniconda3/envs/cmpt353/lib/python3.8/site-packages/optuna/_optimize.py\u001b[0m in \u001b[0;36m_optimize\u001b[0;34m(study, func, n_trials, timeout, n_jobs, catch, callbacks, gc_after_trial, show_progress_bar)\u001b[0m\n\u001b[1;32m     53\u001b[0m     \u001b[0;32mtry\u001b[0m\u001b[0;34m:\u001b[0m\u001b[0;34m\u001b[0m\u001b[0;34m\u001b[0m\u001b[0m\n\u001b[1;32m     54\u001b[0m         \u001b[0;32mif\u001b[0m \u001b[0mn_jobs\u001b[0m \u001b[0;34m==\u001b[0m \u001b[0;36m1\u001b[0m\u001b[0;34m:\u001b[0m\u001b[0;34m\u001b[0m\u001b[0;34m\u001b[0m\u001b[0m\n\u001b[0;32m---> 55\u001b[0;31m             _optimize_sequential(\n\u001b[0m\u001b[1;32m     56\u001b[0m                 \u001b[0mstudy\u001b[0m\u001b[0;34m,\u001b[0m\u001b[0;34m\u001b[0m\u001b[0;34m\u001b[0m\u001b[0m\n\u001b[1;32m     57\u001b[0m                 \u001b[0mfunc\u001b[0m\u001b[0;34m,\u001b[0m\u001b[0;34m\u001b[0m\u001b[0;34m\u001b[0m\u001b[0m\n",
      "\u001b[0;32m/opt/miniconda3/envs/cmpt353/lib/python3.8/site-packages/optuna/_optimize.py\u001b[0m in \u001b[0;36m_optimize_sequential\u001b[0;34m(study, func, n_trials, timeout, catch, callbacks, gc_after_trial, reseed_sampler_rng, time_start, progress_bar)\u001b[0m\n\u001b[1;32m    154\u001b[0m \u001b[0;34m\u001b[0m\u001b[0m\n\u001b[1;32m    155\u001b[0m         \u001b[0;32mtry\u001b[0m\u001b[0;34m:\u001b[0m\u001b[0;34m\u001b[0m\u001b[0;34m\u001b[0m\u001b[0m\n\u001b[0;32m--> 156\u001b[0;31m             \u001b[0mtrial\u001b[0m \u001b[0;34m=\u001b[0m \u001b[0m_run_trial\u001b[0m\u001b[0;34m(\u001b[0m\u001b[0mstudy\u001b[0m\u001b[0;34m,\u001b[0m \u001b[0mfunc\u001b[0m\u001b[0;34m,\u001b[0m \u001b[0mcatch\u001b[0m\u001b[0;34m)\u001b[0m\u001b[0;34m\u001b[0m\u001b[0;34m\u001b[0m\u001b[0m\n\u001b[0m\u001b[1;32m    157\u001b[0m         \u001b[0;32mexcept\u001b[0m \u001b[0mException\u001b[0m\u001b[0;34m:\u001b[0m\u001b[0;34m\u001b[0m\u001b[0;34m\u001b[0m\u001b[0m\n\u001b[1;32m    158\u001b[0m             \u001b[0;32mraise\u001b[0m\u001b[0;34m\u001b[0m\u001b[0;34m\u001b[0m\u001b[0m\n",
      "\u001b[0;32m/opt/miniconda3/envs/cmpt353/lib/python3.8/site-packages/optuna/_optimize.py\u001b[0m in \u001b[0;36m_run_trial\u001b[0;34m(study, func, catch)\u001b[0m\n\u001b[1;32m    187\u001b[0m \u001b[0;34m\u001b[0m\u001b[0m\n\u001b[1;32m    188\u001b[0m     \u001b[0;32mtry\u001b[0m\u001b[0;34m:\u001b[0m\u001b[0;34m\u001b[0m\u001b[0;34m\u001b[0m\u001b[0m\n\u001b[0;32m--> 189\u001b[0;31m         \u001b[0mvalue\u001b[0m \u001b[0;34m=\u001b[0m \u001b[0mfunc\u001b[0m\u001b[0;34m(\u001b[0m\u001b[0mtrial\u001b[0m\u001b[0;34m)\u001b[0m\u001b[0;34m\u001b[0m\u001b[0;34m\u001b[0m\u001b[0m\n\u001b[0m\u001b[1;32m    190\u001b[0m     \u001b[0;32mexcept\u001b[0m \u001b[0mexceptions\u001b[0m\u001b[0;34m.\u001b[0m\u001b[0mTrialPruned\u001b[0m \u001b[0;32mas\u001b[0m \u001b[0me\u001b[0m\u001b[0;34m:\u001b[0m\u001b[0;34m\u001b[0m\u001b[0;34m\u001b[0m\u001b[0m\n\u001b[1;32m    191\u001b[0m         \u001b[0;31m# Register the last intermediate value if present as the value of the trial.\u001b[0m\u001b[0;34m\u001b[0m\u001b[0;34m\u001b[0m\u001b[0;34m\u001b[0m\u001b[0m\n",
      "\u001b[0;32m<ipython-input-77-91df509035d5>\u001b[0m in \u001b[0;36mobjective\u001b[0;34m(trial)\u001b[0m\n\u001b[1;32m     33\u001b[0m                 \u001b[0my_hat\u001b[0m \u001b[0;34m=\u001b[0m \u001b[0mmodel\u001b[0m\u001b[0;34m(\u001b[0m\u001b[0mX\u001b[0m\u001b[0;34m)\u001b[0m\u001b[0;34m\u001b[0m\u001b[0;34m\u001b[0m\u001b[0m\n\u001b[1;32m     34\u001b[0m                 \u001b[0mloss\u001b[0m \u001b[0;34m=\u001b[0m \u001b[0mcriterion\u001b[0m\u001b[0;34m(\u001b[0m\u001b[0my_hat\u001b[0m\u001b[0;34m,\u001b[0m \u001b[0my\u001b[0m\u001b[0;34m.\u001b[0m\u001b[0mlong\u001b[0m\u001b[0;34m(\u001b[0m\u001b[0;34m)\u001b[0m\u001b[0;34m)\u001b[0m\u001b[0;34m\u001b[0m\u001b[0;34m\u001b[0m\u001b[0m\n\u001b[0;32m---> 35\u001b[0;31m                 \u001b[0mloss\u001b[0m\u001b[0;34m.\u001b[0m\u001b[0mbackward\u001b[0m\u001b[0;34m(\u001b[0m\u001b[0;34m)\u001b[0m\u001b[0;34m\u001b[0m\u001b[0;34m\u001b[0m\u001b[0m\n\u001b[0m\u001b[1;32m     36\u001b[0m                 \u001b[0moptimizer\u001b[0m\u001b[0;34m.\u001b[0m\u001b[0mstep\u001b[0m\u001b[0;34m(\u001b[0m\u001b[0;34m)\u001b[0m\u001b[0;34m\u001b[0m\u001b[0;34m\u001b[0m\u001b[0m\n\u001b[1;32m     37\u001b[0m                 \u001b[0moptimizer\u001b[0m\u001b[0;34m.\u001b[0m\u001b[0mzero_grad\u001b[0m\u001b[0;34m(\u001b[0m\u001b[0;34m)\u001b[0m\u001b[0;34m\u001b[0m\u001b[0;34m\u001b[0m\u001b[0m\n",
      "\u001b[0;32m/opt/miniconda3/envs/cmpt353/lib/python3.8/site-packages/torch/tensor.py\u001b[0m in \u001b[0;36mbackward\u001b[0;34m(self, gradient, retain_graph, create_graph)\u001b[0m\n\u001b[1;32m    219\u001b[0m                 \u001b[0mretain_graph\u001b[0m\u001b[0;34m=\u001b[0m\u001b[0mretain_graph\u001b[0m\u001b[0;34m,\u001b[0m\u001b[0;34m\u001b[0m\u001b[0;34m\u001b[0m\u001b[0m\n\u001b[1;32m    220\u001b[0m                 create_graph=create_graph)\n\u001b[0;32m--> 221\u001b[0;31m         \u001b[0mtorch\u001b[0m\u001b[0;34m.\u001b[0m\u001b[0mautograd\u001b[0m\u001b[0;34m.\u001b[0m\u001b[0mbackward\u001b[0m\u001b[0;34m(\u001b[0m\u001b[0mself\u001b[0m\u001b[0;34m,\u001b[0m \u001b[0mgradient\u001b[0m\u001b[0;34m,\u001b[0m \u001b[0mretain_graph\u001b[0m\u001b[0;34m,\u001b[0m \u001b[0mcreate_graph\u001b[0m\u001b[0;34m)\u001b[0m\u001b[0;34m\u001b[0m\u001b[0;34m\u001b[0m\u001b[0m\n\u001b[0m\u001b[1;32m    222\u001b[0m \u001b[0;34m\u001b[0m\u001b[0m\n\u001b[1;32m    223\u001b[0m     \u001b[0;32mdef\u001b[0m \u001b[0mregister_hook\u001b[0m\u001b[0;34m(\u001b[0m\u001b[0mself\u001b[0m\u001b[0;34m,\u001b[0m \u001b[0mhook\u001b[0m\u001b[0;34m)\u001b[0m\u001b[0;34m:\u001b[0m\u001b[0;34m\u001b[0m\u001b[0;34m\u001b[0m\u001b[0m\n",
      "\u001b[0;32m/opt/miniconda3/envs/cmpt353/lib/python3.8/site-packages/torch/autograd/__init__.py\u001b[0m in \u001b[0;36mbackward\u001b[0;34m(tensors, grad_tensors, retain_graph, create_graph, grad_variables)\u001b[0m\n\u001b[1;32m    128\u001b[0m         \u001b[0mretain_graph\u001b[0m \u001b[0;34m=\u001b[0m \u001b[0mcreate_graph\u001b[0m\u001b[0;34m\u001b[0m\u001b[0;34m\u001b[0m\u001b[0m\n\u001b[1;32m    129\u001b[0m \u001b[0;34m\u001b[0m\u001b[0m\n\u001b[0;32m--> 130\u001b[0;31m     Variable._execution_engine.run_backward(\n\u001b[0m\u001b[1;32m    131\u001b[0m         \u001b[0mtensors\u001b[0m\u001b[0;34m,\u001b[0m \u001b[0mgrad_tensors_\u001b[0m\u001b[0;34m,\u001b[0m \u001b[0mretain_graph\u001b[0m\u001b[0;34m,\u001b[0m \u001b[0mcreate_graph\u001b[0m\u001b[0;34m,\u001b[0m\u001b[0;34m\u001b[0m\u001b[0;34m\u001b[0m\u001b[0m\n\u001b[1;32m    132\u001b[0m         allow_unreachable=True)  # allow_unreachable flag\n",
      "\u001b[0;31mKeyboardInterrupt\u001b[0m: "
     ]
    }
   ],
   "source": [
    "study = optuna.create_study(sampler=optuna.samplers.TPESampler(),direction=\"maximize\")\n",
    "study.optimize(objective, n_trials=500)"
   ]
  },
  {
   "cell_type": "code",
   "execution_count": 83,
   "metadata": {},
   "outputs": [
    {
     "data": {
      "text/html": [
       "<div>\n",
       "<style scoped>\n",
       "    .dataframe tbody tr th:only-of-type {\n",
       "        vertical-align: middle;\n",
       "    }\n",
       "\n",
       "    .dataframe tbody tr th {\n",
       "        vertical-align: top;\n",
       "    }\n",
       "\n",
       "    .dataframe thead th {\n",
       "        text-align: right;\n",
       "    }\n",
       "</style>\n",
       "<table border=\"1\" class=\"dataframe\">\n",
       "  <thead>\n",
       "    <tr style=\"text-align: right;\">\n",
       "      <th></th>\n",
       "      <th>number</th>\n",
       "      <th>value</th>\n",
       "      <th>datetime_start</th>\n",
       "      <th>datetime_complete</th>\n",
       "      <th>duration</th>\n",
       "      <th>params_activation1</th>\n",
       "      <th>params_activation2</th>\n",
       "      <th>params_first_layer</th>\n",
       "      <th>params_lr</th>\n",
       "      <th>params_second_layer</th>\n",
       "      <th>user_attrs_overall recall</th>\n",
       "      <th>state</th>\n",
       "    </tr>\n",
       "  </thead>\n",
       "  <tbody>\n",
       "    <tr>\n",
       "      <th>0</th>\n",
       "      <td>0</td>\n",
       "      <td>0.000000</td>\n",
       "      <td>2020-12-15 00:15:23.396931</td>\n",
       "      <td>2020-12-15 00:19:56.451666</td>\n",
       "      <td>0 days 00:04:33.054735</td>\n",
       "      <td>relu</td>\n",
       "      <td>sigmoid</td>\n",
       "      <td>186</td>\n",
       "      <td>0.083976</td>\n",
       "      <td>52</td>\n",
       "      <td>[0.0, 0.0, 4.0, 0.0]</td>\n",
       "      <td>COMPLETE</td>\n",
       "    </tr>\n",
       "    <tr>\n",
       "      <th>1</th>\n",
       "      <td>1</td>\n",
       "      <td>0.000000</td>\n",
       "      <td>2020-12-15 00:19:56.452697</td>\n",
       "      <td>2020-12-15 00:24:26.309333</td>\n",
       "      <td>0 days 00:04:29.856636</td>\n",
       "      <td>relu</td>\n",
       "      <td>sigmoid</td>\n",
       "      <td>237</td>\n",
       "      <td>0.000010</td>\n",
       "      <td>48</td>\n",
       "      <td>[0.0, 2.321774558623811, 3.997142254174846, 0.0]</td>\n",
       "      <td>COMPLETE</td>\n",
       "    </tr>\n",
       "    <tr>\n",
       "      <th>2</th>\n",
       "      <td>2</td>\n",
       "      <td>0.000000</td>\n",
       "      <td>2020-12-15 00:24:26.310330</td>\n",
       "      <td>2020-12-15 00:28:51.860974</td>\n",
       "      <td>0 days 00:04:25.550644</td>\n",
       "      <td>relu</td>\n",
       "      <td>sigmoid</td>\n",
       "      <td>141</td>\n",
       "      <td>0.024169</td>\n",
       "      <td>48</td>\n",
       "      <td>[0.0, 0.0, 4.0, 0.0]</td>\n",
       "      <td>COMPLETE</td>\n",
       "    </tr>\n",
       "    <tr>\n",
       "      <th>3</th>\n",
       "      <td>3</td>\n",
       "      <td>0.000000</td>\n",
       "      <td>2020-12-15 00:28:51.861974</td>\n",
       "      <td>2020-12-15 00:33:22.594593</td>\n",
       "      <td>0 days 00:04:30.732619</td>\n",
       "      <td>relu</td>\n",
       "      <td>sigmoid</td>\n",
       "      <td>38</td>\n",
       "      <td>0.004196</td>\n",
       "      <td>155</td>\n",
       "      <td>[0.0, 1.2443246009408153, 3.9920091174617043, ...</td>\n",
       "      <td>COMPLETE</td>\n",
       "    </tr>\n",
       "    <tr>\n",
       "      <th>4</th>\n",
       "      <td>4</td>\n",
       "      <td>0.000000</td>\n",
       "      <td>2020-12-15 00:33:22.595632</td>\n",
       "      <td>2020-12-15 00:37:44.725519</td>\n",
       "      <td>0 days 00:04:22.129887</td>\n",
       "      <td>relu</td>\n",
       "      <td>sigmoid</td>\n",
       "      <td>125</td>\n",
       "      <td>0.000040</td>\n",
       "      <td>95</td>\n",
       "      <td>[0.0, 2.0513354459031232, 3.999103944393326, 0...</td>\n",
       "      <td>COMPLETE</td>\n",
       "    </tr>\n",
       "    <tr>\n",
       "      <th>...</th>\n",
       "      <td>...</td>\n",
       "      <td>...</td>\n",
       "      <td>...</td>\n",
       "      <td>...</td>\n",
       "      <td>...</td>\n",
       "      <td>...</td>\n",
       "      <td>...</td>\n",
       "      <td>...</td>\n",
       "      <td>...</td>\n",
       "      <td>...</td>\n",
       "      <td>...</td>\n",
       "      <td>...</td>\n",
       "    </tr>\n",
       "    <tr>\n",
       "      <th>147</th>\n",
       "      <td>147</td>\n",
       "      <td>0.007733</td>\n",
       "      <td>2020-12-15 11:06:16.638762</td>\n",
       "      <td>2020-12-15 11:10:09.387471</td>\n",
       "      <td>0 days 00:03:52.748709</td>\n",
       "      <td>relu</td>\n",
       "      <td>sigmoid</td>\n",
       "      <td>20</td>\n",
       "      <td>0.000131</td>\n",
       "      <td>183</td>\n",
       "      <td>[0.007733333333333333, 1.6384317121656466, 3.9...</td>\n",
       "      <td>COMPLETE</td>\n",
       "    </tr>\n",
       "    <tr>\n",
       "      <th>148</th>\n",
       "      <td>148</td>\n",
       "      <td>0.018000</td>\n",
       "      <td>2020-12-15 11:10:09.388558</td>\n",
       "      <td>2020-12-15 11:15:31.264006</td>\n",
       "      <td>0 days 00:05:21.875448</td>\n",
       "      <td>relu</td>\n",
       "      <td>sigmoid</td>\n",
       "      <td>114</td>\n",
       "      <td>0.000503</td>\n",
       "      <td>200</td>\n",
       "      <td>[0.018000000000000002, 1.639774046883303, 3.98...</td>\n",
       "      <td>COMPLETE</td>\n",
       "    </tr>\n",
       "    <tr>\n",
       "      <th>149</th>\n",
       "      <td>149</td>\n",
       "      <td>0.095335</td>\n",
       "      <td>2020-12-15 11:15:31.265021</td>\n",
       "      <td>2020-12-15 11:19:38.345234</td>\n",
       "      <td>0 days 00:04:07.080213</td>\n",
       "      <td>relu</td>\n",
       "      <td>sigmoid</td>\n",
       "      <td>25</td>\n",
       "      <td>0.000673</td>\n",
       "      <td>189</td>\n",
       "      <td>[0.09533502334889926, 1.2765760623536129, 3.97...</td>\n",
       "      <td>COMPLETE</td>\n",
       "    </tr>\n",
       "    <tr>\n",
       "      <th>150</th>\n",
       "      <td>150</td>\n",
       "      <td>0.085472</td>\n",
       "      <td>2020-12-15 11:19:38.346148</td>\n",
       "      <td>2020-12-15 11:24:03.066334</td>\n",
       "      <td>0 days 00:04:24.720186</td>\n",
       "      <td>relu</td>\n",
       "      <td>sigmoid</td>\n",
       "      <td>24</td>\n",
       "      <td>0.000681</td>\n",
       "      <td>191</td>\n",
       "      <td>[0.08547191460973982, 1.609628594485012, 3.973...</td>\n",
       "      <td>COMPLETE</td>\n",
       "    </tr>\n",
       "    <tr>\n",
       "      <th>151</th>\n",
       "      <td>151</td>\n",
       "      <td>NaN</td>\n",
       "      <td>2020-12-15 11:24:03.067441</td>\n",
       "      <td>NaT</td>\n",
       "      <td>NaT</td>\n",
       "      <td>relu</td>\n",
       "      <td>sigmoid</td>\n",
       "      <td>25</td>\n",
       "      <td>0.000696</td>\n",
       "      <td>192</td>\n",
       "      <td>[0.0, 0.5445509477040565, 0.9992159623661936, ...</td>\n",
       "      <td>RUNNING</td>\n",
       "    </tr>\n",
       "  </tbody>\n",
       "</table>\n",
       "<p>152 rows × 12 columns</p>\n",
       "</div>"
      ],
      "text/plain": [
       "     number     value             datetime_start          datetime_complete  \\\n",
       "0         0  0.000000 2020-12-15 00:15:23.396931 2020-12-15 00:19:56.451666   \n",
       "1         1  0.000000 2020-12-15 00:19:56.452697 2020-12-15 00:24:26.309333   \n",
       "2         2  0.000000 2020-12-15 00:24:26.310330 2020-12-15 00:28:51.860974   \n",
       "3         3  0.000000 2020-12-15 00:28:51.861974 2020-12-15 00:33:22.594593   \n",
       "4         4  0.000000 2020-12-15 00:33:22.595632 2020-12-15 00:37:44.725519   \n",
       "..      ...       ...                        ...                        ...   \n",
       "147     147  0.007733 2020-12-15 11:06:16.638762 2020-12-15 11:10:09.387471   \n",
       "148     148  0.018000 2020-12-15 11:10:09.388558 2020-12-15 11:15:31.264006   \n",
       "149     149  0.095335 2020-12-15 11:15:31.265021 2020-12-15 11:19:38.345234   \n",
       "150     150  0.085472 2020-12-15 11:19:38.346148 2020-12-15 11:24:03.066334   \n",
       "151     151       NaN 2020-12-15 11:24:03.067441                        NaT   \n",
       "\n",
       "                  duration params_activation1 params_activation2  \\\n",
       "0   0 days 00:04:33.054735               relu            sigmoid   \n",
       "1   0 days 00:04:29.856636               relu            sigmoid   \n",
       "2   0 days 00:04:25.550644               relu            sigmoid   \n",
       "3   0 days 00:04:30.732619               relu            sigmoid   \n",
       "4   0 days 00:04:22.129887               relu            sigmoid   \n",
       "..                     ...                ...                ...   \n",
       "147 0 days 00:03:52.748709               relu            sigmoid   \n",
       "148 0 days 00:05:21.875448               relu            sigmoid   \n",
       "149 0 days 00:04:07.080213               relu            sigmoid   \n",
       "150 0 days 00:04:24.720186               relu            sigmoid   \n",
       "151                    NaT               relu            sigmoid   \n",
       "\n",
       "     params_first_layer  params_lr  params_second_layer  \\\n",
       "0                   186   0.083976                   52   \n",
       "1                   237   0.000010                   48   \n",
       "2                   141   0.024169                   48   \n",
       "3                    38   0.004196                  155   \n",
       "4                   125   0.000040                   95   \n",
       "..                  ...        ...                  ...   \n",
       "147                  20   0.000131                  183   \n",
       "148                 114   0.000503                  200   \n",
       "149                  25   0.000673                  189   \n",
       "150                  24   0.000681                  191   \n",
       "151                  25   0.000696                  192   \n",
       "\n",
       "                             user_attrs_overall recall     state  \n",
       "0                                 [0.0, 0.0, 4.0, 0.0]  COMPLETE  \n",
       "1     [0.0, 2.321774558623811, 3.997142254174846, 0.0]  COMPLETE  \n",
       "2                                 [0.0, 0.0, 4.0, 0.0]  COMPLETE  \n",
       "3    [0.0, 1.2443246009408153, 3.9920091174617043, ...  COMPLETE  \n",
       "4    [0.0, 2.0513354459031232, 3.999103944393326, 0...  COMPLETE  \n",
       "..                                                 ...       ...  \n",
       "147  [0.007733333333333333, 1.6384317121656466, 3.9...  COMPLETE  \n",
       "148  [0.018000000000000002, 1.639774046883303, 3.98...  COMPLETE  \n",
       "149  [0.09533502334889926, 1.2765760623536129, 3.97...  COMPLETE  \n",
       "150  [0.08547191460973982, 1.609628594485012, 3.973...  COMPLETE  \n",
       "151  [0.0, 0.5445509477040565, 0.9992159623661936, ...   RUNNING  \n",
       "\n",
       "[152 rows x 12 columns]"
      ]
     },
     "execution_count": 83,
     "metadata": {},
     "output_type": "execute_result"
    }
   ],
   "source": [
    "study.trials_dataframe()"
   ]
  },
  {
   "cell_type": "code",
   "execution_count": 84,
   "metadata": {},
   "outputs": [],
   "source": [
    "import pandas as pd"
   ]
  },
  {
   "cell_type": "code",
   "execution_count": 93,
   "metadata": {},
   "outputs": [],
   "source": [
    "df = pd.read_csv('nn_trials.csv', index_col=0)"
   ]
  },
  {
   "cell_type": "code",
   "execution_count": 95,
   "metadata": {},
   "outputs": [],
   "source": [
    "df = df.drop(columns=['number'])"
   ]
  },
  {
   "cell_type": "code",
   "execution_count": 97,
   "metadata": {},
   "outputs": [],
   "source": [
    "df['value'] = df['value']/4"
   ]
  },
  {
   "cell_type": "code",
   "execution_count": 250,
   "metadata": {},
   "outputs": [
    {
     "ename": "KeyError",
     "evalue": "'user_attrs_overall recall'",
     "output_type": "error",
     "traceback": [
      "\u001b[0;31m---------------------------------------------------------------------------\u001b[0m",
      "\u001b[0;31mKeyError\u001b[0m                                  Traceback (most recent call last)",
      "\u001b[0;32m/opt/miniconda3/envs/cmpt353/lib/python3.8/site-packages/pandas/core/indexes/base.py\u001b[0m in \u001b[0;36mget_loc\u001b[0;34m(self, key, method, tolerance)\u001b[0m\n\u001b[1;32m   2894\u001b[0m             \u001b[0;32mtry\u001b[0m\u001b[0;34m:\u001b[0m\u001b[0;34m\u001b[0m\u001b[0;34m\u001b[0m\u001b[0m\n\u001b[0;32m-> 2895\u001b[0;31m                 \u001b[0;32mreturn\u001b[0m \u001b[0mself\u001b[0m\u001b[0;34m.\u001b[0m\u001b[0m_engine\u001b[0m\u001b[0;34m.\u001b[0m\u001b[0mget_loc\u001b[0m\u001b[0;34m(\u001b[0m\u001b[0mcasted_key\u001b[0m\u001b[0;34m)\u001b[0m\u001b[0;34m\u001b[0m\u001b[0;34m\u001b[0m\u001b[0m\n\u001b[0m\u001b[1;32m   2896\u001b[0m             \u001b[0;32mexcept\u001b[0m \u001b[0mKeyError\u001b[0m \u001b[0;32mas\u001b[0m \u001b[0merr\u001b[0m\u001b[0;34m:\u001b[0m\u001b[0;34m\u001b[0m\u001b[0;34m\u001b[0m\u001b[0m\n",
      "\u001b[0;32mpandas/_libs/index.pyx\u001b[0m in \u001b[0;36mpandas._libs.index.IndexEngine.get_loc\u001b[0;34m()\u001b[0m\n",
      "\u001b[0;32mpandas/_libs/index.pyx\u001b[0m in \u001b[0;36mpandas._libs.index.IndexEngine.get_loc\u001b[0;34m()\u001b[0m\n",
      "\u001b[0;32mpandas/_libs/hashtable_class_helper.pxi\u001b[0m in \u001b[0;36mpandas._libs.hashtable.PyObjectHashTable.get_item\u001b[0;34m()\u001b[0m\n",
      "\u001b[0;32mpandas/_libs/hashtable_class_helper.pxi\u001b[0m in \u001b[0;36mpandas._libs.hashtable.PyObjectHashTable.get_item\u001b[0;34m()\u001b[0m\n",
      "\u001b[0;31mKeyError\u001b[0m: 'user_attrs_overall recall'",
      "\nThe above exception was the direct cause of the following exception:\n",
      "\u001b[0;31mKeyError\u001b[0m                                  Traceback (most recent call last)",
      "\u001b[0;32m<ipython-input-250-85dfcd5b969c>\u001b[0m in \u001b[0;36m<module>\u001b[0;34m\u001b[0m\n\u001b[0;32m----> 1\u001b[0;31m \u001b[0mvals\u001b[0m \u001b[0;34m=\u001b[0m \u001b[0mdf\u001b[0m\u001b[0;34m[\u001b[0m\u001b[0;34m'user_attrs_overall recall'\u001b[0m\u001b[0;34m]\u001b[0m\u001b[0;34m.\u001b[0m\u001b[0mto_numpy\u001b[0m\u001b[0;34m(\u001b[0m\u001b[0;34m)\u001b[0m\u001b[0;34m\u001b[0m\u001b[0;34m\u001b[0m\u001b[0m\n\u001b[0m",
      "\u001b[0;32m/opt/miniconda3/envs/cmpt353/lib/python3.8/site-packages/pandas/core/frame.py\u001b[0m in \u001b[0;36m__getitem__\u001b[0;34m(self, key)\u001b[0m\n\u001b[1;32m   2900\u001b[0m             \u001b[0;32mif\u001b[0m \u001b[0mself\u001b[0m\u001b[0;34m.\u001b[0m\u001b[0mcolumns\u001b[0m\u001b[0;34m.\u001b[0m\u001b[0mnlevels\u001b[0m \u001b[0;34m>\u001b[0m \u001b[0;36m1\u001b[0m\u001b[0;34m:\u001b[0m\u001b[0;34m\u001b[0m\u001b[0;34m\u001b[0m\u001b[0m\n\u001b[1;32m   2901\u001b[0m                 \u001b[0;32mreturn\u001b[0m \u001b[0mself\u001b[0m\u001b[0;34m.\u001b[0m\u001b[0m_getitem_multilevel\u001b[0m\u001b[0;34m(\u001b[0m\u001b[0mkey\u001b[0m\u001b[0;34m)\u001b[0m\u001b[0;34m\u001b[0m\u001b[0;34m\u001b[0m\u001b[0m\n\u001b[0;32m-> 2902\u001b[0;31m             \u001b[0mindexer\u001b[0m \u001b[0;34m=\u001b[0m \u001b[0mself\u001b[0m\u001b[0;34m.\u001b[0m\u001b[0mcolumns\u001b[0m\u001b[0;34m.\u001b[0m\u001b[0mget_loc\u001b[0m\u001b[0;34m(\u001b[0m\u001b[0mkey\u001b[0m\u001b[0;34m)\u001b[0m\u001b[0;34m\u001b[0m\u001b[0;34m\u001b[0m\u001b[0m\n\u001b[0m\u001b[1;32m   2903\u001b[0m             \u001b[0;32mif\u001b[0m \u001b[0mis_integer\u001b[0m\u001b[0;34m(\u001b[0m\u001b[0mindexer\u001b[0m\u001b[0;34m)\u001b[0m\u001b[0;34m:\u001b[0m\u001b[0;34m\u001b[0m\u001b[0;34m\u001b[0m\u001b[0m\n\u001b[1;32m   2904\u001b[0m                 \u001b[0mindexer\u001b[0m \u001b[0;34m=\u001b[0m \u001b[0;34m[\u001b[0m\u001b[0mindexer\u001b[0m\u001b[0;34m]\u001b[0m\u001b[0;34m\u001b[0m\u001b[0;34m\u001b[0m\u001b[0m\n",
      "\u001b[0;32m/opt/miniconda3/envs/cmpt353/lib/python3.8/site-packages/pandas/core/indexes/base.py\u001b[0m in \u001b[0;36mget_loc\u001b[0;34m(self, key, method, tolerance)\u001b[0m\n\u001b[1;32m   2895\u001b[0m                 \u001b[0;32mreturn\u001b[0m \u001b[0mself\u001b[0m\u001b[0;34m.\u001b[0m\u001b[0m_engine\u001b[0m\u001b[0;34m.\u001b[0m\u001b[0mget_loc\u001b[0m\u001b[0;34m(\u001b[0m\u001b[0mcasted_key\u001b[0m\u001b[0;34m)\u001b[0m\u001b[0;34m\u001b[0m\u001b[0;34m\u001b[0m\u001b[0m\n\u001b[1;32m   2896\u001b[0m             \u001b[0;32mexcept\u001b[0m \u001b[0mKeyError\u001b[0m \u001b[0;32mas\u001b[0m \u001b[0merr\u001b[0m\u001b[0;34m:\u001b[0m\u001b[0;34m\u001b[0m\u001b[0;34m\u001b[0m\u001b[0m\n\u001b[0;32m-> 2897\u001b[0;31m                 \u001b[0;32mraise\u001b[0m \u001b[0mKeyError\u001b[0m\u001b[0;34m(\u001b[0m\u001b[0mkey\u001b[0m\u001b[0;34m)\u001b[0m \u001b[0;32mfrom\u001b[0m \u001b[0merr\u001b[0m\u001b[0;34m\u001b[0m\u001b[0;34m\u001b[0m\u001b[0m\n\u001b[0m\u001b[1;32m   2898\u001b[0m \u001b[0;34m\u001b[0m\u001b[0m\n\u001b[1;32m   2899\u001b[0m         \u001b[0;32mif\u001b[0m \u001b[0mtolerance\u001b[0m \u001b[0;32mis\u001b[0m \u001b[0;32mnot\u001b[0m \u001b[0;32mNone\u001b[0m\u001b[0;34m:\u001b[0m\u001b[0;34m\u001b[0m\u001b[0;34m\u001b[0m\u001b[0m\n",
      "\u001b[0;31mKeyError\u001b[0m: 'user_attrs_overall recall'"
     ]
    }
   ],
   "source": [
    "vals = df['user_attrs_overall recall'].to_numpy()"
   ]
  },
  {
   "cell_type": "code",
   "execution_count": 115,
   "metadata": {},
   "outputs": [],
   "source": [
    "df = study.trials_dataframe()"
   ]
  },
  {
   "cell_type": "code",
   "execution_count": 118,
   "metadata": {},
   "outputs": [],
   "source": [
    "vals = df['user_attrs_overall recall'].to_numpy()"
   ]
  },
  {
   "cell_type": "code",
   "execution_count": 119,
   "metadata": {},
   "outputs": [],
   "source": [
    "vals /= 4"
   ]
  },
  {
   "cell_type": "code",
   "execution_count": 131,
   "metadata": {},
   "outputs": [
    {
     "data": {
      "text/plain": [
       "[0.0, 0.0, 1.0, 0.0]"
      ]
     },
     "execution_count": 131,
     "metadata": {},
     "output_type": "execute_result"
    }
   ],
   "source": [
    "list(vals[0])"
   ]
  },
  {
   "cell_type": "code",
   "execution_count": 132,
   "metadata": {},
   "outputs": [],
   "source": [
    "v = [list(va) for va in vals]"
   ]
  },
  {
   "cell_type": "code",
   "execution_count": 136,
   "metadata": {},
   "outputs": [],
   "source": [
    "vals = np.array(v)"
   ]
  },
  {
   "cell_type": "code",
   "execution_count": 139,
   "metadata": {},
   "outputs": [],
   "source": [
    "df['deceased_recall'] = vals[:,0]"
   ]
  },
  {
   "cell_type": "code",
   "execution_count": 140,
   "metadata": {},
   "outputs": [
    {
     "data": {
      "text/plain": [
       "array(['deceased', 'hospitalized', 'nonhospitalized', 'recovered'],\n",
       "      dtype=object)"
      ]
     },
     "execution_count": 140,
     "metadata": {},
     "output_type": "execute_result"
    }
   ],
   "source": [
    "data.encoder.classes_"
   ]
  },
  {
   "cell_type": "code",
   "execution_count": 143,
   "metadata": {},
   "outputs": [],
   "source": [
    "df['recovered_recall'] = vals[:,3]"
   ]
  },
  {
   "cell_type": "code",
   "execution_count": 148,
   "metadata": {},
   "outputs": [],
   "source": [
    "df['mean_recall'] = np.mean(vals, axis=1)"
   ]
  },
  {
   "cell_type": "code",
   "execution_count": 155,
   "metadata": {},
   "outputs": [],
   "source": [
    "df = df.drop(columns=['user_attrs_overall recall'])"
   ]
  },
  {
   "cell_type": "code",
   "execution_count": 156,
   "metadata": {},
   "outputs": [],
   "source": [
    "df.to_csv('nn_trials.csv')"
   ]
  },
  {
   "cell_type": "code",
   "execution_count": 159,
   "metadata": {},
   "outputs": [
    {
     "data": {
      "text/html": [
       "<div>\n",
       "<style scoped>\n",
       "    .dataframe tbody tr th:only-of-type {\n",
       "        vertical-align: middle;\n",
       "    }\n",
       "\n",
       "    .dataframe tbody tr th {\n",
       "        vertical-align: top;\n",
       "    }\n",
       "\n",
       "    .dataframe thead th {\n",
       "        text-align: right;\n",
       "    }\n",
       "</style>\n",
       "<table border=\"1\" class=\"dataframe\">\n",
       "  <thead>\n",
       "    <tr style=\"text-align: right;\">\n",
       "      <th></th>\n",
       "      <th>number</th>\n",
       "      <th>value</th>\n",
       "      <th>datetime_start</th>\n",
       "      <th>datetime_complete</th>\n",
       "      <th>duration</th>\n",
       "      <th>params_activation1</th>\n",
       "      <th>params_activation2</th>\n",
       "      <th>params_first_layer</th>\n",
       "      <th>params_lr</th>\n",
       "      <th>params_second_layer</th>\n",
       "      <th>state</th>\n",
       "      <th>deceased_recall</th>\n",
       "      <th>hospitalized_recall</th>\n",
       "      <th>nonhospitalized_recall</th>\n",
       "      <th>recovered_recall</th>\n",
       "      <th>mean_recall</th>\n",
       "    </tr>\n",
       "  </thead>\n",
       "  <tbody>\n",
       "    <tr>\n",
       "      <th>73</th>\n",
       "      <td>73</td>\n",
       "      <td>0.124826</td>\n",
       "      <td>2020-12-15 05:48:35.712081</td>\n",
       "      <td>2020-12-15 05:52:49.920706</td>\n",
       "      <td>0 days 00:04:14.208625</td>\n",
       "      <td>relu</td>\n",
       "      <td>sigmoid</td>\n",
       "      <td>48</td>\n",
       "      <td>0.000848</td>\n",
       "      <td>182</td>\n",
       "      <td>COMPLETE</td>\n",
       "      <td>0.031207</td>\n",
       "      <td>0.270311</td>\n",
       "      <td>0.995183</td>\n",
       "      <td>0.495260</td>\n",
       "      <td>0.447990</td>\n",
       "    </tr>\n",
       "    <tr>\n",
       "      <th>149</th>\n",
       "      <td>149</td>\n",
       "      <td>0.095335</td>\n",
       "      <td>2020-12-15 11:15:31.265021</td>\n",
       "      <td>2020-12-15 11:19:38.345234</td>\n",
       "      <td>0 days 00:04:07.080213</td>\n",
       "      <td>relu</td>\n",
       "      <td>sigmoid</td>\n",
       "      <td>25</td>\n",
       "      <td>0.000673</td>\n",
       "      <td>189</td>\n",
       "      <td>COMPLETE</td>\n",
       "      <td>0.023834</td>\n",
       "      <td>0.319144</td>\n",
       "      <td>0.993840</td>\n",
       "      <td>0.205610</td>\n",
       "      <td>0.385607</td>\n",
       "    </tr>\n",
       "    <tr>\n",
       "      <th>99</th>\n",
       "      <td>99</td>\n",
       "      <td>0.094134</td>\n",
       "      <td>2020-12-15 07:39:40.532166</td>\n",
       "      <td>2020-12-15 07:43:48.502671</td>\n",
       "      <td>0 days 00:04:07.970505</td>\n",
       "      <td>relu</td>\n",
       "      <td>sigmoid</td>\n",
       "      <td>31</td>\n",
       "      <td>0.002349</td>\n",
       "      <td>168</td>\n",
       "      <td>COMPLETE</td>\n",
       "      <td>0.023534</td>\n",
       "      <td>0.364526</td>\n",
       "      <td>0.995485</td>\n",
       "      <td>0.146473</td>\n",
       "      <td>0.382504</td>\n",
       "    </tr>\n",
       "    <tr>\n",
       "      <th>80</th>\n",
       "      <td>80</td>\n",
       "      <td>0.090545</td>\n",
       "      <td>2020-12-15 06:17:56.396586</td>\n",
       "      <td>2020-12-15 06:21:56.203684</td>\n",
       "      <td>0 days 00:03:59.807098</td>\n",
       "      <td>relu</td>\n",
       "      <td>sigmoid</td>\n",
       "      <td>37</td>\n",
       "      <td>0.000522</td>\n",
       "      <td>171</td>\n",
       "      <td>COMPLETE</td>\n",
       "      <td>0.022636</td>\n",
       "      <td>0.370768</td>\n",
       "      <td>0.994534</td>\n",
       "      <td>0.258851</td>\n",
       "      <td>0.411697</td>\n",
       "    </tr>\n",
       "    <tr>\n",
       "      <th>116</th>\n",
       "      <td>116</td>\n",
       "      <td>0.086675</td>\n",
       "      <td>2020-12-15 08:49:07.835924</td>\n",
       "      <td>2020-12-15 08:52:55.089233</td>\n",
       "      <td>0 days 00:03:47.253309</td>\n",
       "      <td>relu</td>\n",
       "      <td>sigmoid</td>\n",
       "      <td>20</td>\n",
       "      <td>0.000411</td>\n",
       "      <td>169</td>\n",
       "      <td>COMPLETE</td>\n",
       "      <td>0.021669</td>\n",
       "      <td>0.361870</td>\n",
       "      <td>0.994109</td>\n",
       "      <td>0.417477</td>\n",
       "      <td>0.448781</td>\n",
       "    </tr>\n",
       "    <tr>\n",
       "      <th>...</th>\n",
       "      <td>...</td>\n",
       "      <td>...</td>\n",
       "      <td>...</td>\n",
       "      <td>...</td>\n",
       "      <td>...</td>\n",
       "      <td>...</td>\n",
       "      <td>...</td>\n",
       "      <td>...</td>\n",
       "      <td>...</td>\n",
       "      <td>...</td>\n",
       "      <td>...</td>\n",
       "      <td>...</td>\n",
       "      <td>...</td>\n",
       "      <td>...</td>\n",
       "      <td>...</td>\n",
       "      <td>...</td>\n",
       "    </tr>\n",
       "    <tr>\n",
       "      <th>35</th>\n",
       "      <td>35</td>\n",
       "      <td>0.000000</td>\n",
       "      <td>2020-12-15 03:02:28.871451</td>\n",
       "      <td>2020-12-15 03:07:01.166841</td>\n",
       "      <td>0 days 00:04:32.295390</td>\n",
       "      <td>relu</td>\n",
       "      <td>sigmoid</td>\n",
       "      <td>237</td>\n",
       "      <td>0.003161</td>\n",
       "      <td>33</td>\n",
       "      <td>COMPLETE</td>\n",
       "      <td>0.000000</td>\n",
       "      <td>0.000000</td>\n",
       "      <td>1.000000</td>\n",
       "      <td>0.000000</td>\n",
       "      <td>0.250000</td>\n",
       "    </tr>\n",
       "    <tr>\n",
       "      <th>34</th>\n",
       "      <td>34</td>\n",
       "      <td>0.000000</td>\n",
       "      <td>2020-12-15 02:57:43.476632</td>\n",
       "      <td>2020-12-15 03:02:28.870437</td>\n",
       "      <td>0 days 00:04:45.393805</td>\n",
       "      <td>relu</td>\n",
       "      <td>sigmoid</td>\n",
       "      <td>189</td>\n",
       "      <td>0.002062</td>\n",
       "      <td>77</td>\n",
       "      <td>COMPLETE</td>\n",
       "      <td>0.000000</td>\n",
       "      <td>0.266777</td>\n",
       "      <td>0.999213</td>\n",
       "      <td>0.002574</td>\n",
       "      <td>0.317141</td>\n",
       "    </tr>\n",
       "    <tr>\n",
       "      <th>33</th>\n",
       "      <td>33</td>\n",
       "      <td>0.000000</td>\n",
       "      <td>2020-12-15 02:52:41.210965</td>\n",
       "      <td>2020-12-15 02:57:43.475572</td>\n",
       "      <td>0 days 00:05:02.264607</td>\n",
       "      <td>relu</td>\n",
       "      <td>sigmoid</td>\n",
       "      <td>163</td>\n",
       "      <td>0.000184</td>\n",
       "      <td>130</td>\n",
       "      <td>COMPLETE</td>\n",
       "      <td>0.000000</td>\n",
       "      <td>0.245704</td>\n",
       "      <td>0.999821</td>\n",
       "      <td>0.363034</td>\n",
       "      <td>0.402140</td>\n",
       "    </tr>\n",
       "    <tr>\n",
       "      <th>32</th>\n",
       "      <td>32</td>\n",
       "      <td>0.000000</td>\n",
       "      <td>2020-12-15 02:48:45.657919</td>\n",
       "      <td>2020-12-15 02:52:41.210102</td>\n",
       "      <td>0 days 00:03:55.552183</td>\n",
       "      <td>relu</td>\n",
       "      <td>sigmoid</td>\n",
       "      <td>106</td>\n",
       "      <td>0.012740</td>\n",
       "      <td>49</td>\n",
       "      <td>COMPLETE</td>\n",
       "      <td>0.000000</td>\n",
       "      <td>0.059472</td>\n",
       "      <td>0.999718</td>\n",
       "      <td>0.000000</td>\n",
       "      <td>0.264797</td>\n",
       "    </tr>\n",
       "    <tr>\n",
       "      <th>151</th>\n",
       "      <td>151</td>\n",
       "      <td>NaN</td>\n",
       "      <td>2020-12-15 11:24:03.067441</td>\n",
       "      <td>NaT</td>\n",
       "      <td>NaT</td>\n",
       "      <td>relu</td>\n",
       "      <td>sigmoid</td>\n",
       "      <td>25</td>\n",
       "      <td>0.000696</td>\n",
       "      <td>192</td>\n",
       "      <td>RUNNING</td>\n",
       "      <td>0.000000</td>\n",
       "      <td>0.136138</td>\n",
       "      <td>0.249804</td>\n",
       "      <td>0.000010</td>\n",
       "      <td>0.096488</td>\n",
       "    </tr>\n",
       "  </tbody>\n",
       "</table>\n",
       "<p>152 rows × 16 columns</p>\n",
       "</div>"
      ],
      "text/plain": [
       "     number     value             datetime_start          datetime_complete  \\\n",
       "73       73  0.124826 2020-12-15 05:48:35.712081 2020-12-15 05:52:49.920706   \n",
       "149     149  0.095335 2020-12-15 11:15:31.265021 2020-12-15 11:19:38.345234   \n",
       "99       99  0.094134 2020-12-15 07:39:40.532166 2020-12-15 07:43:48.502671   \n",
       "80       80  0.090545 2020-12-15 06:17:56.396586 2020-12-15 06:21:56.203684   \n",
       "116     116  0.086675 2020-12-15 08:49:07.835924 2020-12-15 08:52:55.089233   \n",
       "..      ...       ...                        ...                        ...   \n",
       "35       35  0.000000 2020-12-15 03:02:28.871451 2020-12-15 03:07:01.166841   \n",
       "34       34  0.000000 2020-12-15 02:57:43.476632 2020-12-15 03:02:28.870437   \n",
       "33       33  0.000000 2020-12-15 02:52:41.210965 2020-12-15 02:57:43.475572   \n",
       "32       32  0.000000 2020-12-15 02:48:45.657919 2020-12-15 02:52:41.210102   \n",
       "151     151       NaN 2020-12-15 11:24:03.067441                        NaT   \n",
       "\n",
       "                  duration params_activation1 params_activation2  \\\n",
       "73  0 days 00:04:14.208625               relu            sigmoid   \n",
       "149 0 days 00:04:07.080213               relu            sigmoid   \n",
       "99  0 days 00:04:07.970505               relu            sigmoid   \n",
       "80  0 days 00:03:59.807098               relu            sigmoid   \n",
       "116 0 days 00:03:47.253309               relu            sigmoid   \n",
       "..                     ...                ...                ...   \n",
       "35  0 days 00:04:32.295390               relu            sigmoid   \n",
       "34  0 days 00:04:45.393805               relu            sigmoid   \n",
       "33  0 days 00:05:02.264607               relu            sigmoid   \n",
       "32  0 days 00:03:55.552183               relu            sigmoid   \n",
       "151                    NaT               relu            sigmoid   \n",
       "\n",
       "     params_first_layer  params_lr  params_second_layer     state  \\\n",
       "73                   48   0.000848                  182  COMPLETE   \n",
       "149                  25   0.000673                  189  COMPLETE   \n",
       "99                   31   0.002349                  168  COMPLETE   \n",
       "80                   37   0.000522                  171  COMPLETE   \n",
       "116                  20   0.000411                  169  COMPLETE   \n",
       "..                  ...        ...                  ...       ...   \n",
       "35                  237   0.003161                   33  COMPLETE   \n",
       "34                  189   0.002062                   77  COMPLETE   \n",
       "33                  163   0.000184                  130  COMPLETE   \n",
       "32                  106   0.012740                   49  COMPLETE   \n",
       "151                  25   0.000696                  192   RUNNING   \n",
       "\n",
       "     deceased_recall  hospitalized_recall  nonhospitalized_recall  \\\n",
       "73          0.031207             0.270311                0.995183   \n",
       "149         0.023834             0.319144                0.993840   \n",
       "99          0.023534             0.364526                0.995485   \n",
       "80          0.022636             0.370768                0.994534   \n",
       "116         0.021669             0.361870                0.994109   \n",
       "..               ...                  ...                     ...   \n",
       "35          0.000000             0.000000                1.000000   \n",
       "34          0.000000             0.266777                0.999213   \n",
       "33          0.000000             0.245704                0.999821   \n",
       "32          0.000000             0.059472                0.999718   \n",
       "151         0.000000             0.136138                0.249804   \n",
       "\n",
       "     recovered_recall  mean_recall  \n",
       "73           0.495260     0.447990  \n",
       "149          0.205610     0.385607  \n",
       "99           0.146473     0.382504  \n",
       "80           0.258851     0.411697  \n",
       "116          0.417477     0.448781  \n",
       "..                ...          ...  \n",
       "35           0.000000     0.250000  \n",
       "34           0.002574     0.317141  \n",
       "33           0.363034     0.402140  \n",
       "32           0.000000     0.264797  \n",
       "151          0.000010     0.096488  \n",
       "\n",
       "[152 rows x 16 columns]"
      ]
     },
     "execution_count": 159,
     "metadata": {},
     "output_type": "execute_result"
    }
   ],
   "source": [
    "df.sort_values(by='deceased_recall', ascending=False)"
   ]
  },
  {
   "cell_type": "code",
   "execution_count": 162,
   "metadata": {},
   "outputs": [
    {
     "data": {
      "text/plain": [
       "FrozenTrial(number=73, value=0.12482632866355348, datetime_start=datetime.datetime(2020, 12, 15, 5, 48, 35, 712081), datetime_complete=datetime.datetime(2020, 12, 15, 5, 52, 49, 920706), params={'first_layer': 48, 'second_layer': 182, 'activation1': 'relu', 'activation2': 'sigmoid', 'lr': 0.0008482102265845811}, distributions={'first_layer': IntUniformDistribution(high=250, low=20, step=1), 'second_layer': IntUniformDistribution(high=200, low=1, step=1), 'activation1': CategoricalDistribution(choices=('relu',)), 'activation2': CategoricalDistribution(choices=('sigmoid',)), 'lr': LogUniformDistribution(high=0.1, low=1e-05)}, user_attrs={'overall recall': array([0.12482633, 1.08124471, 3.98073157, 1.98103956])}, system_attrs={}, intermediate_values={0: 0.0, 1: 0.038019568601289744, 2: 0.22679830998443407, 3: 0.5094649766511007}, trial_id=73, state=TrialState.COMPLETE)"
      ]
     },
     "execution_count": 162,
     "metadata": {},
     "output_type": "execute_result"
    }
   ],
   "source": [
    "study.best_trial"
   ]
  },
  {
   "cell_type": "code",
   "execution_count": null,
   "metadata": {},
   "outputs": [],
   "source": [
    "    dataloader = load_data(X_t, y_t)\n",
    "    criterion = torch.nn.CrossEntropyLoss()\n",
    "    optimizer = optim.Adam(model.parameters(), lr=lr)\n",
    "    epochs = epochs\n",
    "    total_loss = []\n",
    "    for i in tqdm.tqdm(range(epochs)):\n",
    "        ls = 0\n",
    "        for i_batch, sample_batched in enumerate(dataloader):\n",
    "            X, y = sample_batched\n",
    "            y_hat = model(X.float())\n",
    "            loss = criterion(y_hat, y.long())\n",
    "            loss.backward()\n",
    "            optimizer.step()\n",
    "            optimizer.zero_grad()\n",
    "            ls += loss.cpu().float()\n",
    "        total_loss.append(ls/(i_batch+1.))\n",
    "        print(f'iter: {i}, loss: {ls/(i_batch+1.)}')\n",
    "    torch.save(model.state_dict(), path)\n"
   ]
  },
  {
   "cell_type": "code",
   "execution_count": 163,
   "metadata": {},
   "outputs": [],
   "source": [
    "models = []\n",
    "for i in range(4):\n",
    "    models.append(nn.network(48, 182, 'relu', 'sigmoid'))"
   ]
  },
  {
   "cell_type": "code",
   "execution_count": 164,
   "metadata": {},
   "outputs": [
    {
     "data": {
      "text/plain": [
       "[network(\n",
       "   (linear1): Linear(in_features=13, out_features=48, bias=True)\n",
       "   (linear2): Linear(in_features=48, out_features=182, bias=True)\n",
       "   (output): Linear(in_features=182, out_features=4, bias=True)\n",
       " ),\n",
       " network(\n",
       "   (linear1): Linear(in_features=13, out_features=48, bias=True)\n",
       "   (linear2): Linear(in_features=48, out_features=182, bias=True)\n",
       "   (output): Linear(in_features=182, out_features=4, bias=True)\n",
       " ),\n",
       " network(\n",
       "   (linear1): Linear(in_features=13, out_features=48, bias=True)\n",
       "   (linear2): Linear(in_features=48, out_features=182, bias=True)\n",
       "   (output): Linear(in_features=182, out_features=4, bias=True)\n",
       " ),\n",
       " network(\n",
       "   (linear1): Linear(in_features=13, out_features=48, bias=True)\n",
       "   (linear2): Linear(in_features=48, out_features=182, bias=True)\n",
       "   (output): Linear(in_features=182, out_features=4, bias=True)\n",
       " )]"
      ]
     },
     "execution_count": 164,
     "metadata": {},
     "output_type": "execute_result"
    }
   ],
   "source": [
    "models"
   ]
  },
  {
   "cell_type": "code",
   "execution_count": 165,
   "metadata": {},
   "outputs": [],
   "source": [
    "lr = 0.0008482102265845811"
   ]
  },
  {
   "cell_type": "code",
   "execution_count": 172,
   "metadata": {},
   "outputs": [
    {
     "name": "stderr",
     "output_type": "stream",
     "text": [
      "100%|██████████| 20/20 [04:21<00:00, 13.08s/it]\n",
      "100%|██████████| 20/20 [04:10<00:00, 12.52s/it]\n",
      "100%|██████████| 20/20 [04:01<00:00, 12.05s/it]\n",
      "100%|██████████| 20/20 [04:11<00:00, 12.58s/it]\n"
     ]
    }
   ],
   "source": [
    "accs = []\n",
    "fscores = []\n",
    "criterion = torch.nn.CrossEntropyLoss()\n",
    "for m, (X_train, y_train, X_val, y_val) in enumerate(data.kfold_data):\n",
    "    model = models[m]\n",
    "    optimizer = optim.Adam(model.parameters(), lr=lr)\n",
    "    train_dataloader = nn.load_data(X_train, y_train)\n",
    "    val_dataloader = nn.load_data(X_val, y_val, len(y_val), train=False)\n",
    "    optimizer.zero_grad()\n",
    "    for i in tqdm.tqdm(range(20)):\n",
    "        for batch_idx, (X, y) in enumerate(train_dataloader):\n",
    "            model.train()\n",
    "            y_hat = model(X)\n",
    "            loss = criterion(y_hat, y.long())\n",
    "            loss.backward()\n",
    "            optimizer.step()\n",
    "            optimizer.zero_grad()\n",
    "    for val_x, val_y in val_dataloader:\n",
    "        accs.append(nn.eval(model, val_x, val_y))\n",
    "        y_hat = model(val_x)\n",
    "        fscores.append(sklearn.metrics.fbeta_score(val_y.numpy(), torch.argmax(torch.softmax(y_hat,dim=1), dim=1).numpy(), beta=2, average=None, zero_division=0))"
   ]
  },
  {
   "cell_type": "code",
   "execution_count": 166,
   "metadata": {},
   "outputs": [
    {
     "data": {
      "text/plain": [
       "<function sklearn.metrics._classification.fbeta_score(y_true, y_pred, *, beta, labels=None, pos_label=1, average='binary', sample_weight=None, zero_division='warn')>"
      ]
     },
     "execution_count": 166,
     "metadata": {},
     "output_type": "execute_result"
    }
   ],
   "source": [
    "import sklearn.metrics\n",
    "sklearn.metrics.fbeta_score"
   ]
  },
  {
   "cell_type": "code",
   "execution_count": 174,
   "metadata": {},
   "outputs": [
    {
     "data": {
      "text/plain": [
       "68.40021228790283"
      ]
     },
     "execution_count": 174,
     "metadata": {},
     "output_type": "execute_result"
    }
   ],
   "source": [
    "np.mean(accs)"
   ]
  },
  {
   "cell_type": "code",
   "execution_count": 176,
   "metadata": {},
   "outputs": [
    {
     "data": {
      "text/plain": [
       "array([0.04114018, 0.5738798 , 0.92922465, 0.19833338])"
      ]
     },
     "execution_count": 176,
     "metadata": {},
     "output_type": "execute_result"
    }
   ],
   "source": [
    "np.mean(fscores, axis=0)"
   ]
  },
  {
   "cell_type": "code",
   "execution_count": 177,
   "metadata": {},
   "outputs": [
    {
     "data": {
      "text/plain": [
       "[array([0.07444169, 0.66955262, 0.99305729, 0.5050255 ]),\n",
       " array([0.02141328, 0.61003695, 0.93923499, 0.13308107]),\n",
       " array([0.04796748, 0.64349639, 0.92333363, 0.0641382 ]),\n",
       " array([0.02073828, 0.37243324, 0.8612727 , 0.09108876])]"
      ]
     },
     "execution_count": 177,
     "metadata": {},
     "output_type": "execute_result"
    }
   ],
   "source": [
    "fscores"
   ]
  },
  {
   "cell_type": "code",
   "execution_count": 178,
   "metadata": {},
   "outputs": [
    {
     "data": {
      "text/plain": [
       "network(\n",
       "  (linear1): Linear(in_features=13, out_features=48, bias=True)\n",
       "  (linear2): Linear(in_features=48, out_features=182, bias=True)\n",
       "  (output): Linear(in_features=182, out_features=4, bias=True)\n",
       ")"
      ]
     },
     "execution_count": 178,
     "metadata": {},
     "output_type": "execute_result"
    }
   ],
   "source": [
    "models[0]"
   ]
  },
  {
   "cell_type": "code",
   "execution_count": 208,
   "metadata": {},
   "outputs": [],
   "source": [
    "X_train, y_train= data.training_data"
   ]
  },
  {
   "cell_type": "code",
   "execution_count": 185,
   "metadata": {},
   "outputs": [],
   "source": [
    "val_dataloader = nn.load_data(X_test.to_numpy(), y_test.to_numpy(), len(y_test.to_numpy()), train=False)"
   ]
  },
  {
   "cell_type": "code",
   "execution_count": 199,
   "metadata": {},
   "outputs": [
    {
     "name": "stdout",
     "output_type": "stream",
     "text": [
      "78.12146759033203\n"
     ]
    }
   ],
   "source": [
    "for val_x, val_y in val_dataloader:\n",
    "    print(nn.eval(models[0], val_x, val_y))"
   ]
  },
  {
   "cell_type": "code",
   "execution_count": 200,
   "metadata": {},
   "outputs": [],
   "source": [
    "y_hat = torch.argmax(models[0](val_x), dim=1).numpy()"
   ]
  },
  {
   "cell_type": "code",
   "execution_count": 202,
   "metadata": {},
   "outputs": [
    {
     "data": {
      "text/plain": [
       "(111470,)"
      ]
     },
     "execution_count": 202,
     "metadata": {},
     "output_type": "execute_result"
    }
   ],
   "source": [
    "y_hat.shape"
   ]
  },
  {
   "cell_type": "code",
   "execution_count": 204,
   "metadata": {},
   "outputs": [
    {
     "data": {
      "text/plain": [
       "torch.Size([111470])"
      ]
     },
     "execution_count": 204,
     "metadata": {},
     "output_type": "execute_result"
    }
   ],
   "source": [
    "val_y.shape"
   ]
  },
  {
   "cell_type": "code",
   "execution_count": 206,
   "metadata": {},
   "outputs": [],
   "source": [
    "conf_matrix = sklearn.metrics.confusion_matrix(val_y, y_hat)\n",
    "\n"
   ]
  },
  {
   "cell_type": "code",
   "execution_count": 209,
   "metadata": {},
   "outputs": [],
   "source": [
    "train_dataloader = nn.load_data(X_train.to_numpy(), y_train.to_numpy(),)"
   ]
  },
  {
   "cell_type": "code",
   "execution_count": 207,
   "metadata": {},
   "outputs": [
    {
     "data": {
      "text/plain": [
       "<sklearn.metrics._plot.confusion_matrix.ConfusionMatrixDisplay at 0x7f7f45084d60>"
      ]
     },
     "execution_count": 207,
     "metadata": {},
     "output_type": "execute_result"
    },
    {
     "data": {
      "image/png": "[encoded data removed]",
      "text/plain": [
       "<Figure size 432x288 with 2 Axes>"
      ]
     },
     "metadata": {
      "needs_background": "light"
     },
     "output_type": "display_data"
    }
   ],
   "source": [
    "sklearn.metrics.ConfusionMatrixDisplay(conf_matrix).plot()"
   ]
  },
  {
   "cell_type": "code",
   "execution_count": 211,
   "metadata": {},
   "outputs": [
    {
     "name": "stderr",
     "output_type": "stream",
     "text": [
      "100%|██████████| 100/100 [21:05<00:00, 12.65s/it]\n"
     ]
    }
   ],
   "source": [
    "model = models[0]\n",
    "optimizer = optim.Adam(model.parameters(), lr=lr)\n",
    "optimizer.zero_grad()\n",
    "for i in tqdm.tqdm(range(100)):\n",
    "    for batch_idx, (X, y) in enumerate(train_dataloader):\n",
    "        y_hat = model(X)\n",
    "        loss = criterion(y_hat, y.long())\n",
    "        loss.backward()\n",
    "        optimizer.step()\n",
    "        optimizer.zero_grad()"
   ]
  },
  {
   "cell_type": "code",
   "execution_count": 212,
   "metadata": {},
   "outputs": [
    {
     "name": "stdout",
     "output_type": "stream",
     "text": [
      "86.0294189453125\n"
     ]
    }
   ],
   "source": [
    "for val_x, val_y in val_dataloader:\n",
    "    print(nn.eval(models[0], val_x, val_y))"
   ]
  },
  {
   "cell_type": "code",
   "execution_count": 213,
   "metadata": {},
   "outputs": [],
   "source": [
    "y_hat = torch.argmax(models[0](val_x), dim=1).numpy()"
   ]
  },
  {
   "cell_type": "code",
   "execution_count": 214,
   "metadata": {},
   "outputs": [],
   "source": [
    "conf_matrix = sklearn.metrics.confusion_matrix(val_y, y_hat)\n"
   ]
  },
  {
   "cell_type": "code",
   "execution_count": 215,
   "metadata": {},
   "outputs": [
    {
     "data": {
      "text/plain": [
       "array([[   49,   849,    85,   215],\n",
       "       [    4, 38189,    15,  2393],\n",
       "       [   14,    16, 49738,   347],\n",
       "       [   11, 11394,   230,  7921]])"
      ]
     },
     "execution_count": 215,
     "metadata": {},
     "output_type": "execute_result"
    }
   ],
   "source": [
    "conf_matrix"
   ]
  },
  {
   "cell_type": "code",
   "execution_count": 216,
   "metadata": {},
   "outputs": [
    {
     "data": {
      "text/plain": [
       "array([0.05030801, 0.89707872, 0.99266349, 0.44450056])"
      ]
     },
     "execution_count": 216,
     "metadata": {},
     "output_type": "execute_result"
    }
   ],
   "source": [
    "sklearn.metrics.fbeta_score(val_y.numpy(), y_hat, beta=2, average=None, zero_division=0)"
   ]
  },
  {
   "cell_type": "code",
   "execution_count": 245,
   "metadata": {},
   "outputs": [],
   "source": [
    "df = df.sort_values(by='mean_recall', ascending=False)"
   ]
  },
  {
   "cell_type": "code",
   "execution_count": 221,
   "metadata": {},
   "outputs": [],
   "source": [
    "df['value'] /= 4"
   ]
  },
  {
   "cell_type": "code",
   "execution_count": 249,
   "metadata": {},
   "outputs": [
    {
     "data": {
      "text/plain": [
       "0                                   [0.0, 0.0, 4.0, 0.0]\n",
       "1       [0.0, 2.321774558623811, 3.997142254174846, 0.0]\n",
       "2                                   [0.0, 0.0, 4.0, 0.0]\n",
       "3      [0.0, 1.2443246009408153, 3.9920091174617043, ...\n",
       "4      [0.0, 2.0513354459031232, 3.999103944393326, 0...\n",
       "                             ...                        \n",
       "147    [0.007733333333333333, 1.6384317121656466, 3.9...\n",
       "148    [0.018000000000000002, 1.639774046883303, 3.98...\n",
       "149    [0.09533502334889926, 1.2765760623536129, 3.97...\n",
       "150    [0.08547191460973982, 1.609628594485012, 3.973...\n",
       "151    [0.0, 0.5445509477040565, 0.9992159623661936, ...\n",
       "Name: user_attrs_overall recall, Length: 152, dtype: object"
      ]
     },
     "execution_count": 249,
     "metadata": {},
     "output_type": "execute_result"
    }
   ],
   "source": [
    "study.trials_dataframe()['user_attrs_overall recall']"
   ]
  },
  {
   "cell_type": "code",
   "execution_count": 227,
   "metadata": {},
   "outputs": [
    {
     "name": "stderr",
     "output_type": "stream",
     "text": [
      "100%|██████████| 20/20 [03:47<00:00, 11.40s/it]\n",
      "100%|██████████| 20/20 [03:39<00:00, 10.95s/it]\n",
      "100%|██████████| 20/20 [03:34<00:00, 10.70s/it]\n",
      "100%|██████████| 20/20 [03:35<00:00, 10.77s/it]\n",
      "100%|██████████| 20/20 [03:09<00:00,  9.49s/it]\n",
      "100%|██████████| 20/20 [03:36<00:00, 10.81s/it]\n",
      "100%|██████████| 20/20 [03:35<00:00, 10.78s/it]\n",
      "100%|██████████| 20/20 [03:47<00:00, 11.39s/it]\n",
      "100%|██████████| 20/20 [04:00<00:00, 12.01s/it]\n",
      "100%|██████████| 20/20 [03:29<00:00, 10.47s/it]\n",
      "100%|██████████| 20/20 [03:20<00:00, 10.04s/it]\n",
      "100%|██████████| 20/20 [03:30<00:00, 10.51s/it]\n",
      "100%|██████████| 20/20 [03:30<00:00, 10.54s/it]\n",
      "100%|██████████| 20/20 [03:19<00:00,  9.96s/it]\n",
      "100%|██████████| 20/20 [03:18<00:00,  9.95s/it]\n",
      "100%|██████████| 20/20 [03:16<00:00,  9.80s/it]\n",
      "100%|██████████| 20/20 [03:01<00:00,  9.10s/it]\n",
      "100%|██████████| 20/20 [03:02<00:00,  9.14s/it]\n",
      "100%|██████████| 20/20 [03:02<00:00,  9.13s/it]\n",
      "100%|██████████| 20/20 [03:01<00:00,  9.09s/it]\n"
     ]
    }
   ],
   "source": [
    "accs = []\n",
    "recalls = []\n",
    "fscores = []\n",
    "for i in range(5):\n",
    "    params = df.iloc[i].to_numpy()\n",
    "    lr = params[8]\n",
    "    first_layer = params[7]\n",
    "    second_layer = params[9]\n",
    "    models = []\n",
    "    for i in range(4):\n",
    "        models.append(nn.network(first_layer, second_layer))\n",
    "    for m, (X_train, y_train, X_val, y_val) in enumerate(data.kfold_data):\n",
    "        model = models[m] \n",
    "        optimizer = optim.Adam(model.parameters(), lr=lr)\n",
    "        train_dataloader = nn.load_data(X_train, y_train)\n",
    "        val_dataloader = nn.load_data(X_val, y_val, len(y_val), train=False)\n",
    "        optimizer.zero_grad()\n",
    "        for i in tqdm.tqdm(range(20)):\n",
    "            for batch_idx, (X, y) in enumerate(train_dataloader):\n",
    "                model.train()\n",
    "                y_hat = model(X)\n",
    "                loss = criterion(y_hat, y.long())\n",
    "                loss.backward()\n",
    "                optimizer.step()\n",
    "                optimizer.zero_grad()\n",
    "        for val_x, val_y in val_dataloader:\n",
    "            accs.append(nn.eval(model, val_x, val_y))\n",
    "            y_hat = model(val_x)\n",
    "            fscores.append(sklearn.metrics.fbeta_score(val_y.numpy(), torch.argmax(y_hat,dim=1).numpy(), beta=2, average=None, zero_division=0))\n",
    "            recalls.append(sklearn.metrics.recall_score(val_y.numpy(), torch.argmax(y_hat,dim=1).numpy(), average=None, zero_division=0))"
   ]
  },
  {
   "cell_type": "code",
   "execution_count": 241,
   "metadata": {},
   "outputs": [],
   "source": [
    "accs_ = []\n",
    "fscores_ = []\n",
    "recalls_ = []\n",
    "for i in range(0,20, 4):\n",
    "    fscores_.append(np.mean(fscores[i:i+4], axis=0))\n",
    "    recalls_.append(np.mean(recalls[i:i+4], axis=0))\n",
    "    accs_.append(np.mean(accs[i:i+4]))"
   ]
  },
  {
   "cell_type": "code",
   "execution_count": 242,
   "metadata": {},
   "outputs": [
    {
     "data": {
      "text/plain": [
       "[65.32691860198975,\n",
       " 61.68578052520752,\n",
       " 59.90681076049805,\n",
       " 67.86251449584961,\n",
       " 70.0085563659668]"
      ]
     },
     "execution_count": 242,
     "metadata": {},
     "output_type": "execute_result"
    }
   ],
   "source": [
    "accs_"
   ]
  },
  {
   "cell_type": "code",
   "execution_count": 243,
   "metadata": {},
   "outputs": [
    {
     "data": {
      "text/plain": [
       "[array([0.03500289, 0.43695259, 0.99453567, 0.26971317]),\n",
       " array([0.02533678, 0.25153522, 0.99383963, 0.44925894]),\n",
       " array([0.01066667, 0.39212608, 0.99641579, 0.05141823]),\n",
       " array([0.01183834, 0.51419096, 0.99331159, 0.25830297]),\n",
       " array([0.029337  , 0.55216801, 0.9933956 , 0.30025585])]"
      ]
     },
     "execution_count": 243,
     "metadata": {},
     "output_type": "execute_result"
    }
   ],
   "source": [
    "recalls_"
   ]
  },
  {
   "cell_type": "code",
   "execution_count": 244,
   "metadata": {},
   "outputs": [
    {
     "data": {
      "text/plain": [
       "[array([0.03725332, 0.46231203, 0.92267459, 0.27873314]),\n",
       " array([0.03085351, 0.28623329, 0.90853957, 0.40473031]),\n",
       " array([0.01281638, 0.41272994, 0.88000041, 0.06024604]),\n",
       " array([0.01455276, 0.53946516, 0.9304305 , 0.25943512]),\n",
       " array([0.03556886, 0.57037608, 0.93633104, 0.31464629])]"
      ]
     },
     "execution_count": 244,
     "metadata": {},
     "output_type": "execute_result"
    }
   ],
   "source": [
    "fscores_"
   ]
  },
  {
   "cell_type": "code",
   "execution_count": 263,
   "metadata": {},
   "outputs": [],
   "source": [
    "from sklearn.feature_selection import *"
   ]
  },
  {
   "cell_type": "code",
   "execution_count": 273,
   "metadata": {},
   "outputs": [
    {
     "data": {
      "text/plain": [
       "array([0.6925952])"
      ]
     },
     "execution_count": 273,
     "metadata": {},
     "output_type": "execute_result"
    }
   ],
   "source": [
    "mutual_info_classif(data.data['Case-Fatality_Ratio'].to_numpy().reshape(-1,1), data.data['outcome'].to_numpy())"
   ]
  },
  {
   "cell_type": "code",
   "execution_count": 259,
   "metadata": {},
   "outputs": [
    {
     "data": {
      "text/html": [
       "<div>\n",
       "<style scoped>\n",
       "    .dataframe tbody tr th:only-of-type {\n",
       "        vertical-align: middle;\n",
       "    }\n",
       "\n",
       "    .dataframe tbody tr th {\n",
       "        vertical-align: top;\n",
       "    }\n",
       "\n",
       "    .dataframe thead th {\n",
       "        text-align: right;\n",
       "    }\n",
       "</style>\n",
       "<table border=\"1\" class=\"dataframe\">\n",
       "  <thead>\n",
       "    <tr style=\"text-align: right;\">\n",
       "      <th></th>\n",
       "      <th>age</th>\n",
       "      <th>sex</th>\n",
       "      <th>date_confirmation</th>\n",
       "      <th>outcome</th>\n",
       "      <th>Lat</th>\n",
       "      <th>Long_</th>\n",
       "      <th>Confirmed</th>\n",
       "      <th>Deaths</th>\n",
       "      <th>Recovered</th>\n",
       "      <th>Active</th>\n",
       "      <th>Combined_Key</th>\n",
       "      <th>Incidence_Rate</th>\n",
       "      <th>Case-Fatality_Ratio</th>\n",
       "      <th>confirmed_day</th>\n",
       "      <th>in_contact</th>\n",
       "      <th>transformed_Combined_Key</th>\n",
       "      <th>transformed_sex</th>\n",
       "    </tr>\n",
       "  </thead>\n",
       "  <tbody>\n",
       "    <tr>\n",
       "      <th>0</th>\n",
       "      <td>43.025039</td>\n",
       "      <td>unknown</td>\n",
       "      <td>2020-04-15 00:00:00</td>\n",
       "      <td>1</td>\n",
       "      <td>22.694884</td>\n",
       "      <td>71.590923</td>\n",
       "      <td>11.698043</td>\n",
       "      <td>8.097426</td>\n",
       "      <td>11.522618</td>\n",
       "      <td>9.685083</td>\n",
       "      <td>Gujarat, India</td>\n",
       "      <td>5.238571</td>\n",
       "      <td>2.730687</td>\n",
       "      <td>106.0</td>\n",
       "      <td>0.0</td>\n",
       "      <td>169.0</td>\n",
       "      <td>2.0</td>\n",
       "    </tr>\n",
       "    <tr>\n",
       "      <th>1</th>\n",
       "      <td>94.000000</td>\n",
       "      <td>female</td>\n",
       "      <td>2020-04-15 00:00:00</td>\n",
       "      <td>2</td>\n",
       "      <td>-11.766533</td>\n",
       "      <td>-76.604498</td>\n",
       "      <td>12.763306</td>\n",
       "      <td>9.547455</td>\n",
       "      <td>0.000000</td>\n",
       "      <td>12.722357</td>\n",
       "      <td>Lima, Peru</td>\n",
       "      <td>8.097181</td>\n",
       "      <td>4.012120</td>\n",
       "      <td>106.0</td>\n",
       "      <td>0.0</td>\n",
       "      <td>238.0</td>\n",
       "      <td>0.0</td>\n",
       "    </tr>\n",
       "    <tr>\n",
       "      <th>2</th>\n",
       "      <td>40.594874</td>\n",
       "      <td>unknown</td>\n",
       "      <td>2020-05-22 00:00:00</td>\n",
       "      <td>1</td>\n",
       "      <td>22.694884</td>\n",
       "      <td>71.590923</td>\n",
       "      <td>11.698043</td>\n",
       "      <td>8.097426</td>\n",
       "      <td>11.522618</td>\n",
       "      <td>9.685083</td>\n",
       "      <td>Gujarat, India</td>\n",
       "      <td>5.238571</td>\n",
       "      <td>2.730687</td>\n",
       "      <td>143.0</td>\n",
       "      <td>0.0</td>\n",
       "      <td>169.0</td>\n",
       "      <td>2.0</td>\n",
       "    </tr>\n",
       "    <tr>\n",
       "      <th>3</th>\n",
       "      <td>29.000000</td>\n",
       "      <td>female</td>\n",
       "      <td>2020-04-28 00:00:00</td>\n",
       "      <td>2</td>\n",
       "      <td>-14.235097</td>\n",
       "      <td>-75.574821</td>\n",
       "      <td>10.137690</td>\n",
       "      <td>7.343426</td>\n",
       "      <td>0.000000</td>\n",
       "      <td>10.074580</td>\n",
       "      <td>Ica, Peru</td>\n",
       "      <td>7.860217</td>\n",
       "      <td>6.115990</td>\n",
       "      <td>119.0</td>\n",
       "      <td>0.0</td>\n",
       "      <td>191.0</td>\n",
       "      <td>0.0</td>\n",
       "    </tr>\n",
       "    <tr>\n",
       "      <th>4</th>\n",
       "      <td>41.261196</td>\n",
       "      <td>unknown</td>\n",
       "      <td>2020-06-01 00:00:00</td>\n",
       "      <td>1</td>\n",
       "      <td>28.646519</td>\n",
       "      <td>77.108980</td>\n",
       "      <td>12.383499</td>\n",
       "      <td>8.498418</td>\n",
       "      <td>12.214393</td>\n",
       "      <td>10.381273</td>\n",
       "      <td>Delhi, India</td>\n",
       "      <td>7.151806</td>\n",
       "      <td>2.054617</td>\n",
       "      <td>153.0</td>\n",
       "      <td>0.0</td>\n",
       "      <td>116.0</td>\n",
       "      <td>2.0</td>\n",
       "    </tr>\n",
       "    <tr>\n",
       "      <th>...</th>\n",
       "      <td>...</td>\n",
       "      <td>...</td>\n",
       "      <td>...</td>\n",
       "      <td>...</td>\n",
       "      <td>...</td>\n",
       "      <td>...</td>\n",
       "      <td>...</td>\n",
       "      <td>...</td>\n",
       "      <td>...</td>\n",
       "      <td>...</td>\n",
       "      <td>...</td>\n",
       "      <td>...</td>\n",
       "      <td>...</td>\n",
       "      <td>...</td>\n",
       "      <td>...</td>\n",
       "      <td>...</td>\n",
       "      <td>...</td>\n",
       "    </tr>\n",
       "    <tr>\n",
       "      <th>557344</th>\n",
       "      <td>0.000000</td>\n",
       "      <td>male</td>\n",
       "      <td>2020-05-13 00:00:00</td>\n",
       "      <td>2</td>\n",
       "      <td>-38.416100</td>\n",
       "      <td>-63.616700</td>\n",
       "      <td>13.342196</td>\n",
       "      <td>9.457122</td>\n",
       "      <td>13.077527</td>\n",
       "      <td>11.790996</td>\n",
       "      <td>Argentina</td>\n",
       "      <td>7.228607</td>\n",
       "      <td>2.054632</td>\n",
       "      <td>134.0</td>\n",
       "      <td>0.0</td>\n",
       "      <td>26.0</td>\n",
       "      <td>1.0</td>\n",
       "    </tr>\n",
       "    <tr>\n",
       "      <th>557345</th>\n",
       "      <td>45.000000</td>\n",
       "      <td>male</td>\n",
       "      <td>2020-05-23 00:00:00</td>\n",
       "      <td>2</td>\n",
       "      <td>-11.005234</td>\n",
       "      <td>-76.157591</td>\n",
       "      <td>13.536341</td>\n",
       "      <td>10.350830</td>\n",
       "      <td>0.000000</td>\n",
       "      <td>13.494105</td>\n",
       "      <td>Peru</td>\n",
       "      <td>7.748647</td>\n",
       "      <td>4.135709</td>\n",
       "      <td>144.0</td>\n",
       "      <td>0.0</td>\n",
       "      <td>352.0</td>\n",
       "      <td>1.0</td>\n",
       "    </tr>\n",
       "    <tr>\n",
       "      <th>557346</th>\n",
       "      <td>39.000000</td>\n",
       "      <td>female</td>\n",
       "      <td>2020-05-19 00:00:00</td>\n",
       "      <td>2</td>\n",
       "      <td>-11.005234</td>\n",
       "      <td>-76.157591</td>\n",
       "      <td>13.536341</td>\n",
       "      <td>10.350830</td>\n",
       "      <td>0.000000</td>\n",
       "      <td>13.494105</td>\n",
       "      <td>Peru</td>\n",
       "      <td>7.748647</td>\n",
       "      <td>4.135709</td>\n",
       "      <td>140.0</td>\n",
       "      <td>0.0</td>\n",
       "      <td>352.0</td>\n",
       "      <td>0.0</td>\n",
       "    </tr>\n",
       "    <tr>\n",
       "      <th>557347</th>\n",
       "      <td>66.000000</td>\n",
       "      <td>female</td>\n",
       "      <td>2020-05-29 00:00:00</td>\n",
       "      <td>2</td>\n",
       "      <td>6.025173</td>\n",
       "      <td>-74.652093</td>\n",
       "      <td>13.538964</td>\n",
       "      <td>10.087433</td>\n",
       "      <td>13.349794</td>\n",
       "      <td>11.577533</td>\n",
       "      <td>Colombia</td>\n",
       "      <td>7.359814</td>\n",
       "      <td>3.169708</td>\n",
       "      <td>150.0</td>\n",
       "      <td>0.0</td>\n",
       "      <td>102.0</td>\n",
       "      <td>0.0</td>\n",
       "    </tr>\n",
       "    <tr>\n",
       "      <th>557348</th>\n",
       "      <td>27.777080</td>\n",
       "      <td>unknown</td>\n",
       "      <td>2020-05-29 00:00:00</td>\n",
       "      <td>1</td>\n",
       "      <td>20.067801</td>\n",
       "      <td>79.027807</td>\n",
       "      <td>15.484728</td>\n",
       "      <td>11.357663</td>\n",
       "      <td>15.252600</td>\n",
       "      <td>13.829378</td>\n",
       "      <td>India</td>\n",
       "      <td>5.958649</td>\n",
       "      <td>1.613014</td>\n",
       "      <td>150.0</td>\n",
       "      <td>0.0</td>\n",
       "      <td>195.0</td>\n",
       "      <td>2.0</td>\n",
       "    </tr>\n",
       "  </tbody>\n",
       "</table>\n",
       "<p>557349 rows × 17 columns</p>\n",
       "</div>"
      ],
      "text/plain": [
       "              age      sex    date_confirmation  outcome        Lat  \\\n",
       "0       43.025039  unknown  2020-04-15 00:00:00        1  22.694884   \n",
       "1       94.000000   female  2020-04-15 00:00:00        2 -11.766533   \n",
       "2       40.594874  unknown  2020-05-22 00:00:00        1  22.694884   \n",
       "3       29.000000   female  2020-04-28 00:00:00        2 -14.235097   \n",
       "4       41.261196  unknown  2020-06-01 00:00:00        1  28.646519   \n",
       "...           ...      ...                  ...      ...        ...   \n",
       "557344   0.000000     male  2020-05-13 00:00:00        2 -38.416100   \n",
       "557345  45.000000     male  2020-05-23 00:00:00        2 -11.005234   \n",
       "557346  39.000000   female  2020-05-19 00:00:00        2 -11.005234   \n",
       "557347  66.000000   female  2020-05-29 00:00:00        2   6.025173   \n",
       "557348  27.777080  unknown  2020-05-29 00:00:00        1  20.067801   \n",
       "\n",
       "            Long_  Confirmed     Deaths  Recovered     Active    Combined_Key  \\\n",
       "0       71.590923  11.698043   8.097426  11.522618   9.685083  Gujarat, India   \n",
       "1      -76.604498  12.763306   9.547455   0.000000  12.722357      Lima, Peru   \n",
       "2       71.590923  11.698043   8.097426  11.522618   9.685083  Gujarat, India   \n",
       "3      -75.574821  10.137690   7.343426   0.000000  10.074580       Ica, Peru   \n",
       "4       77.108980  12.383499   8.498418  12.214393  10.381273    Delhi, India   \n",
       "...           ...        ...        ...        ...        ...             ...   \n",
       "557344 -63.616700  13.342196   9.457122  13.077527  11.790996       Argentina   \n",
       "557345 -76.157591  13.536341  10.350830   0.000000  13.494105            Peru   \n",
       "557346 -76.157591  13.536341  10.350830   0.000000  13.494105            Peru   \n",
       "557347 -74.652093  13.538964  10.087433  13.349794  11.577533        Colombia   \n",
       "557348  79.027807  15.484728  11.357663  15.252600  13.829378           India   \n",
       "\n",
       "        Incidence_Rate  Case-Fatality_Ratio  confirmed_day  in_contact  \\\n",
       "0             5.238571             2.730687          106.0         0.0   \n",
       "1             8.097181             4.012120          106.0         0.0   \n",
       "2             5.238571             2.730687          143.0         0.0   \n",
       "3             7.860217             6.115990          119.0         0.0   \n",
       "4             7.151806             2.054617          153.0         0.0   \n",
       "...                ...                  ...            ...         ...   \n",
       "557344        7.228607             2.054632          134.0         0.0   \n",
       "557345        7.748647             4.135709          144.0         0.0   \n",
       "557346        7.748647             4.135709          140.0         0.0   \n",
       "557347        7.359814             3.169708          150.0         0.0   \n",
       "557348        5.958649             1.613014          150.0         0.0   \n",
       "\n",
       "        transformed_Combined_Key  transformed_sex  \n",
       "0                          169.0              2.0  \n",
       "1                          238.0              0.0  \n",
       "2                          169.0              2.0  \n",
       "3                          191.0              0.0  \n",
       "4                          116.0              2.0  \n",
       "...                          ...              ...  \n",
       "557344                      26.0              1.0  \n",
       "557345                     352.0              1.0  \n",
       "557346                     352.0              0.0  \n",
       "557347                     102.0              0.0  \n",
       "557348                     195.0              2.0  \n",
       "\n",
       "[557349 rows x 17 columns]"
      ]
     },
     "execution_count": 259,
     "metadata": {},
     "output_type": "execute_result"
    }
   ],
   "source": [
    "data.data"
   ]
  },
  {
   "cell_type": "code",
   "execution_count": null,
   "metadata": {},
   "outputs": [],
   "source": []
  }
 ],
 "metadata": {
  "kernelspec": {
   "display_name": "Python 3",
   "language": "python",
   "name": "python3"
  },
  "language_info": {
   "codemirror_mode": {
    "name": "ipython",
    "version": 3
   },
   "file_extension": ".py",
   "mimetype": "text/x-python",
   "name": "python",
   "nbconvert_exporter": "python",
   "pygments_lexer": "ipython3",
   "version": "3.8.3"
  }
 },
 "nbformat": 4,
 "nbformat_minor": 4
}

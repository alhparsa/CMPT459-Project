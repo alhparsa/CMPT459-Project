{
 "cells": [
  {
   "cell_type": "code",
   "execution_count": 1,
   "metadata": {},
   "outputs": [],
   "source": [
    "%load_ext autoreload\n",
    "\n",
    "%autoreload 2 \n",
    "from datetime import timedelta\n",
    "import pandas as pd\n",
    "import numpy as np\n",
    "from data import CleanedData\n",
    "import sklearn\n",
    "from sklearn import preprocessing\n",
    "from sklearn.neighbors import KNeighborsClassifier\n",
    "from sklearn import metrics\n",
    "import pickle\n",
    "import matplotlib.pyplot as plts\n",
    "import time\n",
    "from sklearn import svm, datasets\n",
    "from sklearn.model_selection import GridSearchCV\n",
    "from sklearn.metrics import recall_score\n",
    "from sklearn.metrics import fbeta_score, make_scorer\n",
    "from sklearn.metrics import confusion_matrix, ConfusionMatrixDisplay"
   ]
  },
  {
   "cell_type": "code",
   "execution_count": 14,
   "metadata": {},
   "outputs": [],
   "source": [
    "X = data.data.drop(columns=['outcome', 'sex', 'date_confirmation', 'Combined_Key']).to_numpy()\n",
    "y = data.data['outcome'].to_numpy()"
   ]
  },
  {
   "cell_type": "code",
   "execution_count": 15,
   "metadata": {},
   "outputs": [],
   "source": [
    "def overall_recall(y_true, y_pred):\n",
    "    score = recall_score(y_true, y_pred, average='macro')\n",
    "    return score\n",
    "\n",
    "def deceased_recall(y_true, y_pred):\n",
    "    score = recall_score(y_true, y_pred, average=None)\n",
    "    return score[0]"
   ]
  },
  {
   "cell_type": "code",
   "execution_count": 16,
   "metadata": {},
   "outputs": [
    {
     "name": "stdout",
     "output_type": "stream",
     "text": [
      "Fitting 4 folds for each of 24 candidates, totalling 96 fits\n"
     ]
    },
    {
     "name": "stderr",
     "output_type": "stream",
     "text": [
      "[Parallel(n_jobs=-1)]: Using backend LokyBackend with 6 concurrent workers.\n",
      "[Parallel(n_jobs=-1)]: Done  38 tasks      | elapsed:  7.6min\n",
      "[Parallel(n_jobs=-1)]: Done  96 out of  96 | elapsed: 14.6min finished\n"
     ]
    },
    {
     "name": "stdout",
     "output_type": "stream",
     "text": [
      "Fitting 4 folds for each of 24 candidates, totalling 96 fits\n"
     ]
    },
    {
     "name": "stderr",
     "output_type": "stream",
     "text": [
      "[Parallel(n_jobs=-1)]: Using backend LokyBackend with 6 concurrent workers.\n",
      "[Parallel(n_jobs=-1)]: Done  38 tasks      | elapsed:  9.2min\n",
      "[Parallel(n_jobs=-1)]: Done  96 out of  96 | elapsed: 21.7min finished\n"
     ]
    }
   ],
   "source": [
    "grid_params = {\n",
    "    'n_neighbors': [38,40,42,44],\n",
    "    'weights': ['uniform', 'distance'],\n",
    "    'metric': ['euclidean', 'manhattan', 'minkowski']\n",
    "}\n",
    "\n",
    "## Overall_Recall\n",
    "#gs = GridSearchCV(\n",
    "#    KNeighborsClassifier(),\n",
    "#    grid_params,\n",
    "#    verbose = 1,\n",
    "#    cv = 4,\n",
    "#    n_jobs= -1,\n",
    "#    scoring=make_scorer(overall_recall, greater_is_better=True)\n",
    "#    )\n",
    "\n",
    "# Accuracy\n",
    "#gs = GridSearchCV(\n",
    "#    KNeighborsClassifier(),\n",
    "#    grid_params,\n",
    "#    verbose = 1,\n",
    "#    cv = 4,\n",
    "#    n_jobs= -1,\n",
    "#    scoring='accuracy'\n",
    "#    )\n",
    "\n",
    "scoring = make_scorer(deceased_recall)\n",
    "\n",
    "# Deceased Recall\n",
    "gs = GridSearchCV(\n",
    "    KNeighborsClassifier(),\n",
    "    grid_params,\n",
    "    verbose = 1,\n",
    "    cv = 4,\n",
    "    n_jobs= -1,\n",
    "    scoring=scoring,\n",
    "    refit='deceased_recall'\n",
    "    )\n",
    "\n",
    "gs_results = gs.fit(X_train, y_train)\n",
    "gs_results = gs.fit(X, y)"
   ]
  },
  {
   "cell_type": "code",
   "execution_count": 17,
   "metadata": {},
   "outputs": [
    {
     "data": {
      "text/plain": [
       "0.02917233711363131"
      ]
     },
     "execution_count": 17,
     "metadata": {},
     "output_type": "execute_result"
    }
   ],
   "source": [
    "gs_results.best_score_"
   ]
  },
  {
   "cell_type": "code",
   "execution_count": 18,
   "metadata": {},
   "outputs": [
    {
     "data": {
      "text/plain": [
       "KNeighborsClassifier(metric='euclidean', n_neighbors=38, weights='distance')"
      ]
     },
     "execution_count": 18,
     "metadata": {},
     "output_type": "execute_result"
    }
   ],
   "source": [
    "gs_results.best_estimator_"
   ]
  },
  {
   "cell_type": "code",
   "execution_count": 19,
   "metadata": {},
   "outputs": [
    {
     "data": {
      "text/plain": [
       "{'metric': 'euclidean', 'n_neighbors': 38, 'weights': 'distance'}"
      ]
     },
     "execution_count": 19,
     "metadata": {},
     "output_type": "execute_result"
    }
   ],
   "source": [
    "gs_results.best_params_"
   ]
  },
  {
   "cell_type": "code",
   "execution_count": 20,
   "metadata": {},
   "outputs": [
    {
     "data": {
      "text/plain": [
       "{'mean_fit_time': array([64.58770877, 60.2518034 , 59.24603933, 51.14301759, 50.15597928,\n",
       "        56.9834137 , 50.97933781, 51.89557314, 53.83034408, 54.06148022,\n",
       "        57.16432977, 65.94005066, 59.06041199, 57.58617723, 57.99922138,\n",
       "        53.23973244, 52.86612064, 56.48976964, 52.7183131 , 52.5220204 ,\n",
       "        54.38946033, 49.96923524, 49.87065458, 51.14834929]),\n",
       " 'std_fit_time': array([ 8.18199606, 14.7865112 ,  7.86131595, 11.68970707, 15.69562905,\n",
       "        10.35993335, 12.04552228, 12.75817545, 10.15747786, 13.22553548,\n",
       "        16.26622019, 11.64051829, 12.18236146, 14.03997585,  8.64195733,\n",
       "        11.22297248, 14.08947219,  9.29974242, 11.42180216, 13.2934202 ,\n",
       "         9.44331187, 11.47998926, 14.27770746,  3.10663458]),\n",
       " 'mean_score_time': array([20.1757769 , 22.96391505, 24.03899449, 25.31346542, 24.4475736 ,\n",
       "        26.79005581, 25.96347296, 24.53499389, 25.15102512, 27.05219209,\n",
       "        26.30720055, 29.20148289, 28.32852328, 26.66580778, 25.02888513,\n",
       "        25.28358138, 21.80885589, 24.60058963, 24.9903214 , 22.48763132,\n",
       "        24.49543732, 26.13025296, 24.02151036, 17.71053475]),\n",
       " 'std_score_time': array([1.01160288, 4.42174219, 0.49460921, 2.65252854, 1.35359873,\n",
       "        2.61102527, 2.66382187, 1.9893575 , 1.99594954, 3.27388045,\n",
       "        1.5463191 , 2.06777285, 2.18276052, 3.79172068, 2.10883697,\n",
       "        2.55317073, 1.37133654, 2.17202953, 1.63842858, 1.21702724,\n",
       "        2.35634483, 1.11564986, 4.17970653, 4.91509896]),\n",
       " 'param_metric': masked_array(data=['euclidean', 'euclidean', 'euclidean', 'euclidean',\n",
       "                    'euclidean', 'euclidean', 'euclidean', 'euclidean',\n",
       "                    'manhattan', 'manhattan', 'manhattan', 'manhattan',\n",
       "                    'manhattan', 'manhattan', 'manhattan', 'manhattan',\n",
       "                    'minkowski', 'minkowski', 'minkowski', 'minkowski',\n",
       "                    'minkowski', 'minkowski', 'minkowski', 'minkowski'],\n",
       "              mask=[False, False, False, False, False, False, False, False,\n",
       "                    False, False, False, False, False, False, False, False,\n",
       "                    False, False, False, False, False, False, False, False],\n",
       "        fill_value='?',\n",
       "             dtype=object),\n",
       " 'param_n_neighbors': masked_array(data=[38, 38, 40, 40, 42, 42, 44, 44, 38, 38, 40, 40, 42, 42,\n",
       "                    44, 44, 38, 38, 40, 40, 42, 42, 44, 44],\n",
       "              mask=[False, False, False, False, False, False, False, False,\n",
       "                    False, False, False, False, False, False, False, False,\n",
       "                    False, False, False, False, False, False, False, False],\n",
       "        fill_value='?',\n",
       "             dtype=object),\n",
       " 'param_weights': masked_array(data=['uniform', 'distance', 'uniform', 'distance',\n",
       "                    'uniform', 'distance', 'uniform', 'distance',\n",
       "                    'uniform', 'distance', 'uniform', 'distance',\n",
       "                    'uniform', 'distance', 'uniform', 'distance',\n",
       "                    'uniform', 'distance', 'uniform', 'distance',\n",
       "                    'uniform', 'distance', 'uniform', 'distance'],\n",
       "              mask=[False, False, False, False, False, False, False, False,\n",
       "                    False, False, False, False, False, False, False, False,\n",
       "                    False, False, False, False, False, False, False, False],\n",
       "        fill_value='?',\n",
       "             dtype=object),\n",
       " 'params': [{'metric': 'euclidean', 'n_neighbors': 38, 'weights': 'uniform'},\n",
       "  {'metric': 'euclidean', 'n_neighbors': 38, 'weights': 'distance'},\n",
       "  {'metric': 'euclidean', 'n_neighbors': 40, 'weights': 'uniform'},\n",
       "  {'metric': 'euclidean', 'n_neighbors': 40, 'weights': 'distance'},\n",
       "  {'metric': 'euclidean', 'n_neighbors': 42, 'weights': 'uniform'},\n",
       "  {'metric': 'euclidean', 'n_neighbors': 42, 'weights': 'distance'},\n",
       "  {'metric': 'euclidean', 'n_neighbors': 44, 'weights': 'uniform'},\n",
       "  {'metric': 'euclidean', 'n_neighbors': 44, 'weights': 'distance'},\n",
       "  {'metric': 'manhattan', 'n_neighbors': 38, 'weights': 'uniform'},\n",
       "  {'metric': 'manhattan', 'n_neighbors': 38, 'weights': 'distance'},\n",
       "  {'metric': 'manhattan', 'n_neighbors': 40, 'weights': 'uniform'},\n",
       "  {'metric': 'manhattan', 'n_neighbors': 40, 'weights': 'distance'},\n",
       "  {'metric': 'manhattan', 'n_neighbors': 42, 'weights': 'uniform'},\n",
       "  {'metric': 'manhattan', 'n_neighbors': 42, 'weights': 'distance'},\n",
       "  {'metric': 'manhattan', 'n_neighbors': 44, 'weights': 'uniform'},\n",
       "  {'metric': 'manhattan', 'n_neighbors': 44, 'weights': 'distance'},\n",
       "  {'metric': 'minkowski', 'n_neighbors': 38, 'weights': 'uniform'},\n",
       "  {'metric': 'minkowski', 'n_neighbors': 38, 'weights': 'distance'},\n",
       "  {'metric': 'minkowski', 'n_neighbors': 40, 'weights': 'uniform'},\n",
       "  {'metric': 'minkowski', 'n_neighbors': 40, 'weights': 'distance'},\n",
       "  {'metric': 'minkowski', 'n_neighbors': 42, 'weights': 'uniform'},\n",
       "  {'metric': 'minkowski', 'n_neighbors': 42, 'weights': 'distance'},\n",
       "  {'metric': 'minkowski', 'n_neighbors': 44, 'weights': 'uniform'},\n",
       "  {'metric': 'minkowski', 'n_neighbors': 44, 'weights': 'distance'}],\n",
       " 'split0_test_score': array([0.028     , 0.02933333, 0.028     , 0.02933333, 0.028     ,\n",
       "        0.02933333, 0.02733333, 0.02866667, 0.02666667, 0.02866667,\n",
       "        0.02666667, 0.02866667, 0.02666667, 0.02866667, 0.02666667,\n",
       "        0.028     , 0.028     , 0.02933333, 0.028     , 0.02933333,\n",
       "        0.028     , 0.02933333, 0.02733333, 0.02866667]),\n",
       " 'split1_test_score': array([0.02801868, 0.03402268, 0.02801868, 0.03402268, 0.02801868,\n",
       "        0.03335557, 0.02801868, 0.03335557, 0.02735157, 0.03335557,\n",
       "        0.02735157, 0.03268846, 0.02735157, 0.03268846, 0.02735157,\n",
       "        0.03268846, 0.02801868, 0.03402268, 0.02801868, 0.03402268,\n",
       "        0.02801868, 0.03335557, 0.02801868, 0.03335557]),\n",
       " 'split2_test_score': array([0.03133333, 0.03866667, 0.03133333, 0.038     , 0.03133333,\n",
       "        0.03866667, 0.03133333, 0.038     , 0.03066667, 0.03733333,\n",
       "        0.03      , 0.03733333, 0.03      , 0.03733333, 0.03      ,\n",
       "        0.03733333, 0.03133333, 0.03866667, 0.03133333, 0.038     ,\n",
       "        0.03133333, 0.03866667, 0.03133333, 0.038     ]),\n",
       " 'split3_test_score': array([0.01      , 0.01466667, 0.01      , 0.01466667, 0.01      ,\n",
       "        0.01466667, 0.01      , 0.01466667, 0.01      , 0.01466667,\n",
       "        0.01      , 0.01466667, 0.01      , 0.01466667, 0.01      ,\n",
       "        0.014     , 0.01      , 0.01466667, 0.01      , 0.01466667,\n",
       "        0.01      , 0.01466667, 0.01      , 0.01466667]),\n",
       " 'mean_test_score': array([0.024338  , 0.02917234, 0.024338  , 0.02900567, 0.024338  ,\n",
       "        0.02900556, 0.02417134, 0.02867223, 0.02367123, 0.02850556,\n",
       "        0.02350456, 0.02833878, 0.02350456, 0.02833878, 0.02350456,\n",
       "        0.02800545, 0.024338  , 0.02917234, 0.024338  , 0.02900567,\n",
       "        0.024338  , 0.02900556, 0.02417134, 0.02867223]),\n",
       " 'std_test_score': array([0.00838854, 0.00900151, 0.00838854, 0.00882869, 0.00838854,\n",
       "        0.00891587, 0.00832048, 0.00873351, 0.00803673, 0.00855852,\n",
       "        0.0078956 , 0.00846841, 0.0078956 , 0.00846841, 0.0078956 ,\n",
       "        0.00873345, 0.00838854, 0.00900151, 0.00838854, 0.00882869,\n",
       "        0.00838854, 0.00891587, 0.00832048, 0.00873351]),\n",
       " 'rank_test_score': array([13,  1, 13,  3, 13,  5, 19,  7, 21,  9, 22, 10, 22, 10, 22, 12, 13,\n",
       "         1, 13,  3, 13,  5, 19,  7])}"
      ]
     },
     "execution_count": 20,
     "metadata": {},
     "output_type": "execute_result"
    }
   ],
   "source": [
    "gs_results.cv_results_"
   ]
  },
  {
   "cell_type": "code",
   "execution_count": 21,
   "metadata": {},
   "outputs": [],
   "source": [
    "compression_opts = dict(method='zip',\n",
    "                        archive_name='out.csv')\n",
    "\n",
    "pd.DataFrame(gs_results.cv_results_).to_csv('out.zip', index=False,\n",
    "          compression=compression_opts)"
   ]
  }
 ],
 "metadata": {
  "kernelspec": {
   "display_name": "Python 3",
   "language": "python",
   "name": "python3"
  },
  "language_info": {
   "codemirror_mode": {
    "name": "ipython",
    "version": 3
   },
   "file_extension": ".py",
   "mimetype": "text/x-python",
   "name": "python",
   "nbconvert_exporter": "python",
   "pygments_lexer": "ipython3",
   "version": "3.8.3"
  }
 },
 "nbformat": 4,
 "nbformat_minor": 4
}
